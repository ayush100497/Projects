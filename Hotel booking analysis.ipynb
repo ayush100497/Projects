{
  "nbformat": 4,
  "nbformat_minor": 0,
  "metadata": {
    "kernelspec": {
      "display_name": "Python 3",
      "language": "python",
      "name": "python3"
    },
    "language_info": {
      "codemirror_mode": {
        "name": "ipython",
        "version": 3
      },
      "file_extension": ".py",
      "mimetype": "text/x-python",
      "name": "python",
      "nbconvert_exporter": "python",
      "pygments_lexer": "ipython3",
      "version": "3.6.6"
    },
    "colab": {
      "name": "Ayush of Hotel Booking Analysis - Capstone Project.ipynb",
      "provenance": [],
      "collapsed_sections": [],
      "include_colab_link": true
    }
  },
  "cells": [
    {
      "cell_type": "markdown",
      "metadata": {
        "id": "view-in-github",
        "colab_type": "text"
      },
      "source": [
        "<a href=\"https://colab.research.google.com/github/ayush100497/Projects/blob/main/Hotel%20booking%20analysis.ipynb\" target=\"_parent\"><img src=\"https://colab.research.google.com/assets/colab-badge.svg\" alt=\"Open In Colab\"/></a>"
      ]
    },
    {
      "cell_type": "markdown",
      "metadata": {
        "id": "Y06xIdG26kRF"
      },
      "source": [
        "## <b> Have you ever wondered when the best time of year to book a hotel room is? Or the optimal length of stay in order to get the best daily rate? What if you wanted to predict whether or not a hotel was likely to receive a disproportionately high number of special requests? This hotel booking dataset can help you explore those questions!\n",
        "\n",
        "## <b>This data set contains booking information for a city hotel and a resort hotel, and includes information such as when the booking was made, length of stay, the number of adults, children, and/or babies, and the number of available parking spaces, among other things. All personally identifying information has been removed from the data. </b>\n",
        "\n",
        "## <b> Explore and analyze the data to discover important factors that govern the bookings. </b>"
      ]
    },
    {
      "cell_type": "markdown",
      "metadata": {
        "id": "mGiCw54GIdFC"
      },
      "source": [
        "Before starting our analysis the first question thats comes in my mind is,\n",
        "# What is Exploratory Data Analysis?\n",
        "\n",
        "Exploratory data analysis (EDA) is used by data scientists to analyze and investigate data sets and summarize their main characteristics, often employing data visualization methods. It helps determine how best to manipulate data sources to get the answers you need, making it easier for data scientists to discover patterns, spot anomalies, test a hypothesis, or check assumptions.\n",
        "\n",
        "Basically it is a good practice to understand the data first and try to gather as many insights from it. EDA is all about making sense of data in hand,before getting them dirty with it."
      ]
    },
    {
      "cell_type": "markdown",
      "metadata": {
        "id": "APRksYItKMTh"
      },
      "source": [
        "To start with, I have imported necessary libraries (for this analysis **pandas, numpy, matplotlib**) and loaded the data set \"Hotel Bookings.csv\" by mounting my Google drive and using \"read_csv\" command in pandas."
      ]
    },
    {
      "cell_type": "code",
      "metadata": {
        "id": "dByMsuzT8Tnw"
      },
      "source": [
        "import pandas as pd\n",
        "import numpy as np\n",
        "import matplotlib.pyplot as plt\n"
      ],
      "execution_count": null,
      "outputs": []
    },
    {
      "cell_type": "code",
      "metadata": {
        "id": "-IrYc0H5BXyv",
        "colab": {
          "base_uri": "https://localhost:8080/"
        },
        "outputId": "40baa2a7-07ec-4f5f-cb9f-cf8b4e7d4fba"
      },
      "source": [
        "from google.colab import drive\n",
        "drive.mount('/content/drive')"
      ],
      "execution_count": null,
      "outputs": [
        {
          "output_type": "stream",
          "text": [
            "Drive already mounted at /content/drive; to attempt to forcibly remount, call drive.mount(\"/content/drive\", force_remount=True).\n"
          ],
          "name": "stdout"
        }
      ]
    },
    {
      "cell_type": "code",
      "metadata": {
        "id": "VYnOEwJlBSoQ",
        "colab": {
          "base_uri": "https://localhost:8080/"
        },
        "outputId": "c0c08f42-6bab-438e-ed14-782014157570"
      },
      "source": [
        "hotel_df = pd.read_csv(\"/content/drive/MyDrive/Team capstone project/Hotel Bookings.csv\")\n",
        "hotel_df.info()"
      ],
      "execution_count": null,
      "outputs": [
        {
          "output_type": "stream",
          "text": [
            "<class 'pandas.core.frame.DataFrame'>\n",
            "RangeIndex: 119390 entries, 0 to 119389\n",
            "Data columns (total 32 columns):\n",
            " #   Column                          Non-Null Count   Dtype  \n",
            "---  ------                          --------------   -----  \n",
            " 0   hotel                           119390 non-null  object \n",
            " 1   is_canceled                     119390 non-null  int64  \n",
            " 2   lead_time                       119390 non-null  int64  \n",
            " 3   arrival_date_year               119390 non-null  int64  \n",
            " 4   arrival_date_month              119390 non-null  object \n",
            " 5   arrival_date_week_number        119390 non-null  int64  \n",
            " 6   arrival_date_day_of_month       119390 non-null  int64  \n",
            " 7   stays_in_weekend_nights         119390 non-null  int64  \n",
            " 8   stays_in_week_nights            119390 non-null  int64  \n",
            " 9   adults                          119390 non-null  int64  \n",
            " 10  children                        119386 non-null  float64\n",
            " 11  babies                          119390 non-null  int64  \n",
            " 12  meal                            119390 non-null  object \n",
            " 13  country                         118902 non-null  object \n",
            " 14  market_segment                  119390 non-null  object \n",
            " 15  distribution_channel            119390 non-null  object \n",
            " 16  is_repeated_guest               119390 non-null  int64  \n",
            " 17  previous_cancellations          119390 non-null  int64  \n",
            " 18  previous_bookings_not_canceled  119390 non-null  int64  \n",
            " 19  reserved_room_type              119390 non-null  object \n",
            " 20  assigned_room_type              119390 non-null  object \n",
            " 21  booking_changes                 119390 non-null  int64  \n",
            " 22  deposit_type                    119390 non-null  object \n",
            " 23  agent                           103050 non-null  float64\n",
            " 24  company                         6797 non-null    float64\n",
            " 25  days_in_waiting_list            119390 non-null  int64  \n",
            " 26  customer_type                   119390 non-null  object \n",
            " 27  adr                             119390 non-null  float64\n",
            " 28  required_car_parking_spaces     119390 non-null  int64  \n",
            " 29  total_of_special_requests       119390 non-null  int64  \n",
            " 30  reservation_status              119390 non-null  object \n",
            " 31  reservation_status_date         119390 non-null  object \n",
            "dtypes: float64(4), int64(16), object(12)\n",
            "memory usage: 29.1+ MB\n"
          ],
          "name": "stdout"
        }
      ]
    },
    {
      "cell_type": "markdown",
      "metadata": {
        "id": "AWFwRvvMLviD"
      },
      "source": [
        "After mounting google drive we will start by rmoving duplicate rows and Nan values."
      ]
    },
    {
      "cell_type": "code",
      "metadata": {
        "colab": {
          "base_uri": "https://localhost:8080/"
        },
        "id": "5E-KytleKs-G",
        "outputId": "cd9512a5-bf20-4ca9-f802-7e48871ee454"
      },
      "source": [
        "# Droping duplicate values:\n",
        "duplicate_rows = hotel_df[hotel_df.duplicated()]\n",
        "print(duplicate_rows.shape) \n",
        "\n",
        "hotel_df = hotel_df.drop_duplicates()\n",
        "hotel_df.shape"
      ],
      "execution_count": null,
      "outputs": [
        {
          "output_type": "stream",
          "text": [
            "(31994, 32)\n"
          ],
          "name": "stdout"
        },
        {
          "output_type": "execute_result",
          "data": {
            "text/plain": [
              "(87396, 32)"
            ]
          },
          "metadata": {
            "tags": []
          },
          "execution_count": 10
        }
      ]
    },
    {
      "cell_type": "code",
      "metadata": {
        "id": "8c7FqOE7K0_Z",
        "colab": {
          "base_uri": "https://localhost:8080/"
        },
        "outputId": "a8e1950e-43d3-43aa-d63d-786146eed676"
      },
      "source": [
        "# Finding features/columns with Nan values \n",
        "# features_with_null_values\n",
        "hotel_df.drop(columns= [\"agent\", \"company\"], inplace= True)\n",
        "hotel_df.info()"
      ],
      "execution_count": null,
      "outputs": [
        {
          "output_type": "stream",
          "text": [
            "<class 'pandas.core.frame.DataFrame'>\n",
            "Int64Index: 87396 entries, 0 to 119389\n",
            "Data columns (total 30 columns):\n",
            " #   Column                          Non-Null Count  Dtype  \n",
            "---  ------                          --------------  -----  \n",
            " 0   hotel                           87396 non-null  object \n",
            " 1   is_canceled                     87396 non-null  int64  \n",
            " 2   lead_time                       87396 non-null  int64  \n",
            " 3   arrival_date_year               87396 non-null  int64  \n",
            " 4   arrival_date_month              87396 non-null  object \n",
            " 5   arrival_date_week_number        87396 non-null  int64  \n",
            " 6   arrival_date_day_of_month       87396 non-null  int64  \n",
            " 7   stays_in_weekend_nights         87396 non-null  int64  \n",
            " 8   stays_in_week_nights            87396 non-null  int64  \n",
            " 9   adults                          87396 non-null  int64  \n",
            " 10  children                        87392 non-null  float64\n",
            " 11  babies                          87396 non-null  int64  \n",
            " 12  meal                            87396 non-null  object \n",
            " 13  country                         86944 non-null  object \n",
            " 14  market_segment                  87396 non-null  object \n",
            " 15  distribution_channel            87396 non-null  object \n",
            " 16  is_repeated_guest               87396 non-null  int64  \n",
            " 17  previous_cancellations          87396 non-null  int64  \n",
            " 18  previous_bookings_not_canceled  87396 non-null  int64  \n",
            " 19  reserved_room_type              87396 non-null  object \n",
            " 20  assigned_room_type              87396 non-null  object \n",
            " 21  booking_changes                 87396 non-null  int64  \n",
            " 22  deposit_type                    87396 non-null  object \n",
            " 23  days_in_waiting_list            87396 non-null  int64  \n",
            " 24  customer_type                   87396 non-null  object \n",
            " 25  adr                             87396 non-null  float64\n",
            " 26  required_car_parking_spaces     87396 non-null  int64  \n",
            " 27  total_of_special_requests       87396 non-null  int64  \n",
            " 28  reservation_status              87396 non-null  object \n",
            " 29  reservation_status_date         87396 non-null  object \n",
            "dtypes: float64(2), int64(16), object(12)\n",
            "memory usage: 20.7+ MB\n"
          ],
          "name": "stdout"
        }
      ]
    },
    {
      "cell_type": "code",
      "metadata": {
        "colab": {
          "base_uri": "https://localhost:8080/"
        },
        "id": "H_7S_25mK2te",
        "outputId": "cfff57b8-0fe8-4745-9155-4f010bd347fc"
      },
      "source": [
        "# check for missing values\n",
        "hotel_df.isnull().sum()"
      ],
      "execution_count": null,
      "outputs": [
        {
          "output_type": "execute_result",
          "data": {
            "text/plain": [
              "hotel                               0\n",
              "is_canceled                         0\n",
              "lead_time                           0\n",
              "arrival_date_year                   0\n",
              "arrival_date_month                  0\n",
              "arrival_date_week_number            0\n",
              "arrival_date_day_of_month           0\n",
              "stays_in_weekend_nights             0\n",
              "stays_in_week_nights                0\n",
              "adults                              0\n",
              "children                            4\n",
              "babies                              0\n",
              "meal                                0\n",
              "country                           452\n",
              "market_segment                      0\n",
              "distribution_channel                0\n",
              "is_repeated_guest                   0\n",
              "previous_cancellations              0\n",
              "previous_bookings_not_canceled      0\n",
              "reserved_room_type                  0\n",
              "assigned_room_type                  0\n",
              "booking_changes                     0\n",
              "deposit_type                        0\n",
              "days_in_waiting_list                0\n",
              "customer_type                       0\n",
              "adr                                 0\n",
              "required_car_parking_spaces         0\n",
              "total_of_special_requests           0\n",
              "reservation_status                  0\n",
              "reservation_status_date             0\n",
              "dtype: int64"
            ]
          },
          "metadata": {
            "tags": []
          },
          "execution_count": 12
        }
      ]
    },
    {
      "cell_type": "code",
      "metadata": {
        "colab": {
          "base_uri": "https://localhost:8080/"
        },
        "id": "nb7dQdjhK40_",
        "outputId": "16579e16-610b-4dd7-8d2e-a59be2ec59ab"
      },
      "source": [
        "# Droping NaN values \n",
        "hotel_df = hotel_df.dropna()\n",
        "hotel_df.shape"
      ],
      "execution_count": null,
      "outputs": [
        {
          "output_type": "execute_result",
          "data": {
            "text/plain": [
              "(86940, 30)"
            ]
          },
          "metadata": {
            "tags": []
          },
          "execution_count": 13
        }
      ]
    },
    {
      "cell_type": "markdown",
      "metadata": {
        "id": "OHNTafxzL4ZW"
      },
      "source": [
        "We will find out the unique values of every column, it will make it easier to select the the columns for plots and also give us an idea of the type of most suitable visualization. We can also use methods like groupby based upon this data. Example if the a column has less unique values there are more chances to group the particular data by that column and it will also look attractive. "
      ]
    },
    {
      "cell_type": "code",
      "metadata": {
        "id": "hwyMlh4DBUTV",
        "colab": {
          "base_uri": "https://localhost:8080/"
        },
        "outputId": "f54be023-bada-4174-a457-555a5211e710"
      },
      "source": [
        "#unique values\n",
        "hotel_df.nunique()"
      ],
      "execution_count": null,
      "outputs": [
        {
          "output_type": "execute_result",
          "data": {
            "text/plain": [
              "hotel                                2\n",
              "is_canceled                          2\n",
              "lead_time                          479\n",
              "arrival_date_year                    3\n",
              "arrival_date_month                  12\n",
              "arrival_date_week_number            53\n",
              "arrival_date_day_of_month           31\n",
              "stays_in_weekend_nights             15\n",
              "stays_in_week_nights                33\n",
              "adults                              14\n",
              "children                             5\n",
              "babies                               5\n",
              "meal                                 5\n",
              "country                            177\n",
              "market_segment                       7\n",
              "distribution_channel                 5\n",
              "is_repeated_guest                    2\n",
              "previous_cancellations              15\n",
              "previous_bookings_not_canceled      73\n",
              "reserved_room_type                  10\n",
              "assigned_room_type                  12\n",
              "booking_changes                     21\n",
              "deposit_type                         3\n",
              "days_in_waiting_list               128\n",
              "customer_type                        4\n",
              "adr                               8870\n",
              "required_car_parking_spaces          5\n",
              "total_of_special_requests            6\n",
              "reservation_status                   3\n",
              "reservation_status_date            926\n",
              "dtype: int64"
            ]
          },
          "metadata": {
            "tags": []
          },
          "execution_count": 14
        }
      ]
    },
    {
      "cell_type": "code",
      "metadata": {
        "id": "EJygSw5WBU3K",
        "colab": {
          "base_uri": "https://localhost:8080/",
          "height": 309
        },
        "outputId": "f6207fe4-133d-4e1a-bfe1-a51303ddead4"
      },
      "source": [
        "hotel_df.head()"
      ],
      "execution_count": null,
      "outputs": [
        {
          "output_type": "execute_result",
          "data": {
            "text/html": [
              "<div>\n",
              "<style scoped>\n",
              "    .dataframe tbody tr th:only-of-type {\n",
              "        vertical-align: middle;\n",
              "    }\n",
              "\n",
              "    .dataframe tbody tr th {\n",
              "        vertical-align: top;\n",
              "    }\n",
              "\n",
              "    .dataframe thead th {\n",
              "        text-align: right;\n",
              "    }\n",
              "</style>\n",
              "<table border=\"1\" class=\"dataframe\">\n",
              "  <thead>\n",
              "    <tr style=\"text-align: right;\">\n",
              "      <th></th>\n",
              "      <th>hotel</th>\n",
              "      <th>is_canceled</th>\n",
              "      <th>lead_time</th>\n",
              "      <th>arrival_date_year</th>\n",
              "      <th>arrival_date_month</th>\n",
              "      <th>arrival_date_week_number</th>\n",
              "      <th>arrival_date_day_of_month</th>\n",
              "      <th>stays_in_weekend_nights</th>\n",
              "      <th>stays_in_week_nights</th>\n",
              "      <th>adults</th>\n",
              "      <th>children</th>\n",
              "      <th>babies</th>\n",
              "      <th>meal</th>\n",
              "      <th>country</th>\n",
              "      <th>market_segment</th>\n",
              "      <th>distribution_channel</th>\n",
              "      <th>is_repeated_guest</th>\n",
              "      <th>previous_cancellations</th>\n",
              "      <th>previous_bookings_not_canceled</th>\n",
              "      <th>reserved_room_type</th>\n",
              "      <th>assigned_room_type</th>\n",
              "      <th>booking_changes</th>\n",
              "      <th>deposit_type</th>\n",
              "      <th>days_in_waiting_list</th>\n",
              "      <th>customer_type</th>\n",
              "      <th>adr</th>\n",
              "      <th>required_car_parking_spaces</th>\n",
              "      <th>total_of_special_requests</th>\n",
              "      <th>reservation_status</th>\n",
              "      <th>reservation_status_date</th>\n",
              "    </tr>\n",
              "  </thead>\n",
              "  <tbody>\n",
              "    <tr>\n",
              "      <th>0</th>\n",
              "      <td>Resort Hotel</td>\n",
              "      <td>0</td>\n",
              "      <td>342</td>\n",
              "      <td>2015</td>\n",
              "      <td>July</td>\n",
              "      <td>27</td>\n",
              "      <td>1</td>\n",
              "      <td>0</td>\n",
              "      <td>0</td>\n",
              "      <td>2</td>\n",
              "      <td>0.0</td>\n",
              "      <td>0</td>\n",
              "      <td>BB</td>\n",
              "      <td>PRT</td>\n",
              "      <td>Direct</td>\n",
              "      <td>Direct</td>\n",
              "      <td>0</td>\n",
              "      <td>0</td>\n",
              "      <td>0</td>\n",
              "      <td>C</td>\n",
              "      <td>C</td>\n",
              "      <td>3</td>\n",
              "      <td>No Deposit</td>\n",
              "      <td>0</td>\n",
              "      <td>Transient</td>\n",
              "      <td>0.0</td>\n",
              "      <td>0</td>\n",
              "      <td>0</td>\n",
              "      <td>Check-Out</td>\n",
              "      <td>2015-07-01</td>\n",
              "    </tr>\n",
              "    <tr>\n",
              "      <th>1</th>\n",
              "      <td>Resort Hotel</td>\n",
              "      <td>0</td>\n",
              "      <td>737</td>\n",
              "      <td>2015</td>\n",
              "      <td>July</td>\n",
              "      <td>27</td>\n",
              "      <td>1</td>\n",
              "      <td>0</td>\n",
              "      <td>0</td>\n",
              "      <td>2</td>\n",
              "      <td>0.0</td>\n",
              "      <td>0</td>\n",
              "      <td>BB</td>\n",
              "      <td>PRT</td>\n",
              "      <td>Direct</td>\n",
              "      <td>Direct</td>\n",
              "      <td>0</td>\n",
              "      <td>0</td>\n",
              "      <td>0</td>\n",
              "      <td>C</td>\n",
              "      <td>C</td>\n",
              "      <td>4</td>\n",
              "      <td>No Deposit</td>\n",
              "      <td>0</td>\n",
              "      <td>Transient</td>\n",
              "      <td>0.0</td>\n",
              "      <td>0</td>\n",
              "      <td>0</td>\n",
              "      <td>Check-Out</td>\n",
              "      <td>2015-07-01</td>\n",
              "    </tr>\n",
              "    <tr>\n",
              "      <th>2</th>\n",
              "      <td>Resort Hotel</td>\n",
              "      <td>0</td>\n",
              "      <td>7</td>\n",
              "      <td>2015</td>\n",
              "      <td>July</td>\n",
              "      <td>27</td>\n",
              "      <td>1</td>\n",
              "      <td>0</td>\n",
              "      <td>1</td>\n",
              "      <td>1</td>\n",
              "      <td>0.0</td>\n",
              "      <td>0</td>\n",
              "      <td>BB</td>\n",
              "      <td>GBR</td>\n",
              "      <td>Direct</td>\n",
              "      <td>Direct</td>\n",
              "      <td>0</td>\n",
              "      <td>0</td>\n",
              "      <td>0</td>\n",
              "      <td>A</td>\n",
              "      <td>C</td>\n",
              "      <td>0</td>\n",
              "      <td>No Deposit</td>\n",
              "      <td>0</td>\n",
              "      <td>Transient</td>\n",
              "      <td>75.0</td>\n",
              "      <td>0</td>\n",
              "      <td>0</td>\n",
              "      <td>Check-Out</td>\n",
              "      <td>2015-07-02</td>\n",
              "    </tr>\n",
              "    <tr>\n",
              "      <th>3</th>\n",
              "      <td>Resort Hotel</td>\n",
              "      <td>0</td>\n",
              "      <td>13</td>\n",
              "      <td>2015</td>\n",
              "      <td>July</td>\n",
              "      <td>27</td>\n",
              "      <td>1</td>\n",
              "      <td>0</td>\n",
              "      <td>1</td>\n",
              "      <td>1</td>\n",
              "      <td>0.0</td>\n",
              "      <td>0</td>\n",
              "      <td>BB</td>\n",
              "      <td>GBR</td>\n",
              "      <td>Corporate</td>\n",
              "      <td>Corporate</td>\n",
              "      <td>0</td>\n",
              "      <td>0</td>\n",
              "      <td>0</td>\n",
              "      <td>A</td>\n",
              "      <td>A</td>\n",
              "      <td>0</td>\n",
              "      <td>No Deposit</td>\n",
              "      <td>0</td>\n",
              "      <td>Transient</td>\n",
              "      <td>75.0</td>\n",
              "      <td>0</td>\n",
              "      <td>0</td>\n",
              "      <td>Check-Out</td>\n",
              "      <td>2015-07-02</td>\n",
              "    </tr>\n",
              "    <tr>\n",
              "      <th>4</th>\n",
              "      <td>Resort Hotel</td>\n",
              "      <td>0</td>\n",
              "      <td>14</td>\n",
              "      <td>2015</td>\n",
              "      <td>July</td>\n",
              "      <td>27</td>\n",
              "      <td>1</td>\n",
              "      <td>0</td>\n",
              "      <td>2</td>\n",
              "      <td>2</td>\n",
              "      <td>0.0</td>\n",
              "      <td>0</td>\n",
              "      <td>BB</td>\n",
              "      <td>GBR</td>\n",
              "      <td>Online TA</td>\n",
              "      <td>TA/TO</td>\n",
              "      <td>0</td>\n",
              "      <td>0</td>\n",
              "      <td>0</td>\n",
              "      <td>A</td>\n",
              "      <td>A</td>\n",
              "      <td>0</td>\n",
              "      <td>No Deposit</td>\n",
              "      <td>0</td>\n",
              "      <td>Transient</td>\n",
              "      <td>98.0</td>\n",
              "      <td>0</td>\n",
              "      <td>1</td>\n",
              "      <td>Check-Out</td>\n",
              "      <td>2015-07-03</td>\n",
              "    </tr>\n",
              "  </tbody>\n",
              "</table>\n",
              "</div>"
            ],
            "text/plain": [
              "          hotel  is_canceled  ...  reservation_status  reservation_status_date\n",
              "0  Resort Hotel            0  ...           Check-Out               2015-07-01\n",
              "1  Resort Hotel            0  ...           Check-Out               2015-07-01\n",
              "2  Resort Hotel            0  ...           Check-Out               2015-07-02\n",
              "3  Resort Hotel            0  ...           Check-Out               2015-07-02\n",
              "4  Resort Hotel            0  ...           Check-Out               2015-07-03\n",
              "\n",
              "[5 rows x 30 columns]"
            ]
          },
          "metadata": {
            "tags": []
          },
          "execution_count": 15
        }
      ]
    },
    {
      "cell_type": "code",
      "metadata": {
        "id": "GK3Ny3fQBmOJ",
        "colab": {
          "base_uri": "https://localhost:8080/"
        },
        "outputId": "e7756b33-c4ce-4833-ce49-137319b52c1c"
      },
      "source": [
        "hotel_df.info()"
      ],
      "execution_count": null,
      "outputs": [
        {
          "output_type": "stream",
          "text": [
            "<class 'pandas.core.frame.DataFrame'>\n",
            "Int64Index: 86940 entries, 0 to 119389\n",
            "Data columns (total 30 columns):\n",
            " #   Column                          Non-Null Count  Dtype  \n",
            "---  ------                          --------------  -----  \n",
            " 0   hotel                           86940 non-null  object \n",
            " 1   is_canceled                     86940 non-null  int64  \n",
            " 2   lead_time                       86940 non-null  int64  \n",
            " 3   arrival_date_year               86940 non-null  int64  \n",
            " 4   arrival_date_month              86940 non-null  object \n",
            " 5   arrival_date_week_number        86940 non-null  int64  \n",
            " 6   arrival_date_day_of_month       86940 non-null  int64  \n",
            " 7   stays_in_weekend_nights         86940 non-null  int64  \n",
            " 8   stays_in_week_nights            86940 non-null  int64  \n",
            " 9   adults                          86940 non-null  int64  \n",
            " 10  children                        86940 non-null  float64\n",
            " 11  babies                          86940 non-null  int64  \n",
            " 12  meal                            86940 non-null  object \n",
            " 13  country                         86940 non-null  object \n",
            " 14  market_segment                  86940 non-null  object \n",
            " 15  distribution_channel            86940 non-null  object \n",
            " 16  is_repeated_guest               86940 non-null  int64  \n",
            " 17  previous_cancellations          86940 non-null  int64  \n",
            " 18  previous_bookings_not_canceled  86940 non-null  int64  \n",
            " 19  reserved_room_type              86940 non-null  object \n",
            " 20  assigned_room_type              86940 non-null  object \n",
            " 21  booking_changes                 86940 non-null  int64  \n",
            " 22  deposit_type                    86940 non-null  object \n",
            " 23  days_in_waiting_list            86940 non-null  int64  \n",
            " 24  customer_type                   86940 non-null  object \n",
            " 25  adr                             86940 non-null  float64\n",
            " 26  required_car_parking_spaces     86940 non-null  int64  \n",
            " 27  total_of_special_requests       86940 non-null  int64  \n",
            " 28  reservation_status              86940 non-null  object \n",
            " 29  reservation_status_date         86940 non-null  object \n",
            "dtypes: float64(2), int64(16), object(12)\n",
            "memory usage: 20.6+ MB\n"
          ],
          "name": "stdout"
        }
      ]
    },
    {
      "cell_type": "code",
      "metadata": {
        "id": "Tfb9HQNKBxQL",
        "colab": {
          "base_uri": "https://localhost:8080/"
        },
        "outputId": "8b34dcab-7e75-48db-9f95-184c2924721b"
      },
      "source": [
        "hotel_df['customer_type'].unique()\n",
        "#calculating total nights as a sum of weekday and weekend nights\n",
        "hotel_df[\"total_nights\"] = hotel_df['stays_in_weekend_nights'] + hotel_df['stays_in_week_nights']\n",
        "hotel_df['new_days_in_waiting_list'] = hotel_df['days_in_waiting_list'].mean()\n",
        "# hotel_df['month_no.'] = hotel_df['arrival_date_month'].replace([\"January\" , \"A January\"],['February' , \"B February\"],[ 'March' , \"C March\"],[ 'April' , \"D April\",'May' , \"E May\"],['June' , 'F June'],['July' , 'G July'],['August' , 'H August'],['September' , 'I September'],['October' , 'J October'],['November' , 'K November'],['December' , \"L December\"])\n",
        "hotel_df['month_number'] = hotel_df['arrival_date_month'].replace({ \"January\" : \"A January\", 'February' : \"B February\", 'March' : \"C March\", 'April' : \"D April\",'May' : \"E May\",'June' : 'F June','July' : 'G July','August' : 'H August','September' : 'I September','October' : 'J October','November' : 'K November','December' : \"L December\"},inplace = True)\n",
        "hotel_df['year_month'] = hotel_df['arrival_date_year'].astype(str) + \" \" + hotel_df['arrival_date_month'].astype(str)\n",
        "hotel_df.sort_values(\"year_month\", axis = 0, ascending = True, inplace = True)\n",
        "\n",
        "# hotel_df['month_no.'] = hotel_df['arrival_date_month'].replace({ \"January\" : \"A January\", 'February' : \"B February\", 'March' : \"C March\", 'April' : \"D April\",'May' : \"E May\",'June' : 'F June','July' : 'G July','August' : 'H August','September' : 'I September','October' : 'J October','November' : 'K November','December' : \"L December\"},inplace = True)\n",
        "# hotel_df[\"column1\"].replace({\"a\": \"x\", \"b\": \"y\"}, inplace=True)\n",
        "hotel_df['new_days_in_waiting_list'].value_counts()"
      ],
      "execution_count": null,
      "outputs": [
        {
          "output_type": "execute_result",
          "data": {
            "text/plain": [
              "0.753497    86940\n",
              "Name: new_days_in_waiting_list, dtype: int64"
            ]
          },
          "metadata": {
            "tags": []
          },
          "execution_count": 17
        }
      ]
    },
    {
      "cell_type": "code",
      "metadata": {
        "id": "trKu1cIQB_mS"
      },
      "source": [
        "#repeated guests\n",
        "rep_guest = hotel_df[hotel_df['is_repeated_guest'] == 1]\n",
        "#Cancelled and non cancelled\n",
        "hotels_not_cancelled = hotel_df[hotel_df['is_canceled'] == 0]\n",
        "hotels_cancelled = hotel_df[hotel_df['is_canceled'] == 1]\n"
      ],
      "execution_count": null,
      "outputs": []
    },
    {
      "cell_type": "markdown",
      "metadata": {
        "id": "YoxkM8nKGAl7"
      },
      "source": [
        "1) What is the percentage of repeating customers?"
      ]
    },
    {
      "cell_type": "code",
      "metadata": {
        "id": "TtL5-BaFF22M",
        "colab": {
          "base_uri": "https://localhost:8080/",
          "height": 414
        },
        "outputId": "d0159248-6bd2-4543-995e-cbe2563b7d40"
      },
      "source": [
        "#Total number of repeated guests grouped by hotel type\n",
        "customer_count = rep_guest['hotel'].value_counts().reset_index()\n",
        "#Total number of arrivals grouped by hotel type\n",
        "guests_coming = hotels_not_cancelled['hotel'].value_counts().reset_index()\n",
        "#assigning column values\n",
        "guests_coming.columns = ['Hotels','Guests_arriving']\n",
        "#Concat two dataframes\n",
        "guests_coming = pd.concat([guests_coming,customer_count],axis =1)\n",
        "#removing the duplicate column\n",
        "guests_coming.pop('index')\n",
        "guests_coming.columns = ['Hotels','Guests_arriving','Repeated_guests']\n",
        "#calculating repitition percentage\n",
        "guests_coming['Repitition%'] = round(guests_coming['Repeated_guests']/guests_coming['Guests_arriving']*100)\n",
        "guests_coming\n",
        "#plotting the repeated guest and total guests together\n",
        "guests_coming.plot(x='Hotels', y=['Guests_arriving', 'Repeated_guests'], figsize=(10,5), grid=True, kind ='barh')\n",
        "guests_coming"
      ],
      "execution_count": null,
      "outputs": [
        {
          "output_type": "execute_result",
          "data": {
            "text/html": [
              "<div>\n",
              "<style scoped>\n",
              "    .dataframe tbody tr th:only-of-type {\n",
              "        vertical-align: middle;\n",
              "    }\n",
              "\n",
              "    .dataframe tbody tr th {\n",
              "        vertical-align: top;\n",
              "    }\n",
              "\n",
              "    .dataframe thead th {\n",
              "        text-align: right;\n",
              "    }\n",
              "</style>\n",
              "<table border=\"1\" class=\"dataframe\">\n",
              "  <thead>\n",
              "    <tr style=\"text-align: right;\">\n",
              "      <th></th>\n",
              "      <th>Hotels</th>\n",
              "      <th>Guests_arriving</th>\n",
              "      <th>Repeated_guests</th>\n",
              "      <th>Repitition%</th>\n",
              "    </tr>\n",
              "  </thead>\n",
              "  <tbody>\n",
              "    <tr>\n",
              "      <th>0</th>\n",
              "      <td>City Hotel</td>\n",
              "      <td>37377</td>\n",
              "      <td>1708</td>\n",
              "      <td>5.0</td>\n",
              "    </tr>\n",
              "    <tr>\n",
              "      <th>1</th>\n",
              "      <td>Resort Hotel</td>\n",
              "      <td>25576</td>\n",
              "      <td>1703</td>\n",
              "      <td>7.0</td>\n",
              "    </tr>\n",
              "  </tbody>\n",
              "</table>\n",
              "</div>"
            ],
            "text/plain": [
              "         Hotels  Guests_arriving  Repeated_guests  Repitition%\n",
              "0    City Hotel            37377             1708          5.0\n",
              "1  Resort Hotel            25576             1703          7.0"
            ]
          },
          "metadata": {
            "tags": []
          },
          "execution_count": 19
        },
        {
          "output_type": "display_data",
          "data": {
            "image/png": "[encoded data removed]",
            "text/plain": [
              "<Figure size 720x360 with 1 Axes>"
            ]
          },
          "metadata": {
            "tags": [],
            "needs_background": "light"
          }
        }
      ]
    },
    {
      "cell_type": "markdown",
      "metadata": {
        "id": "PqDB6M5jDlhO"
      },
      "source": [
        "**Conclusion :** We have an equal average of repeating customers visiting city hotel and resort hotel. This shows the regular visitors who prefer their stays in the particular hotel. Both of them have an almost equal repition rate - 1708 for city hotel that is 5% and 1703 for resort hotel taht is 7%."
      ]
    },
    {
      "cell_type": "code",
      "metadata": {
        "id": "nS1fCpMeEb37"
      },
      "source": [
        "# hotel_df[hotel_df['stays_in_weekend_nights'] > 1]"
      ],
      "execution_count": null,
      "outputs": []
    },
    {
      "cell_type": "code",
      "metadata": {
        "id": "bM123EqFGJmE",
        "colab": {
          "base_uri": "https://localhost:8080/",
          "height": 1000
        },
        "outputId": "57176d4f-4520-412a-c8f2-0b7744eba584"
      },
      "source": [
        "#Average waiting days per month per year\n",
        "hotels_not_cancelled.groupby('year_month')['days_in_waiting_list'].mean().sort_values(ascending = False)\n",
        "print('Customers are more likely to wait in August in 2016 before the booking is confirmed')\n",
        "hotels_not_cancelled.groupby('year_month')['days_in_waiting_list'].sum().plot(kind='line', figsize = (10,10))\n",
        "print(round(hotels_not_cancelled.groupby('year_month')['days_in_waiting_list'].sum()))\n",
        "hotels_not_cancelled['year_month'].value_counts()\n"
      ],
      "execution_count": null,
      "outputs": [
        {
          "output_type": "stream",
          "text": [
            "Customers are more likely to wait in August in 2016 before the booking is confirmed\n",
            "year_month\n",
            "2015 G July            0\n",
            "2015 H August          0\n",
            "2015 I September    1489\n",
            "2015 J October      3472\n",
            "2015 K November     2585\n",
            "2015 L December     3614\n",
            "2016 A January      3265\n",
            "2016 B February        0\n",
            "2016 C March          58\n",
            "2016 D April        4442\n",
            "2016 E May          6156\n",
            "2016 F June         1718\n",
            "2016 G July          534\n",
            "2016 H August       2009\n",
            "2016 I September    5780\n",
            "2016 J October      5196\n",
            "2016 K November      149\n",
            "2016 L December      596\n",
            "2017 A January       229\n",
            "2017 B February      738\n",
            "2017 C March        1737\n",
            "2017 D April        1257\n",
            "2017 E May           639\n",
            "2017 F June           59\n",
            "2017 G July           34\n",
            "2017 H August          0\n",
            "Name: days_in_waiting_list, dtype: int64\n"
          ],
          "name": "stdout"
        },
        {
          "output_type": "execute_result",
          "data": {
            "text/plain": [
              "2017 E May          3074\n",
              "2016 J October      3007\n",
              "2016 H August       2973\n",
              "2017 G July         2936\n",
              "2016 C March        2911\n",
              "2016 E May          2827\n",
              "2017 F June         2805\n",
              "2017 H August       2771\n",
              "2016 I September    2764\n",
              "2016 G July         2747\n",
              "2016 D April        2734\n",
              "2017 D April        2733\n",
              "2017 C March        2719\n",
              "2016 F June         2595\n",
              "2016 K November     2499\n",
              "2017 B February     2383\n",
              "2015 I September    2259\n",
              "2016 B February     2246\n",
              "2015 J October      2239\n",
              "2016 L December     2119\n",
              "2017 A January      2086\n",
              "2015 H August       1870\n",
              "2015 L December     1590\n",
              "2016 A January      1515\n",
              "2015 K November     1402\n",
              "2015 G July         1149\n",
              "Name: year_month, dtype: int64"
            ]
          },
          "metadata": {
            "tags": []
          },
          "execution_count": 21
        },
        {
          "output_type": "display_data",
          "data": {
            "image/png": "[encoded data removed]",
            "text/plain": [
              "<Figure size 720x720 with 1 Axes>"
            ]
          },
          "metadata": {
            "tags": [],
            "needs_background": "light"
          }
        }
      ]
    },
    {
      "cell_type": "code",
      "metadata": {
        "id": "JkAW7L-jFCGh",
        "colab": {
          "base_uri": "https://localhost:8080/",
          "height": 1000
        },
        "outputId": "78553778-2bea-4747-a83a-50ffc19fce08"
      },
      "source": [
        "#Total arrivals per month per year\n",
        "hotels_not_cancelled.groupby('year_month')['is_canceled'].count().sort_values(ascending = False).plot(kind='barh', figsize =(20,20))"
      ],
      "execution_count": null,
      "outputs": [
        {
          "output_type": "execute_result",
          "data": {
            "text/plain": [
              "<matplotlib.axes._subplots.AxesSubplot at 0x7fa0d374abd0>"
            ]
          },
          "metadata": {
            "tags": []
          },
          "execution_count": 22
        },
        {
          "output_type": "display_data",
          "data": {
            "image/png": "[encoded data removed]",
            "text/plain": [
              "<Figure size 1440x1440 with 1 Axes>"
            ]
          },
          "metadata": {
            "tags": [],
            "needs_background": "light"
          }
        }
      ]
    },
    {
      "cell_type": "code",
      "metadata": {
        "id": "IqwtcRJAF2zD",
        "colab": {
          "base_uri": "https://localhost:8080/",
          "height": 855
        },
        "outputId": "17c32ba6-bc85-4a72-d9f6-9acb37bc5dee"
      },
      "source": [
        "#concatenation of two data frames containing sum of arrivals and average of waiting time per month.\n",
        "new_hotels_df = hotels_not_cancelled['year_month'].value_counts().reset_index()\n",
        "new_hotels_df.sort_values(\"index\", axis = 0, ascending = True, inplace = True)\n",
        "new_hotels_df.rename(columns = {'year_month' : 'Arrivals','index':'year_month'}, inplace = True)\n",
        "arrival = new_hotels_df['Arrivals']\n",
        "average_waiting = hotels_not_cancelled.groupby('year_month')['days_in_waiting_list'].sum().reset_index()\n",
        "average_waiting.sort_values(\"year_month\", axis = 0, ascending = True, inplace = True)\n",
        "#adding merge command on year_month\n",
        "avg_wait = pd.merge(average_waiting, new_hotels_df, on=\"year_month\")\n",
        "avg_wait['waitings days above and below average'] = avg_wait['days_in_waiting_list'] - avg_wait['days_in_waiting_list'].mean()\n",
        "avg_wait.sort_values(\"waitings days above and below average\", axis = 0, ascending = False, inplace = True)\n",
        "avg_wait"
      ],
      "execution_count": null,
      "outputs": [
        {
          "output_type": "execute_result",
          "data": {
            "text/html": [
              "<div>\n",
              "<style scoped>\n",
              "    .dataframe tbody tr th:only-of-type {\n",
              "        vertical-align: middle;\n",
              "    }\n",
              "\n",
              "    .dataframe tbody tr th {\n",
              "        vertical-align: top;\n",
              "    }\n",
              "\n",
              "    .dataframe thead th {\n",
              "        text-align: right;\n",
              "    }\n",
              "</style>\n",
              "<table border=\"1\" class=\"dataframe\">\n",
              "  <thead>\n",
              "    <tr style=\"text-align: right;\">\n",
              "      <th></th>\n",
              "      <th>year_month</th>\n",
              "      <th>days_in_waiting_list</th>\n",
              "      <th>Arrivals</th>\n",
              "      <th>waitings days above and below average</th>\n",
              "    </tr>\n",
              "  </thead>\n",
              "  <tbody>\n",
              "    <tr>\n",
              "      <th>10</th>\n",
              "      <td>2016 E May</td>\n",
              "      <td>6156</td>\n",
              "      <td>2827</td>\n",
              "      <td>4396.153846</td>\n",
              "    </tr>\n",
              "    <tr>\n",
              "      <th>14</th>\n",
              "      <td>2016 I September</td>\n",
              "      <td>5780</td>\n",
              "      <td>2764</td>\n",
              "      <td>4020.153846</td>\n",
              "    </tr>\n",
              "    <tr>\n",
              "      <th>15</th>\n",
              "      <td>2016 J October</td>\n",
              "      <td>5196</td>\n",
              "      <td>3007</td>\n",
              "      <td>3436.153846</td>\n",
              "    </tr>\n",
              "    <tr>\n",
              "      <th>9</th>\n",
              "      <td>2016 D April</td>\n",
              "      <td>4442</td>\n",
              "      <td>2734</td>\n",
              "      <td>2682.153846</td>\n",
              "    </tr>\n",
              "    <tr>\n",
              "      <th>5</th>\n",
              "      <td>2015 L December</td>\n",
              "      <td>3614</td>\n",
              "      <td>1590</td>\n",
              "      <td>1854.153846</td>\n",
              "    </tr>\n",
              "    <tr>\n",
              "      <th>3</th>\n",
              "      <td>2015 J October</td>\n",
              "      <td>3472</td>\n",
              "      <td>2239</td>\n",
              "      <td>1712.153846</td>\n",
              "    </tr>\n",
              "    <tr>\n",
              "      <th>6</th>\n",
              "      <td>2016 A January</td>\n",
              "      <td>3265</td>\n",
              "      <td>1515</td>\n",
              "      <td>1505.153846</td>\n",
              "    </tr>\n",
              "    <tr>\n",
              "      <th>4</th>\n",
              "      <td>2015 K November</td>\n",
              "      <td>2585</td>\n",
              "      <td>1402</td>\n",
              "      <td>825.153846</td>\n",
              "    </tr>\n",
              "    <tr>\n",
              "      <th>13</th>\n",
              "      <td>2016 H August</td>\n",
              "      <td>2009</td>\n",
              "      <td>2973</td>\n",
              "      <td>249.153846</td>\n",
              "    </tr>\n",
              "    <tr>\n",
              "      <th>20</th>\n",
              "      <td>2017 C March</td>\n",
              "      <td>1737</td>\n",
              "      <td>2719</td>\n",
              "      <td>-22.846154</td>\n",
              "    </tr>\n",
              "    <tr>\n",
              "      <th>11</th>\n",
              "      <td>2016 F June</td>\n",
              "      <td>1718</td>\n",
              "      <td>2595</td>\n",
              "      <td>-41.846154</td>\n",
              "    </tr>\n",
              "    <tr>\n",
              "      <th>2</th>\n",
              "      <td>2015 I September</td>\n",
              "      <td>1489</td>\n",
              "      <td>2259</td>\n",
              "      <td>-270.846154</td>\n",
              "    </tr>\n",
              "    <tr>\n",
              "      <th>21</th>\n",
              "      <td>2017 D April</td>\n",
              "      <td>1257</td>\n",
              "      <td>2733</td>\n",
              "      <td>-502.846154</td>\n",
              "    </tr>\n",
              "    <tr>\n",
              "      <th>19</th>\n",
              "      <td>2017 B February</td>\n",
              "      <td>738</td>\n",
              "      <td>2383</td>\n",
              "      <td>-1021.846154</td>\n",
              "    </tr>\n",
              "    <tr>\n",
              "      <th>22</th>\n",
              "      <td>2017 E May</td>\n",
              "      <td>639</td>\n",
              "      <td>3074</td>\n",
              "      <td>-1120.846154</td>\n",
              "    </tr>\n",
              "    <tr>\n",
              "      <th>17</th>\n",
              "      <td>2016 L December</td>\n",
              "      <td>596</td>\n",
              "      <td>2119</td>\n",
              "      <td>-1163.846154</td>\n",
              "    </tr>\n",
              "    <tr>\n",
              "      <th>12</th>\n",
              "      <td>2016 G July</td>\n",
              "      <td>534</td>\n",
              "      <td>2747</td>\n",
              "      <td>-1225.846154</td>\n",
              "    </tr>\n",
              "    <tr>\n",
              "      <th>18</th>\n",
              "      <td>2017 A January</td>\n",
              "      <td>229</td>\n",
              "      <td>2086</td>\n",
              "      <td>-1530.846154</td>\n",
              "    </tr>\n",
              "    <tr>\n",
              "      <th>16</th>\n",
              "      <td>2016 K November</td>\n",
              "      <td>149</td>\n",
              "      <td>2499</td>\n",
              "      <td>-1610.846154</td>\n",
              "    </tr>\n",
              "    <tr>\n",
              "      <th>23</th>\n",
              "      <td>2017 F June</td>\n",
              "      <td>59</td>\n",
              "      <td>2805</td>\n",
              "      <td>-1700.846154</td>\n",
              "    </tr>\n",
              "    <tr>\n",
              "      <th>8</th>\n",
              "      <td>2016 C March</td>\n",
              "      <td>58</td>\n",
              "      <td>2911</td>\n",
              "      <td>-1701.846154</td>\n",
              "    </tr>\n",
              "    <tr>\n",
              "      <th>24</th>\n",
              "      <td>2017 G July</td>\n",
              "      <td>34</td>\n",
              "      <td>2936</td>\n",
              "      <td>-1725.846154</td>\n",
              "    </tr>\n",
              "    <tr>\n",
              "      <th>0</th>\n",
              "      <td>2015 G July</td>\n",
              "      <td>0</td>\n",
              "      <td>1149</td>\n",
              "      <td>-1759.846154</td>\n",
              "    </tr>\n",
              "    <tr>\n",
              "      <th>1</th>\n",
              "      <td>2015 H August</td>\n",
              "      <td>0</td>\n",
              "      <td>1870</td>\n",
              "      <td>-1759.846154</td>\n",
              "    </tr>\n",
              "    <tr>\n",
              "      <th>7</th>\n",
              "      <td>2016 B February</td>\n",
              "      <td>0</td>\n",
              "      <td>2246</td>\n",
              "      <td>-1759.846154</td>\n",
              "    </tr>\n",
              "    <tr>\n",
              "      <th>25</th>\n",
              "      <td>2017 H August</td>\n",
              "      <td>0</td>\n",
              "      <td>2771</td>\n",
              "      <td>-1759.846154</td>\n",
              "    </tr>\n",
              "  </tbody>\n",
              "</table>\n",
              "</div>"
            ],
            "text/plain": [
              "          year_month  ...  waitings days above and below average\n",
              "10        2016 E May  ...                            4396.153846\n",
              "14  2016 I September  ...                            4020.153846\n",
              "15    2016 J October  ...                            3436.153846\n",
              "9       2016 D April  ...                            2682.153846\n",
              "5    2015 L December  ...                            1854.153846\n",
              "3     2015 J October  ...                            1712.153846\n",
              "6     2016 A January  ...                            1505.153846\n",
              "4    2015 K November  ...                             825.153846\n",
              "13     2016 H August  ...                             249.153846\n",
              "20      2017 C March  ...                             -22.846154\n",
              "11       2016 F June  ...                             -41.846154\n",
              "2   2015 I September  ...                            -270.846154\n",
              "21      2017 D April  ...                            -502.846154\n",
              "19   2017 B February  ...                           -1021.846154\n",
              "22        2017 E May  ...                           -1120.846154\n",
              "17   2016 L December  ...                           -1163.846154\n",
              "12       2016 G July  ...                           -1225.846154\n",
              "18    2017 A January  ...                           -1530.846154\n",
              "16   2016 K November  ...                           -1610.846154\n",
              "23       2017 F June  ...                           -1700.846154\n",
              "8       2016 C March  ...                           -1701.846154\n",
              "24       2017 G July  ...                           -1725.846154\n",
              "0        2015 G July  ...                           -1759.846154\n",
              "1      2015 H August  ...                           -1759.846154\n",
              "7    2016 B February  ...                           -1759.846154\n",
              "25     2017 H August  ...                           -1759.846154\n",
              "\n",
              "[26 rows x 4 columns]"
            ]
          },
          "metadata": {
            "tags": []
          },
          "execution_count": 23
        }
      ]
    },
    {
      "cell_type": "markdown",
      "metadata": {
        "id": "e2tz1t1RO8QB"
      },
      "source": [
        "3) Proportion of waiting days below and above average? **DOUBT**"
      ]
    },
    {
      "cell_type": "code",
      "metadata": {
        "colab": {
          "base_uri": "https://localhost:8080/"
        },
        "id": "TzX-ygZofUcq",
        "outputId": "c5a00935-161f-46ad-ac12-840b223fae80"
      },
      "source": [
        "#concatenation of two data frames containing sum of arrivals and average of waiting time per month.\n",
        "new_hotels_df = hotels_not_cancelled['year_month'].value_counts().reset_index()\n",
        "new_hotels_df.sort_values(\"index\", axis = 0, ascending = True, inplace = True)\n",
        "new_hotels_df.rename(columns = {'year_month' : 'Arrivals','index':'year_month'}, inplace = True)\n",
        "arrival = new_hotels_df['Arrivals']\n",
        "average_waiting = hotels_not_cancelled.groupby('year_month')['days_in_waiting_list'].sum().reset_index()\n",
        "average_waiting.sort_values(\"year_month\", axis = 0, ascending = True, inplace = True)\n",
        "\n",
        "#adding merge command on year_month\n",
        "avg_wait = pd.merge(average_waiting, new_hotels_df, on=\"year_month\")\n",
        "avg_wait['waitings days above and below average'] = avg_wait['days_in_waiting_list'] - avg_wait['days_in_waiting_list'].mean()\n",
        "avg_wait.sort_values(\"waitings days above and below average\", axis = 0, ascending = False, inplace = True)\n",
        "avg_wait\n",
        "#Creating difference of average waiting of of 2015\n",
        "df_2015_arrivals = hotels_not_cancelled[hotels_not_cancelled['arrival_date_year'] == 2015]\n",
        "df_2015_arrivals_waiting_average = df_2015_arrivals.groupby('arrival_date_month')['days_in_waiting_list'].sum() - (df_2015_arrivals['days_in_waiting_list'].sum()/6)\n",
        "print('\\n\\n2015')\n",
        "print(df_2015_arrivals_waiting_average.reset_index().sort_values(by = 'days_in_waiting_list', ascending = False))\n",
        "#Creating difference of average waiting of of 2016\n",
        "df_2016_arrivals = hotels_not_cancelled[hotels_not_cancelled['arrival_date_year'] == 2016]\n",
        "df_2016_arrivals_waiting_average = df_2016_arrivals.groupby('arrival_date_month')['days_in_waiting_list'].sum() - (df_2016_arrivals['days_in_waiting_list'].sum()/12)\n",
        "print('2016')\n",
        "print(df_2016_arrivals_waiting_average.reset_index().sort_values(by = 'days_in_waiting_list', ascending = False))\n",
        "#Creating difference of average waiting of of 2017\n",
        "df_2017_arrivals = hotels_not_cancelled[hotels_not_cancelled['arrival_date_year'] == 2017]\n",
        "df_2017_arrivals_waiting_average = df_2017_arrivals.groupby('arrival_date_month')['days_in_waiting_list'].sum() - (df_2017_arrivals['days_in_waiting_list'].sum()/8)\n",
        "print('\\n\\n2017')\n",
        "print(df_2017_arrivals_waiting_average.reset_index().sort_values(by = 'days_in_waiting_list', ascending = False))"
      ],
      "execution_count": null,
      "outputs": [
        {
          "output_type": "stream",
          "text": [
            "\n",
            "\n",
            "2015\n",
            "  arrival_date_month  days_in_waiting_list\n",
            "5         L December                1754.0\n",
            "3          J October                1612.0\n",
            "4         K November                 725.0\n",
            "2        I September                -371.0\n",
            "0             G July               -1860.0\n",
            "1           H August               -1860.0\n",
            "2016\n",
            "   arrival_date_month  days_in_waiting_list\n",
            "4               E May           3664.083333\n",
            "8         I September           3288.083333\n",
            "9           J October           2704.083333\n",
            "3             D April           1950.083333\n",
            "0           A January            773.083333\n",
            "7            H August           -482.916667\n",
            "5              F June           -773.916667\n",
            "11         L December          -1895.916667\n",
            "6              G July          -1957.916667\n",
            "10         K November          -2342.916667\n",
            "2             C March          -2433.916667\n",
            "1          B February          -2491.916667\n",
            "\n",
            "\n",
            "2017\n",
            "  arrival_date_month  days_in_waiting_list\n",
            "2            C March              1150.375\n",
            "3            D April               670.375\n",
            "1         B February               151.375\n",
            "4              E May                52.375\n",
            "0          A January              -357.625\n",
            "5             F June              -527.625\n",
            "6             G July              -552.625\n",
            "7           H August              -586.625\n"
          ],
          "name": "stdout"
        }
      ]
    },
    {
      "cell_type": "markdown",
      "metadata": {
        "id": "r51EvhWbFm8h"
      },
      "source": [
        "**Conclusion :** The above two graphs shows us that we have higher than approximate average waiting days in January, April, December, May, September, October and our higher arrivals are in august, july, may, march, april, june. Out of these months during season we need to focus on two months august and may, as we are having a higher waiting time and higher arrivals. We also have a higher standard deviation in Feb, and slightly lower arrivals but they should also be focused upon."
      ]
    },
    {
      "cell_type": "code",
      "metadata": {
        "id": "08BaB__CIvik",
        "colab": {
          "base_uri": "https://localhost:8080/",
          "height": 520
        },
        "outputId": "ece24dff-38d8-4584-b02a-6c94e8d70cee"
      },
      "source": [
        "# Here we will print the highest number of bookings by each market segment\n",
        "import plotly.express as px\n",
        "print('Highest bookings are by: \\n')\n",
        "high_bookings = hotels_not_cancelled.groupby('market_segment')['total_nights'].sum().sort_values(ascending = False).plot(kind ='bar' )\n",
        "high_bookings_hotel_df = hotels_not_cancelled.groupby('market_segment')['total_nights'].sum().sort_values(ascending = False).reset_index()\n",
        "high_bookings_hotel_df['total_nights']\n",
        "high_bookings_hotel_df['proportion_of_stay(in %)'] = high_bookings_hotel_df['total_nights']/high_bookings_hotel_df['total_nights'].sum()*100\n",
        "print(high_bookings_hotel_df)\n"
      ],
      "execution_count": null,
      "outputs": [
        {
          "output_type": "stream",
          "text": [
            "Highest bookings are by: \n",
            "\n",
            "  market_segment  total_nights  proportion_of_stay(in %)\n",
            "0      Online TA        111739                 50.802924\n",
            "1  Offline TA/TO         56067                 25.491257\n",
            "2         Direct         30662                 13.940695\n",
            "3         Groups         12734                  5.789603\n",
            "4      Corporate          7032                  3.197148\n",
            "5  Complementary          1040                  0.472843\n",
            "6       Aviation           672                  0.305530\n"
          ],
          "name": "stdout"
        },
        {
          "output_type": "display_data",
          "data": {
            "image/png": "[encoded data removed]",
            "text/plain": [
              "<Figure size 432x288 with 1 Axes>"
            ]
          },
          "metadata": {
            "tags": [],
            "needs_background": "light"
          }
        }
      ]
    },
    {
      "cell_type": "markdown",
      "metadata": {
        "id": "5ez5bE1Li9EE"
      },
      "source": [
        "**Conclusion:** Out of total, Online TA accounts the responsibility of more than 50% of the business due to their booking ratio after which we have OfflineTA/TO responsible for approximately 25% of the total hotel business. These two market segments seems to be the important aspect after which rest of the 25% of the ratio includes groups, corporates, aviationa and direct."
      ]
    },
    {
      "cell_type": "markdown",
      "metadata": {
        "id": "5Q6fCRu4fr0I"
      },
      "source": [
        "3) Proportion of waiting days below and above average? **DOUBT**"
      ]
    },
    {
      "cell_type": "code",
      "metadata": {
        "colab": {
          "base_uri": "https://localhost:8080/"
        },
        "id": "pRYhMi2pfr0J",
        "outputId": "c76eada5-0e63-4485-dfcc-43d82d9254c8"
      },
      "source": [
        "#concatenation of two data frames containing sum of arrivals and average of waiting time per month.\n",
        "new_hotels_df = hotels_not_cancelled['year_month'].value_counts().reset_index()\n",
        "new_hotels_df.sort_values(\"index\", axis = 0, ascending = True, inplace = True)\n",
        "new_hotels_df.rename(columns = {'year_month' : 'Arrivals','index':'year_month'}, inplace = True)\n",
        "arrival = new_hotels_df['Arrivals']\n",
        "average_waiting = hotels_not_cancelled.groupby('year_month')['days_in_waiting_list'].sum().reset_index()\n",
        "average_waiting.sort_values(\"year_month\", axis = 0, ascending = True, inplace = True)\n",
        "\n",
        "#adding merge command on year_month\n",
        "avg_wait = pd.merge(average_waiting, new_hotels_df, on=\"year_month\")\n",
        "avg_wait['waitings days above and below average'] = avg_wait['days_in_waiting_list'] - avg_wait['days_in_waiting_list'].mean()\n",
        "avg_wait.sort_values(\"waitings days above and below average\", axis = 0, ascending = False, inplace = True)\n",
        "avg_wait\n",
        "#Creating difference of average waiting of of 2015\n",
        "df_2015_arrivals = hotels_not_cancelled[hotels_not_cancelled['arrival_date_year'] == 2015]\n",
        "df_2015_arrivals_waiting_average = df_2015_arrivals.groupby('arrival_date_month')['days_in_waiting_list'].sum() - (df_2015_arrivals['days_in_waiting_list'].sum()/6)\n",
        "print('\\n\\n2015')\n",
        "print(df_2015_arrivals_waiting_average.reset_index().sort_values(by = 'days_in_waiting_list', ascending = False))\n",
        "#Creating difference of average waiting of of 2016\n",
        "df_2016_arrivals = hotels_not_cancelled[hotels_not_cancelled['arrival_date_year'] == 2016]\n",
        "df_2016_arrivals_waiting_average = df_2016_arrivals.groupby('arrival_date_month')['days_in_waiting_list'].sum() - (df_2016_arrivals['days_in_waiting_list'].sum()/12)\n",
        "print('2016')\n",
        "print(df_2016_arrivals_waiting_average.reset_index().sort_values(by = 'days_in_waiting_list', ascending = False))\n",
        "#Creating difference of average waiting of of 2017\n",
        "df_2017_arrivals = hotels_not_cancelled[hotels_not_cancelled['arrival_date_year'] == 2017]\n",
        "df_2017_arrivals_waiting_average = df_2017_arrivals.groupby('arrival_date_month')['days_in_waiting_list'].sum() - (df_2017_arrivals['days_in_waiting_list'].sum()/8)\n",
        "print('\\n\\n2017')\n",
        "print(df_2017_arrivals_waiting_average.reset_index().sort_values(by = 'days_in_waiting_list', ascending = False))"
      ],
      "execution_count": null,
      "outputs": [
        {
          "output_type": "stream",
          "text": [
            "\n",
            "\n",
            "2015\n",
            "  arrival_date_month  days_in_waiting_list\n",
            "5         L December                1754.0\n",
            "3          J October                1612.0\n",
            "4         K November                 725.0\n",
            "2        I September                -371.0\n",
            "0             G July               -1860.0\n",
            "1           H August               -1860.0\n",
            "2016\n",
            "   arrival_date_month  days_in_waiting_list\n",
            "4               E May           3664.083333\n",
            "8         I September           3288.083333\n",
            "9           J October           2704.083333\n",
            "3             D April           1950.083333\n",
            "0           A January            773.083333\n",
            "7            H August           -482.916667\n",
            "5              F June           -773.916667\n",
            "11         L December          -1895.916667\n",
            "6              G July          -1957.916667\n",
            "10         K November          -2342.916667\n",
            "2             C March          -2433.916667\n",
            "1          B February          -2491.916667\n",
            "\n",
            "\n",
            "2017\n",
            "  arrival_date_month  days_in_waiting_list\n",
            "2            C March              1150.375\n",
            "3            D April               670.375\n",
            "1         B February               151.375\n",
            "4              E May                52.375\n",
            "0          A January              -357.625\n",
            "5             F June              -527.625\n",
            "6             G July              -552.625\n",
            "7           H August              -586.625\n"
          ],
          "name": "stdout"
        }
      ]
    },
    {
      "cell_type": "markdown",
      "metadata": {
        "id": "670iYRuTQJfH"
      },
      "source": [
        "5) Which hotel has higher cancellation rate?"
      ]
    },
    {
      "cell_type": "code",
      "metadata": {
        "id": "JUaAKW9LL7q5",
        "colab": {
          "base_uri": "https://localhost:8080/",
          "height": 333
        },
        "outputId": "79e7cf9a-8912-40db-b093-40b466b979cd"
      },
      "source": [
        "#which hotel has higher cancellation rate\n",
        "print('most likely the city hotel is to be cancelled')\n",
        "hotels_cancelled = hotel_df[hotel_df['is_canceled'] == 1]\n",
        "hotels_cancelled.groupby('hotel')['is_canceled'].count().plot(kind ='pie')\n",
        "print(hotels_cancelled.groupby('hotel')['is_canceled'].count())"
      ],
      "execution_count": null,
      "outputs": [
        {
          "output_type": "stream",
          "text": [
            "most likely the city hotel is to be cancelled\n",
            "hotel\n",
            "City Hotel      16041\n",
            "Resort Hotel     7946\n",
            "Name: is_canceled, dtype: int64\n"
          ],
          "name": "stdout"
        },
        {
          "output_type": "display_data",
          "data": {
            "image/png": "[encoded data removed]",
            "text/plain": [
              "<Figure size 432x288 with 1 Axes>"
            ]
          },
          "metadata": {
            "tags": []
          }
        }
      ]
    },
    {
      "cell_type": "markdown",
      "metadata": {
        "id": "T1jocECSkgAj"
      },
      "source": [
        "**Conclusion:** City hotels are most likely to be cancelled as compared to the resort hotels, there might be many reasons behind this like poeple changing their plans, having urgent work or they might be getting better deals in the same price."
      ]
    },
    {
      "cell_type": "code",
      "metadata": {
        "id": "ZZ6glB-iMs5L",
        "colab": {
          "base_uri": "https://localhost:8080/"
        },
        "outputId": "c0a70115-fdce-45a6-9dce-c8788ff797ce"
      },
      "source": [
        "#cancellation rate by market segment\n",
        "print('Customer are more likely to cancel: \\n')\n",
        "customer_cancel = hotels_cancelled.groupby('market_segment')['is_canceled'].count().reset_index()\n",
        "print(customer_cancel)"
      ],
      "execution_count": null,
      "outputs": [
        {
          "output_type": "stream",
          "text": [
            "Customer are more likely to cancel: \n",
            "\n",
            "  market_segment  is_canceled\n",
            "0       Aviation           45\n",
            "1  Complementary           86\n",
            "2      Corporate          497\n",
            "3         Direct         1723\n",
            "4         Groups         1335\n",
            "5  Offline TA/TO         2057\n",
            "6      Online TA        18244\n"
          ],
          "name": "stdout"
        }
      ]
    },
    {
      "cell_type": "markdown",
      "metadata": {
        "id": "2kjsvKaMbDrr"
      },
      "source": [
        ""
      ]
    },
    {
      "cell_type": "code",
      "metadata": {
        "id": "iAQqVUsJNE7i",
        "colab": {
          "base_uri": "https://localhost:8080/",
          "height": 436
        },
        "outputId": "184d7cc2-109d-4c20-8f0d-e8a08512092e"
      },
      "source": [
        "#Waiting days per market segment\n",
        "print('Least number of days in waiting list: \\n')\n",
        "least_waitlist = hotel_df.groupby('market_segment')['days_in_waiting_list'].sum().reset_index()\n",
        "print(least_waitlist)\n",
        "new_analysis = pd.concat([customer_cancel, least_waitlist], axis=1)\n",
        "new_analysis.columns = ['market segment', 'cancellation', 'NA', 'waiting days']\n",
        "new_analysis.drop(columns= [\"NA\"], inplace= True)\n",
        "new_analysis"
      ],
      "execution_count": null,
      "outputs": [
        {
          "output_type": "stream",
          "text": [
            "Least number of days in waiting list: \n",
            "\n",
            "  market_segment  days_in_waiting_list\n",
            "0       Aviation                     0\n",
            "1  Complementary                    39\n",
            "2      Corporate                   539\n",
            "3         Direct                   511\n",
            "4         Groups                 33621\n",
            "5  Offline TA/TO                 30670\n",
            "6      Online TA                   129\n"
          ],
          "name": "stdout"
        },
        {
          "output_type": "execute_result",
          "data": {
            "text/html": [
              "<div>\n",
              "<style scoped>\n",
              "    .dataframe tbody tr th:only-of-type {\n",
              "        vertical-align: middle;\n",
              "    }\n",
              "\n",
              "    .dataframe tbody tr th {\n",
              "        vertical-align: top;\n",
              "    }\n",
              "\n",
              "    .dataframe thead th {\n",
              "        text-align: right;\n",
              "    }\n",
              "</style>\n",
              "<table border=\"1\" class=\"dataframe\">\n",
              "  <thead>\n",
              "    <tr style=\"text-align: right;\">\n",
              "      <th></th>\n",
              "      <th>market segment</th>\n",
              "      <th>cancellation</th>\n",
              "      <th>waiting days</th>\n",
              "    </tr>\n",
              "  </thead>\n",
              "  <tbody>\n",
              "    <tr>\n",
              "      <th>0</th>\n",
              "      <td>Aviation</td>\n",
              "      <td>45</td>\n",
              "      <td>0</td>\n",
              "    </tr>\n",
              "    <tr>\n",
              "      <th>1</th>\n",
              "      <td>Complementary</td>\n",
              "      <td>86</td>\n",
              "      <td>39</td>\n",
              "    </tr>\n",
              "    <tr>\n",
              "      <th>2</th>\n",
              "      <td>Corporate</td>\n",
              "      <td>497</td>\n",
              "      <td>539</td>\n",
              "    </tr>\n",
              "    <tr>\n",
              "      <th>3</th>\n",
              "      <td>Direct</td>\n",
              "      <td>1723</td>\n",
              "      <td>511</td>\n",
              "    </tr>\n",
              "    <tr>\n",
              "      <th>4</th>\n",
              "      <td>Groups</td>\n",
              "      <td>1335</td>\n",
              "      <td>33621</td>\n",
              "    </tr>\n",
              "    <tr>\n",
              "      <th>5</th>\n",
              "      <td>Offline TA/TO</td>\n",
              "      <td>2057</td>\n",
              "      <td>30670</td>\n",
              "    </tr>\n",
              "    <tr>\n",
              "      <th>6</th>\n",
              "      <td>Online TA</td>\n",
              "      <td>18244</td>\n",
              "      <td>129</td>\n",
              "    </tr>\n",
              "  </tbody>\n",
              "</table>\n",
              "</div>"
            ],
            "text/plain": [
              "  market segment  cancellation  waiting days\n",
              "0       Aviation            45             0\n",
              "1  Complementary            86            39\n",
              "2      Corporate           497           539\n",
              "3         Direct          1723           511\n",
              "4         Groups          1335         33621\n",
              "5  Offline TA/TO          2057         30670\n",
              "6      Online TA         18244           129"
            ]
          },
          "metadata": {
            "tags": []
          },
          "execution_count": 29
        }
      ]
    },
    {
      "cell_type": "markdown",
      "metadata": {
        "id": "Yjez_yQGksKM"
      },
      "source": [
        "**Conclusion :** As we had more bookings coming from Online TA and offline TA/TO, we can see that we have a highest cancellation rate in online TA and a very high waiting days in offline TA/TO. we need to work on solving this problem of cancellation and waiting list. Online TA accounts majority of bookings also, it also holds majority of cancellations."
      ]
    },
    {
      "cell_type": "markdown",
      "metadata": {
        "id": "zbqeaBpif2oe"
      },
      "source": [
        "3) Proportion of waiting days below and above average? **DOUBT**"
      ]
    },
    {
      "cell_type": "code",
      "metadata": {
        "colab": {
          "base_uri": "https://localhost:8080/"
        },
        "id": "3JRxD_sKf2of",
        "outputId": "8b577242-1062-4769-b8fd-5ffe15f2e353"
      },
      "source": [
        "#concatenation of two data frames containing sum of arrivals and average of waiting time per month.\n",
        "new_hotels_df = hotels_not_cancelled['year_month'].value_counts().reset_index()\n",
        "new_hotels_df.sort_values(\"index\", axis = 0, ascending = True, inplace = True)\n",
        "new_hotels_df.rename(columns = {'year_month' : 'Arrivals','index':'year_month'}, inplace = True)\n",
        "arrival = new_hotels_df['Arrivals']\n",
        "average_waiting = hotels_not_cancelled.groupby('year_month')['days_in_waiting_list'].sum().reset_index()\n",
        "average_waiting.sort_values(\"year_month\", axis = 0, ascending = True, inplace = True)\n",
        "\n",
        "#adding merge command on year_month\n",
        "avg_wait = pd.merge(average_waiting, new_hotels_df, on=\"year_month\")\n",
        "avg_wait['waitings days above and below average'] = avg_wait['days_in_waiting_list'] - avg_wait['days_in_waiting_list'].mean()\n",
        "avg_wait.sort_values(\"waitings days above and below average\", axis = 0, ascending = False, inplace = True)\n",
        "avg_wait\n",
        "#Creating difference of average waiting of of 2015\n",
        "df_2015_arrivals = hotels_not_cancelled[hotels_not_cancelled['arrival_date_year'] == 2015]\n",
        "df_2015_arrivals_waiting_average = df_2015_arrivals.groupby('arrival_date_month')['days_in_waiting_list'].sum() - (df_2015_arrivals['days_in_waiting_list'].sum()/6)\n",
        "print('\\n\\n2015')\n",
        "print(df_2015_arrivals_waiting_average.reset_index().sort_values(by = 'days_in_waiting_list', ascending = False))\n",
        "#Creating difference of average waiting of of 2016\n",
        "df_2016_arrivals = hotels_not_cancelled[hotels_not_cancelled['arrival_date_year'] == 2016]\n",
        "df_2016_arrivals_waiting_average = df_2016_arrivals.groupby('arrival_date_month')['days_in_waiting_list'].sum() - (df_2016_arrivals['days_in_waiting_list'].sum()/12)\n",
        "print('2016')\n",
        "print(df_2016_arrivals_waiting_average.reset_index().sort_values(by = 'days_in_waiting_list', ascending = False))\n",
        "#Creating difference of average waiting of of 2017\n",
        "df_2017_arrivals = hotels_not_cancelled[hotels_not_cancelled['arrival_date_year'] == 2017]\n",
        "df_2017_arrivals_waiting_average = df_2017_arrivals.groupby('arrival_date_month')['days_in_waiting_list'].sum() - (df_2017_arrivals['days_in_waiting_list'].sum()/8)\n",
        "print('\\n\\n2017')\n",
        "print(df_2017_arrivals_waiting_average.reset_index().sort_values(by = 'days_in_waiting_list', ascending = False))"
      ],
      "execution_count": null,
      "outputs": [
        {
          "output_type": "stream",
          "text": [
            "\n",
            "\n",
            "2015\n",
            "  arrival_date_month  days_in_waiting_list\n",
            "5         L December                1754.0\n",
            "3          J October                1612.0\n",
            "4         K November                 725.0\n",
            "2        I September                -371.0\n",
            "0             G July               -1860.0\n",
            "1           H August               -1860.0\n",
            "2016\n",
            "   arrival_date_month  days_in_waiting_list\n",
            "4               E May           3664.083333\n",
            "8         I September           3288.083333\n",
            "9           J October           2704.083333\n",
            "3             D April           1950.083333\n",
            "0           A January            773.083333\n",
            "7            H August           -482.916667\n",
            "5              F June           -773.916667\n",
            "11         L December          -1895.916667\n",
            "6              G July          -1957.916667\n",
            "10         K November          -2342.916667\n",
            "2             C March          -2433.916667\n",
            "1          B February          -2491.916667\n",
            "\n",
            "\n",
            "2017\n",
            "  arrival_date_month  days_in_waiting_list\n",
            "2            C March              1150.375\n",
            "3            D April               670.375\n",
            "1         B February               151.375\n",
            "4              E May                52.375\n",
            "0          A January              -357.625\n",
            "5             F June              -527.625\n",
            "6             G July              -552.625\n",
            "7           H August              -586.625\n"
          ],
          "name": "stdout"
        }
      ]
    },
    {
      "cell_type": "markdown",
      "metadata": {
        "id": "nlk_dR5MRi_G"
      },
      "source": [
        "6) What is the cancellation percentage according to market segment?"
      ]
    },
    {
      "cell_type": "code",
      "metadata": {
        "id": "Ym5xlZNNNt6l"
      },
      "source": [
        "#creating two data frames booking nights and customer cancellations\n",
        "highest_booking = hotels_not_cancelled.groupby('market_segment')['total_nights'].sum().sort_values(ascending = False)\n",
        "cus = customer_cancel.reset_index()\n",
        "high = highest_booking.reset_index()"
      ],
      "execution_count": null,
      "outputs": []
    },
    {
      "cell_type": "code",
      "metadata": {
        "id": "9mrQn1zkOPVN",
        "colab": {
          "base_uri": "https://localhost:8080/",
          "height": 584
        },
        "outputId": "be08f9c0-d63f-4528-b243-2bf1c6a9db05"
      },
      "source": [
        "# make line\n",
        "# Merging two dataframes using outer join\n",
        "highest_booking_merge = pd.merge(high, cus, on ='market_segment', how ='outer')\n",
        "highest_booking_merge['Cancel percentages'] = highest_booking_merge['is_canceled']/highest_booking_merge['total_nights']*100\n",
        "# print('According to me we should focus of groups and Online TA as they are having highest number of cancellation proprtations.')\n",
        "highest_booking_merge.sort_values('Cancel percentages', ascending = False)\n",
        "highest_booking_merge.plot(x='market_segment', y=['Cancel percentages'], figsize=(10,5), grid=True, kind ='line')\n",
        "highest_booking_merge"
      ],
      "execution_count": null,
      "outputs": [
        {
          "output_type": "execute_result",
          "data": {
            "text/html": [
              "<div>\n",
              "<style scoped>\n",
              "    .dataframe tbody tr th:only-of-type {\n",
              "        vertical-align: middle;\n",
              "    }\n",
              "\n",
              "    .dataframe tbody tr th {\n",
              "        vertical-align: top;\n",
              "    }\n",
              "\n",
              "    .dataframe thead th {\n",
              "        text-align: right;\n",
              "    }\n",
              "</style>\n",
              "<table border=\"1\" class=\"dataframe\">\n",
              "  <thead>\n",
              "    <tr style=\"text-align: right;\">\n",
              "      <th></th>\n",
              "      <th>market_segment</th>\n",
              "      <th>total_nights</th>\n",
              "      <th>index</th>\n",
              "      <th>is_canceled</th>\n",
              "      <th>Cancel percentages</th>\n",
              "    </tr>\n",
              "  </thead>\n",
              "  <tbody>\n",
              "    <tr>\n",
              "      <th>0</th>\n",
              "      <td>Online TA</td>\n",
              "      <td>111739</td>\n",
              "      <td>6</td>\n",
              "      <td>18244</td>\n",
              "      <td>16.327334</td>\n",
              "    </tr>\n",
              "    <tr>\n",
              "      <th>1</th>\n",
              "      <td>Offline TA/TO</td>\n",
              "      <td>56067</td>\n",
              "      <td>5</td>\n",
              "      <td>2057</td>\n",
              "      <td>3.668825</td>\n",
              "    </tr>\n",
              "    <tr>\n",
              "      <th>2</th>\n",
              "      <td>Direct</td>\n",
              "      <td>30662</td>\n",
              "      <td>3</td>\n",
              "      <td>1723</td>\n",
              "      <td>5.619333</td>\n",
              "    </tr>\n",
              "    <tr>\n",
              "      <th>3</th>\n",
              "      <td>Groups</td>\n",
              "      <td>12734</td>\n",
              "      <td>4</td>\n",
              "      <td>1335</td>\n",
              "      <td>10.483744</td>\n",
              "    </tr>\n",
              "    <tr>\n",
              "      <th>4</th>\n",
              "      <td>Corporate</td>\n",
              "      <td>7032</td>\n",
              "      <td>2</td>\n",
              "      <td>497</td>\n",
              "      <td>7.067691</td>\n",
              "    </tr>\n",
              "    <tr>\n",
              "      <th>5</th>\n",
              "      <td>Complementary</td>\n",
              "      <td>1040</td>\n",
              "      <td>1</td>\n",
              "      <td>86</td>\n",
              "      <td>8.269231</td>\n",
              "    </tr>\n",
              "    <tr>\n",
              "      <th>6</th>\n",
              "      <td>Aviation</td>\n",
              "      <td>672</td>\n",
              "      <td>0</td>\n",
              "      <td>45</td>\n",
              "      <td>6.696429</td>\n",
              "    </tr>\n",
              "  </tbody>\n",
              "</table>\n",
              "</div>"
            ],
            "text/plain": [
              "  market_segment  total_nights  index  is_canceled  Cancel percentages\n",
              "0      Online TA        111739      6        18244           16.327334\n",
              "1  Offline TA/TO         56067      5         2057            3.668825\n",
              "2         Direct         30662      3         1723            5.619333\n",
              "3         Groups         12734      4         1335           10.483744\n",
              "4      Corporate          7032      2          497            7.067691\n",
              "5  Complementary          1040      1           86            8.269231\n",
              "6       Aviation           672      0           45            6.696429"
            ]
          },
          "metadata": {
            "tags": []
          },
          "execution_count": 32
        },
        {
          "output_type": "display_data",
          "data": {
            "image/png": "[encoded data removed]",
            "text/plain": [
              "<Figure size 720x360 with 1 Axes>"
            ]
          },
          "metadata": {
            "tags": [],
            "needs_background": "light"
          }
        }
      ]
    },
    {
      "cell_type": "markdown",
      "metadata": {
        "id": "T-ovC_HUmH7s"
      },
      "source": [
        "**Conclusion :** According to me we should focus on groups and Online TA as they are having highest number of cancellation proprtations and out this online TA wsa also having highest bookings. So we need to see why customers are cancelling it and should try to take necessary steps to reduce cancellations. As Online TA accounts approx 23% of bookings cancelled and groups accounts approximately 14.4% of bookings cancelled.\n"
      ]
    },
    {
      "cell_type": "code",
      "metadata": {
        "id": "9gMm08LLRbeS",
        "colab": {
          "base_uri": "https://localhost:8080/",
          "height": 609
        },
        "outputId": "9d9f805a-a4d4-4b62-abb2-e6782f7b44d1"
      },
      "source": [
        "hotels_cancelled"
      ],
      "execution_count": null,
      "outputs": [
        {
          "output_type": "execute_result",
          "data": {
            "text/html": [
              "<div>\n",
              "<style scoped>\n",
              "    .dataframe tbody tr th:only-of-type {\n",
              "        vertical-align: middle;\n",
              "    }\n",
              "\n",
              "    .dataframe tbody tr th {\n",
              "        vertical-align: top;\n",
              "    }\n",
              "\n",
              "    .dataframe thead th {\n",
              "        text-align: right;\n",
              "    }\n",
              "</style>\n",
              "<table border=\"1\" class=\"dataframe\">\n",
              "  <thead>\n",
              "    <tr style=\"text-align: right;\">\n",
              "      <th></th>\n",
              "      <th>hotel</th>\n",
              "      <th>is_canceled</th>\n",
              "      <th>lead_time</th>\n",
              "      <th>arrival_date_year</th>\n",
              "      <th>arrival_date_month</th>\n",
              "      <th>arrival_date_week_number</th>\n",
              "      <th>arrival_date_day_of_month</th>\n",
              "      <th>stays_in_weekend_nights</th>\n",
              "      <th>stays_in_week_nights</th>\n",
              "      <th>adults</th>\n",
              "      <th>children</th>\n",
              "      <th>babies</th>\n",
              "      <th>meal</th>\n",
              "      <th>country</th>\n",
              "      <th>market_segment</th>\n",
              "      <th>distribution_channel</th>\n",
              "      <th>is_repeated_guest</th>\n",
              "      <th>previous_cancellations</th>\n",
              "      <th>previous_bookings_not_canceled</th>\n",
              "      <th>reserved_room_type</th>\n",
              "      <th>assigned_room_type</th>\n",
              "      <th>booking_changes</th>\n",
              "      <th>deposit_type</th>\n",
              "      <th>days_in_waiting_list</th>\n",
              "      <th>customer_type</th>\n",
              "      <th>adr</th>\n",
              "      <th>required_car_parking_spaces</th>\n",
              "      <th>total_of_special_requests</th>\n",
              "      <th>reservation_status</th>\n",
              "      <th>reservation_status_date</th>\n",
              "      <th>total_nights</th>\n",
              "      <th>new_days_in_waiting_list</th>\n",
              "      <th>month_number</th>\n",
              "      <th>year_month</th>\n",
              "    </tr>\n",
              "  </thead>\n",
              "  <tbody>\n",
              "    <tr>\n",
              "      <th>15269</th>\n",
              "      <td>Resort Hotel</td>\n",
              "      <td>1</td>\n",
              "      <td>144</td>\n",
              "      <td>2015</td>\n",
              "      <td>G July</td>\n",
              "      <td>27</td>\n",
              "      <td>3</td>\n",
              "      <td>0</td>\n",
              "      <td>2</td>\n",
              "      <td>2</td>\n",
              "      <td>0.0</td>\n",
              "      <td>0</td>\n",
              "      <td>BB</td>\n",
              "      <td>PRT</td>\n",
              "      <td>Online TA</td>\n",
              "      <td>TA/TO</td>\n",
              "      <td>0</td>\n",
              "      <td>1</td>\n",
              "      <td>0</td>\n",
              "      <td>A</td>\n",
              "      <td>A</td>\n",
              "      <td>0</td>\n",
              "      <td>No Deposit</td>\n",
              "      <td>0</td>\n",
              "      <td>Transient</td>\n",
              "      <td>123.00</td>\n",
              "      <td>0</td>\n",
              "      <td>1</td>\n",
              "      <td>Canceled</td>\n",
              "      <td>2015-06-30</td>\n",
              "      <td>2</td>\n",
              "      <td>0.753497</td>\n",
              "      <td>None</td>\n",
              "      <td>2015 G July</td>\n",
              "    </tr>\n",
              "    <tr>\n",
              "      <th>15268</th>\n",
              "      <td>Resort Hotel</td>\n",
              "      <td>1</td>\n",
              "      <td>183</td>\n",
              "      <td>2015</td>\n",
              "      <td>G July</td>\n",
              "      <td>28</td>\n",
              "      <td>6</td>\n",
              "      <td>2</td>\n",
              "      <td>5</td>\n",
              "      <td>1</td>\n",
              "      <td>0.0</td>\n",
              "      <td>0</td>\n",
              "      <td>HB</td>\n",
              "      <td>PRT</td>\n",
              "      <td>Online TA</td>\n",
              "      <td>TA/TO</td>\n",
              "      <td>0</td>\n",
              "      <td>1</td>\n",
              "      <td>0</td>\n",
              "      <td>A</td>\n",
              "      <td>A</td>\n",
              "      <td>0</td>\n",
              "      <td>No Deposit</td>\n",
              "      <td>0</td>\n",
              "      <td>Transient-Party</td>\n",
              "      <td>79.20</td>\n",
              "      <td>0</td>\n",
              "      <td>2</td>\n",
              "      <td>Canceled</td>\n",
              "      <td>2015-06-30</td>\n",
              "      <td>7</td>\n",
              "      <td>0.753497</td>\n",
              "      <td>None</td>\n",
              "      <td>2015 G July</td>\n",
              "    </tr>\n",
              "    <tr>\n",
              "      <th>15255</th>\n",
              "      <td>Resort Hotel</td>\n",
              "      <td>1</td>\n",
              "      <td>134</td>\n",
              "      <td>2015</td>\n",
              "      <td>G July</td>\n",
              "      <td>30</td>\n",
              "      <td>22</td>\n",
              "      <td>2</td>\n",
              "      <td>4</td>\n",
              "      <td>2</td>\n",
              "      <td>1.0</td>\n",
              "      <td>0</td>\n",
              "      <td>BB</td>\n",
              "      <td>PRT</td>\n",
              "      <td>Offline TA/TO</td>\n",
              "      <td>TA/TO</td>\n",
              "      <td>0</td>\n",
              "      <td>1</td>\n",
              "      <td>0</td>\n",
              "      <td>E</td>\n",
              "      <td>E</td>\n",
              "      <td>0</td>\n",
              "      <td>No Deposit</td>\n",
              "      <td>0</td>\n",
              "      <td>Transient</td>\n",
              "      <td>149.06</td>\n",
              "      <td>0</td>\n",
              "      <td>0</td>\n",
              "      <td>Canceled</td>\n",
              "      <td>2015-06-29</td>\n",
              "      <td>6</td>\n",
              "      <td>0.753497</td>\n",
              "      <td>None</td>\n",
              "      <td>2015 G July</td>\n",
              "    </tr>\n",
              "    <tr>\n",
              "      <th>15230</th>\n",
              "      <td>Resort Hotel</td>\n",
              "      <td>1</td>\n",
              "      <td>152</td>\n",
              "      <td>2015</td>\n",
              "      <td>G July</td>\n",
              "      <td>30</td>\n",
              "      <td>21</td>\n",
              "      <td>2</td>\n",
              "      <td>6</td>\n",
              "      <td>2</td>\n",
              "      <td>0.0</td>\n",
              "      <td>0</td>\n",
              "      <td>BB</td>\n",
              "      <td>PRT</td>\n",
              "      <td>Online TA</td>\n",
              "      <td>TA/TO</td>\n",
              "      <td>0</td>\n",
              "      <td>1</td>\n",
              "      <td>0</td>\n",
              "      <td>E</td>\n",
              "      <td>E</td>\n",
              "      <td>1</td>\n",
              "      <td>No Deposit</td>\n",
              "      <td>0</td>\n",
              "      <td>Transient</td>\n",
              "      <td>166.00</td>\n",
              "      <td>0</td>\n",
              "      <td>1</td>\n",
              "      <td>Canceled</td>\n",
              "      <td>2015-06-22</td>\n",
              "      <td>8</td>\n",
              "      <td>0.753497</td>\n",
              "      <td>None</td>\n",
              "      <td>2015 G July</td>\n",
              "    </tr>\n",
              "    <tr>\n",
              "      <th>15226</th>\n",
              "      <td>Resort Hotel</td>\n",
              "      <td>1</td>\n",
              "      <td>186</td>\n",
              "      <td>2015</td>\n",
              "      <td>G July</td>\n",
              "      <td>28</td>\n",
              "      <td>7</td>\n",
              "      <td>4</td>\n",
              "      <td>10</td>\n",
              "      <td>2</td>\n",
              "      <td>0.0</td>\n",
              "      <td>0</td>\n",
              "      <td>BB</td>\n",
              "      <td>PRT</td>\n",
              "      <td>Offline TA/TO</td>\n",
              "      <td>TA/TO</td>\n",
              "      <td>0</td>\n",
              "      <td>1</td>\n",
              "      <td>0</td>\n",
              "      <td>E</td>\n",
              "      <td>E</td>\n",
              "      <td>0</td>\n",
              "      <td>No Deposit</td>\n",
              "      <td>0</td>\n",
              "      <td>Contract</td>\n",
              "      <td>82.88</td>\n",
              "      <td>0</td>\n",
              "      <td>0</td>\n",
              "      <td>Canceled</td>\n",
              "      <td>2015-06-19</td>\n",
              "      <td>14</td>\n",
              "      <td>0.753497</td>\n",
              "      <td>None</td>\n",
              "      <td>2015 G July</td>\n",
              "    </tr>\n",
              "    <tr>\n",
              "      <th>...</th>\n",
              "      <td>...</td>\n",
              "      <td>...</td>\n",
              "      <td>...</td>\n",
              "      <td>...</td>\n",
              "      <td>...</td>\n",
              "      <td>...</td>\n",
              "      <td>...</td>\n",
              "      <td>...</td>\n",
              "      <td>...</td>\n",
              "      <td>...</td>\n",
              "      <td>...</td>\n",
              "      <td>...</td>\n",
              "      <td>...</td>\n",
              "      <td>...</td>\n",
              "      <td>...</td>\n",
              "      <td>...</td>\n",
              "      <td>...</td>\n",
              "      <td>...</td>\n",
              "      <td>...</td>\n",
              "      <td>...</td>\n",
              "      <td>...</td>\n",
              "      <td>...</td>\n",
              "      <td>...</td>\n",
              "      <td>...</td>\n",
              "      <td>...</td>\n",
              "      <td>...</td>\n",
              "      <td>...</td>\n",
              "      <td>...</td>\n",
              "      <td>...</td>\n",
              "      <td>...</td>\n",
              "      <td>...</td>\n",
              "      <td>...</td>\n",
              "      <td>...</td>\n",
              "      <td>...</td>\n",
              "    </tr>\n",
              "    <tr>\n",
              "      <th>73672</th>\n",
              "      <td>City Hotel</td>\n",
              "      <td>1</td>\n",
              "      <td>220</td>\n",
              "      <td>2017</td>\n",
              "      <td>H August</td>\n",
              "      <td>35</td>\n",
              "      <td>30</td>\n",
              "      <td>0</td>\n",
              "      <td>3</td>\n",
              "      <td>2</td>\n",
              "      <td>0.0</td>\n",
              "      <td>0</td>\n",
              "      <td>BB</td>\n",
              "      <td>CHE</td>\n",
              "      <td>Online TA</td>\n",
              "      <td>TA/TO</td>\n",
              "      <td>0</td>\n",
              "      <td>0</td>\n",
              "      <td>0</td>\n",
              "      <td>A</td>\n",
              "      <td>A</td>\n",
              "      <td>0</td>\n",
              "      <td>No Deposit</td>\n",
              "      <td>0</td>\n",
              "      <td>Transient</td>\n",
              "      <td>117.00</td>\n",
              "      <td>0</td>\n",
              "      <td>1</td>\n",
              "      <td>Canceled</td>\n",
              "      <td>2017-01-29</td>\n",
              "      <td>3</td>\n",
              "      <td>0.753497</td>\n",
              "      <td>None</td>\n",
              "      <td>2017 H August</td>\n",
              "    </tr>\n",
              "    <tr>\n",
              "      <th>73673</th>\n",
              "      <td>City Hotel</td>\n",
              "      <td>1</td>\n",
              "      <td>47</td>\n",
              "      <td>2017</td>\n",
              "      <td>H August</td>\n",
              "      <td>35</td>\n",
              "      <td>30</td>\n",
              "      <td>0</td>\n",
              "      <td>2</td>\n",
              "      <td>3</td>\n",
              "      <td>0.0</td>\n",
              "      <td>0</td>\n",
              "      <td>BB</td>\n",
              "      <td>USA</td>\n",
              "      <td>Online TA</td>\n",
              "      <td>TA/TO</td>\n",
              "      <td>0</td>\n",
              "      <td>0</td>\n",
              "      <td>0</td>\n",
              "      <td>D</td>\n",
              "      <td>D</td>\n",
              "      <td>0</td>\n",
              "      <td>No Deposit</td>\n",
              "      <td>0</td>\n",
              "      <td>Transient</td>\n",
              "      <td>210.00</td>\n",
              "      <td>0</td>\n",
              "      <td>3</td>\n",
              "      <td>Canceled</td>\n",
              "      <td>2017-07-21</td>\n",
              "      <td>2</td>\n",
              "      <td>0.753497</td>\n",
              "      <td>None</td>\n",
              "      <td>2017 H August</td>\n",
              "    </tr>\n",
              "    <tr>\n",
              "      <th>73674</th>\n",
              "      <td>City Hotel</td>\n",
              "      <td>1</td>\n",
              "      <td>207</td>\n",
              "      <td>2017</td>\n",
              "      <td>H August</td>\n",
              "      <td>35</td>\n",
              "      <td>30</td>\n",
              "      <td>0</td>\n",
              "      <td>2</td>\n",
              "      <td>2</td>\n",
              "      <td>0.0</td>\n",
              "      <td>0</td>\n",
              "      <td>SC</td>\n",
              "      <td>PRT</td>\n",
              "      <td>Online TA</td>\n",
              "      <td>TA/TO</td>\n",
              "      <td>0</td>\n",
              "      <td>0</td>\n",
              "      <td>0</td>\n",
              "      <td>A</td>\n",
              "      <td>A</td>\n",
              "      <td>0</td>\n",
              "      <td>No Deposit</td>\n",
              "      <td>0</td>\n",
              "      <td>Transient</td>\n",
              "      <td>99.00</td>\n",
              "      <td>0</td>\n",
              "      <td>0</td>\n",
              "      <td>Canceled</td>\n",
              "      <td>2017-07-31</td>\n",
              "      <td>2</td>\n",
              "      <td>0.753497</td>\n",
              "      <td>None</td>\n",
              "      <td>2017 H August</td>\n",
              "    </tr>\n",
              "    <tr>\n",
              "      <th>73675</th>\n",
              "      <td>City Hotel</td>\n",
              "      <td>1</td>\n",
              "      <td>13</td>\n",
              "      <td>2017</td>\n",
              "      <td>H August</td>\n",
              "      <td>35</td>\n",
              "      <td>30</td>\n",
              "      <td>0</td>\n",
              "      <td>3</td>\n",
              "      <td>2</td>\n",
              "      <td>2.0</td>\n",
              "      <td>0</td>\n",
              "      <td>BB</td>\n",
              "      <td>RUS</td>\n",
              "      <td>Online TA</td>\n",
              "      <td>TA/TO</td>\n",
              "      <td>0</td>\n",
              "      <td>0</td>\n",
              "      <td>0</td>\n",
              "      <td>F</td>\n",
              "      <td>F</td>\n",
              "      <td>0</td>\n",
              "      <td>No Deposit</td>\n",
              "      <td>0</td>\n",
              "      <td>Transient</td>\n",
              "      <td>246.33</td>\n",
              "      <td>0</td>\n",
              "      <td>0</td>\n",
              "      <td>Canceled</td>\n",
              "      <td>2017-08-24</td>\n",
              "      <td>3</td>\n",
              "      <td>0.753497</td>\n",
              "      <td>None</td>\n",
              "      <td>2017 H August</td>\n",
              "    </tr>\n",
              "    <tr>\n",
              "      <th>73677</th>\n",
              "      <td>City Hotel</td>\n",
              "      <td>1</td>\n",
              "      <td>190</td>\n",
              "      <td>2017</td>\n",
              "      <td>H August</td>\n",
              "      <td>35</td>\n",
              "      <td>30</td>\n",
              "      <td>0</td>\n",
              "      <td>4</td>\n",
              "      <td>2</td>\n",
              "      <td>0.0</td>\n",
              "      <td>0</td>\n",
              "      <td>BB</td>\n",
              "      <td>BRA</td>\n",
              "      <td>Online TA</td>\n",
              "      <td>TA/TO</td>\n",
              "      <td>0</td>\n",
              "      <td>0</td>\n",
              "      <td>0</td>\n",
              "      <td>A</td>\n",
              "      <td>A</td>\n",
              "      <td>0</td>\n",
              "      <td>No Deposit</td>\n",
              "      <td>0</td>\n",
              "      <td>Transient</td>\n",
              "      <td>117.00</td>\n",
              "      <td>0</td>\n",
              "      <td>0</td>\n",
              "      <td>Canceled</td>\n",
              "      <td>2017-03-19</td>\n",
              "      <td>4</td>\n",
              "      <td>0.753497</td>\n",
              "      <td>None</td>\n",
              "      <td>2017 H August</td>\n",
              "    </tr>\n",
              "  </tbody>\n",
              "</table>\n",
              "<p>23987 rows × 34 columns</p>\n",
              "</div>"
            ],
            "text/plain": [
              "              hotel  is_canceled  ...  month_number     year_month\n",
              "15269  Resort Hotel            1  ...          None    2015 G July\n",
              "15268  Resort Hotel            1  ...          None    2015 G July\n",
              "15255  Resort Hotel            1  ...          None    2015 G July\n",
              "15230  Resort Hotel            1  ...          None    2015 G July\n",
              "15226  Resort Hotel            1  ...          None    2015 G July\n",
              "...             ...          ...  ...           ...            ...\n",
              "73672    City Hotel            1  ...          None  2017 H August\n",
              "73673    City Hotel            1  ...          None  2017 H August\n",
              "73674    City Hotel            1  ...          None  2017 H August\n",
              "73675    City Hotel            1  ...          None  2017 H August\n",
              "73677    City Hotel            1  ...          None  2017 H August\n",
              "\n",
              "[23987 rows x 34 columns]"
            ]
          },
          "metadata": {
            "tags": []
          },
          "execution_count": 33
        }
      ]
    },
    {
      "cell_type": "code",
      "metadata": {
        "id": "KDRsFx-bV3Lr"
      },
      "source": [
        "#Replace 0 with no and 1 with yes in cancellations\n",
        "hotel_df['cancelled']=hotel_df[\"is_canceled\"].replace({0: \"No\", 1: \"Yes\"})"
      ],
      "execution_count": null,
      "outputs": []
    },
    {
      "cell_type": "markdown",
      "metadata": {
        "id": "IwGp1Z9JR1Ow"
      },
      "source": [
        "7) What is proportion of bookings cancellations?"
      ]
    },
    {
      "cell_type": "code",
      "metadata": {
        "id": "R3hHOBjjZEkf",
        "colab": {
          "base_uri": "https://localhost:8080/",
          "height": 333
        },
        "outputId": "1d0d08d5-d585-40a1-d201-77ca4c525a4e"
      },
      "source": [
        "#bookings cancelled.\n",
        "print(hotel_df['cancelled'].value_counts())\n",
        "hotel_df['cancelled'].value_counts().plot(kind='barh')"
      ],
      "execution_count": null,
      "outputs": [
        {
          "output_type": "stream",
          "text": [
            "No     62953\n",
            "Yes    23987\n",
            "Name: cancelled, dtype: int64\n"
          ],
          "name": "stdout"
        },
        {
          "output_type": "execute_result",
          "data": {
            "text/plain": [
              "<matplotlib.axes._subplots.AxesSubplot at 0x7fa0d1c03950>"
            ]
          },
          "metadata": {
            "tags": []
          },
          "execution_count": 35
        },
        {
          "output_type": "display_data",
          "data": {
            "image/png": "[encoded data removed]",
            "text/plain": [
              "<Figure size 432x288 with 1 Axes>"
            ]
          },
          "metadata": {
            "tags": [],
            "needs_background": "light"
          }
        }
      ]
    },
    {
      "cell_type": "markdown",
      "metadata": {
        "id": "y3hWr0zdnIPa"
      },
      "source": [
        "**Conclusion :** We can see that we have approximately 30% of the bookings cancellations and 70% are not being cancelled. It is a good sign but we should still take measures to control and reduce the amount of bookings cancelled."
      ]
    },
    {
      "cell_type": "markdown",
      "metadata": {
        "id": "5gEvd1W0R51M"
      },
      "source": [
        "8) What is the booking ratio of city hotels and resort hotels?"
      ]
    },
    {
      "cell_type": "code",
      "metadata": {
        "id": "HuQd_ly1Znet",
        "colab": {
          "base_uri": "https://localhost:8080/"
        },
        "outputId": "158271c8-ee55-4a2e-f958-170ee00780d6"
      },
      "source": [
        "#booking ratio\n",
        "booking_ratio = hotels_not_cancelled['hotel'].value_counts().reset_index()\n",
        "ratio = booking_ratio['hotel'][0]/booking_ratio['hotel'][1]\n",
        "print(booking_ratio)\n",
        "print(f'Our required ratio between city hotel and resort hotel is {ratio}. This means city hotel accounts for {ratio} times more bookings.')"
      ],
      "execution_count": null,
      "outputs": [
        {
          "output_type": "stream",
          "text": [
            "          index  hotel\n",
            "0    City Hotel  37377\n",
            "1  Resort Hotel  25576\n",
            "Our required ratio between city hotel and resort hotel is 1.461409133562715. This means city hotel accounts for 1.461409133562715 times more bookings.\n"
          ],
          "name": "stdout"
        }
      ]
    },
    {
      "cell_type": "markdown",
      "metadata": {
        "id": "9C-j2zSNnilL"
      },
      "source": [
        "**Conclusion :** Our required ratio between city hotel and resort hotel is 1.461409133562715. This means city hotel accounts for 1.461409133562715 times more bookings."
      ]
    },
    {
      "cell_type": "code",
      "metadata": {
        "id": "XgubOv1bbBt0"
      },
      "source": [
        "# #arrivals per year\n",
        "# hotels_not_cancelled['arrival_date_year'].value_counts().plot(kind='barh')\n",
        "# percentage_by_year = hotels_not_cancelled['arrival_date_year'].value_counts().reset_index()\n",
        "# percentage_by_year.sort_values(by = 'arrival_date_year', inplace = True)\n",
        "# percentage_by_year"
      ],
      "execution_count": null,
      "outputs": []
    },
    {
      "cell_type": "markdown",
      "metadata": {
        "id": "2W4tapodn8CX"
      },
      "source": [
        "9) Top 5 countries"
      ]
    },
    {
      "cell_type": "code",
      "metadata": {
        "id": "LyE05oTOl-Jo",
        "colab": {
          "base_uri": "https://localhost:8080/",
          "height": 469
        },
        "outputId": "e8048fb1-c36e-4c4d-eb73-8a3761fa8f08"
      },
      "source": [
        "#guests coming from top 5 countries\n",
        "top_five_countries = hotels_not_cancelled['country'].value_counts()[:5].plot(kind='barh')\n",
        "hotels_not_cancelled['country'].value_counts()"
      ],
      "execution_count": null,
      "outputs": [
        {
          "output_type": "execute_result",
          "data": {
            "text/plain": [
              "PRT    17662\n",
              "GBR     8448\n",
              "FRA     7104\n",
              "ESP     5390\n",
              "DEU     4334\n",
              "       ...  \n",
              "ZMB        1\n",
              "FRO        1\n",
              "KIR        1\n",
              "BDI        1\n",
              "DJI        1\n",
              "Name: country, Length: 165, dtype: int64"
            ]
          },
          "metadata": {
            "tags": []
          },
          "execution_count": 38
        },
        {
          "output_type": "display_data",
          "data": {
            "image/png": "[encoded data removed]",
            "text/plain": [
              "<Figure size 432x288 with 1 Axes>"
            ]
          },
          "metadata": {
            "tags": [],
            "needs_background": "light"
          }
        }
      ]
    },
    {
      "cell_type": "markdown",
      "metadata": {
        "id": "0ft7Smton_3B"
      },
      "source": [
        "**Conclusion :** A very high proportion of travellers have their nationality as \"PRT\" that is 17662 after that we have GBR travellers that is 8442 and then comens FRA > ESP > DEU. We should mainly focus on the key aspects of lifestyles of these countries to make our travellers happy and increase repeating customers as most of our travellers are coming from the above countries only."
      ]
    },
    {
      "cell_type": "markdown",
      "metadata": {
        "id": "xiSvlhMMS1wC"
      },
      "source": [
        "10) Are guests are travelling in a family or solo?"
      ]
    },
    {
      "cell_type": "code",
      "metadata": {
        "id": "2oiTkj4Ip2NW",
        "colab": {
          "base_uri": "https://localhost:8080/"
        },
        "outputId": "6f5e2002-9c6f-4ab8-9f90-38239b046dde"
      },
      "source": [
        "#unique values of families\n",
        "hotels_not_cancelled['adults'].unique()"
      ],
      "execution_count": null,
      "outputs": [
        {
          "output_type": "execute_result",
          "data": {
            "text/plain": [
              "array([2, 1, 3, 0, 4])"
            ]
          },
          "metadata": {
            "tags": []
          },
          "execution_count": 39
        }
      ]
    },
    {
      "cell_type": "code",
      "metadata": {
        "id": "bhpOKnXIqfag",
        "colab": {
          "base_uri": "https://localhost:8080/",
          "height": 452
        },
        "outputId": "5924d0a7-1b38-4567-8374-e1684f02676a"
      },
      "source": [
        "#family status\n",
        "family_status = hotels_not_cancelled['adults'].value_counts().reset_index()\n",
        "family_status.plot(kind='barh')\n",
        "family_status"
      ],
      "execution_count": null,
      "outputs": [
        {
          "output_type": "execute_result",
          "data": {
            "text/html": [
              "<div>\n",
              "<style scoped>\n",
              "    .dataframe tbody tr th:only-of-type {\n",
              "        vertical-align: middle;\n",
              "    }\n",
              "\n",
              "    .dataframe tbody tr th {\n",
              "        vertical-align: top;\n",
              "    }\n",
              "\n",
              "    .dataframe thead th {\n",
              "        text-align: right;\n",
              "    }\n",
              "</style>\n",
              "<table border=\"1\" class=\"dataframe\">\n",
              "  <thead>\n",
              "    <tr style=\"text-align: right;\">\n",
              "      <th></th>\n",
              "      <th>index</th>\n",
              "      <th>adults</th>\n",
              "    </tr>\n",
              "  </thead>\n",
              "  <tbody>\n",
              "    <tr>\n",
              "      <th>0</th>\n",
              "      <td>2</td>\n",
              "      <td>45697</td>\n",
              "    </tr>\n",
              "    <tr>\n",
              "      <th>1</th>\n",
              "      <td>1</td>\n",
              "      <td>13019</td>\n",
              "    </tr>\n",
              "    <tr>\n",
              "      <th>2</th>\n",
              "      <td>3</td>\n",
              "      <td>3903</td>\n",
              "    </tr>\n",
              "    <tr>\n",
              "      <th>3</th>\n",
              "      <td>0</td>\n",
              "      <td>288</td>\n",
              "    </tr>\n",
              "    <tr>\n",
              "      <th>4</th>\n",
              "      <td>4</td>\n",
              "      <td>46</td>\n",
              "    </tr>\n",
              "  </tbody>\n",
              "</table>\n",
              "</div>"
            ],
            "text/plain": [
              "   index  adults\n",
              "0      2   45697\n",
              "1      1   13019\n",
              "2      3    3903\n",
              "3      0     288\n",
              "4      4      46"
            ]
          },
          "metadata": {
            "tags": []
          },
          "execution_count": 40
        },
        {
          "output_type": "display_data",
          "data": {
            "image/png": "[encoded data removed]",
            "text/plain": [
              "<Figure size 432x288 with 1 Axes>"
            ]
          },
          "metadata": {
            "tags": [],
            "needs_background": "light"
          }
        }
      ]
    },
    {
      "cell_type": "markdown",
      "metadata": {
        "id": "Yp0z727AqaOt"
      },
      "source": [
        "**Conclusion :** Out of total travellers we have more than 70% of the travellers that are 45697 who are travelling and booking rooms on a dual occupency. These 2 adults can be assumed as friends,couple, brothers, sisters etc. After that around 20% of them are solo travellers who made single room bookings. They can either be on business trip or solo trip. Then after that we have more very few bookings with 0 adults or 3, 4 adults in a single room. As we can not see more than 4 adults it seems that hotels do not accomodate more than 4 adults in a single room.  "
      ]
    },
    {
      "cell_type": "code",
      "metadata": {
        "id": "4C86rWNcXU9a"
      },
      "source": [
        "# #Hotel cancellations and non cancellations month wise\n",
        "# ax = hotel_df.groupby(['year_month'])['is_canceled'].value_counts().plot.barh(width=0.5,                                                                  # SETTING LINED EDGES TO CLEAR DETECRIONOF BARS\n",
        "#     linewidth=1,                                                                # SETTING LINED EDGES TO CLEAR DETECRIONOF BARS\n",
        "#     edgecolor='black',\n",
        "#     figsize = (20,10),\n",
        "#     fontsize = 10,\n",
        "# )\n",
        "\n"
      ],
      "execution_count": null,
      "outputs": []
    },
    {
      "cell_type": "code",
      "metadata": {
        "id": "TIdsbx3ePIFZ"
      },
      "source": [
        "hotel_df['canceled'] = hotel_df['is_canceled'] == 1"
      ],
      "execution_count": null,
      "outputs": []
    },
    {
      "cell_type": "markdown",
      "metadata": {
        "id": "yEbBKdvVR6aJ"
      },
      "source": [
        "11) Cancellation status per month per year?"
      ]
    },
    {
      "cell_type": "code",
      "metadata": {
        "id": "DG37fsyF100s",
        "colab": {
          "base_uri": "https://localhost:8080/",
          "height": 1000
        },
        "outputId": "91f4c2cd-d003-45ba-ea59-2b096bc14e80"
      },
      "source": [
        "#Calculating hotel cancellations year wise and month wise using pivot table and here we will take a count of non zeros that means the cancellations in hotel_df.\n",
        "hotels_pivot = pd.pivot_table(\n",
        "\thotel_df,\n",
        "\tvalues=\"is_canceled\",\n",
        "\tindex=\"arrival_date_month\",\n",
        "\tcolumns=\"arrival_date_year\",\n",
        "\taggfunc=np.count_nonzero\n",
        ")\n",
        "ax = hotels_pivot.plot(kind=\"barh\")\n",
        "fig = ax.get_figure()\n",
        "# Change the plot dimensions (width, height)\n",
        "fig.set_size_inches(14, 10)\n",
        "# Change the axes labels\n",
        "ax.set_xlabel(\"Cancellations\")\n",
        "ax.set_ylabel(\"Months\")\n",
        "\n",
        "# Use this to show the plot in a new window\n",
        "plt.show()\n",
        "print('\\n\\n\\n')\n",
        "hotels_pivot"
      ],
      "execution_count": null,
      "outputs": [
        {
          "output_type": "display_data",
          "data": {
            "image/png": "[encoded data removed]",
            "text/plain": [
              "<Figure size 1008x720 with 1 Axes>"
            ]
          },
          "metadata": {
            "tags": [],
            "needs_background": "light"
          }
        },
        {
          "output_type": "stream",
          "text": [
            "\n",
            "\n",
            "\n",
            "\n"
          ],
          "name": "stdout"
        },
        {
          "output_type": "execute_result",
          "data": {
            "text/html": [
              "<div>\n",
              "<style scoped>\n",
              "    .dataframe tbody tr th:only-of-type {\n",
              "        vertical-align: middle;\n",
              "    }\n",
              "\n",
              "    .dataframe tbody tr th {\n",
              "        vertical-align: top;\n",
              "    }\n",
              "\n",
              "    .dataframe thead th {\n",
              "        text-align: right;\n",
              "    }\n",
              "</style>\n",
              "<table border=\"1\" class=\"dataframe\">\n",
              "  <thead>\n",
              "    <tr style=\"text-align: right;\">\n",
              "      <th>arrival_date_year</th>\n",
              "      <th>2015</th>\n",
              "      <th>2016</th>\n",
              "      <th>2017</th>\n",
              "    </tr>\n",
              "    <tr>\n",
              "      <th>arrival_date_month</th>\n",
              "      <th></th>\n",
              "      <th></th>\n",
              "      <th></th>\n",
              "    </tr>\n",
              "  </thead>\n",
              "  <tbody>\n",
              "    <tr>\n",
              "      <th>A January</th>\n",
              "      <td>NaN</td>\n",
              "      <td>301.0</td>\n",
              "      <td>736.0</td>\n",
              "    </tr>\n",
              "    <tr>\n",
              "      <th>B February</th>\n",
              "      <td>NaN</td>\n",
              "      <td>527.0</td>\n",
              "      <td>887.0</td>\n",
              "    </tr>\n",
              "    <tr>\n",
              "      <th>C March</th>\n",
              "      <td>NaN</td>\n",
              "      <td>885.0</td>\n",
              "      <td>944.0</td>\n",
              "    </tr>\n",
              "    <tr>\n",
              "      <th>D April</th>\n",
              "      <td>NaN</td>\n",
              "      <td>1012.0</td>\n",
              "      <td>1392.0</td>\n",
              "    </tr>\n",
              "    <tr>\n",
              "      <th>E May</th>\n",
              "      <td>NaN</td>\n",
              "      <td>941.0</td>\n",
              "      <td>1501.0</td>\n",
              "    </tr>\n",
              "    <tr>\n",
              "      <th>F June</th>\n",
              "      <td>NaN</td>\n",
              "      <td>910.0</td>\n",
              "      <td>1443.0</td>\n",
              "    </tr>\n",
              "    <tr>\n",
              "      <th>G July</th>\n",
              "      <td>512.0</td>\n",
              "      <td>1084.0</td>\n",
              "      <td>1596.0</td>\n",
              "    </tr>\n",
              "    <tr>\n",
              "      <th>H August</th>\n",
              "      <td>567.0</td>\n",
              "      <td>1441.0</td>\n",
              "      <td>1610.0</td>\n",
              "    </tr>\n",
              "    <tr>\n",
              "      <th>I September</th>\n",
              "      <td>560.0</td>\n",
              "      <td>1076.0</td>\n",
              "      <td>NaN</td>\n",
              "    </tr>\n",
              "    <tr>\n",
              "      <th>J October</th>\n",
              "      <td>437.0</td>\n",
              "      <td>1200.0</td>\n",
              "      <td>NaN</td>\n",
              "    </tr>\n",
              "    <tr>\n",
              "      <th>K November</th>\n",
              "      <td>243.0</td>\n",
              "      <td>809.0</td>\n",
              "      <td>NaN</td>\n",
              "    </tr>\n",
              "    <tr>\n",
              "      <th>L December</th>\n",
              "      <td>372.0</td>\n",
              "      <td>1001.0</td>\n",
              "      <td>NaN</td>\n",
              "    </tr>\n",
              "  </tbody>\n",
              "</table>\n",
              "</div>"
            ],
            "text/plain": [
              "arrival_date_year    2015    2016    2017\n",
              "arrival_date_month                       \n",
              "A January             NaN   301.0   736.0\n",
              "B February            NaN   527.0   887.0\n",
              "C March               NaN   885.0   944.0\n",
              "D April               NaN  1012.0  1392.0\n",
              "E May                 NaN   941.0  1501.0\n",
              "F June                NaN   910.0  1443.0\n",
              "G July              512.0  1084.0  1596.0\n",
              "H August            567.0  1441.0  1610.0\n",
              "I September         560.0  1076.0     NaN\n",
              "J October           437.0  1200.0     NaN\n",
              "K November          243.0   809.0     NaN\n",
              "L December          372.0  1001.0     NaN"
            ]
          },
          "metadata": {
            "tags": []
          },
          "execution_count": 43
        }
      ]
    },
    {
      "cell_type": "markdown",
      "metadata": {
        "id": "BD0FmnzUsiQj"
      },
      "source": [
        "**Conclusion :** From the above analysis we can see that we have data of some months missing in 2015 and 2017. In 2015 we have highest cancellations in august and second highest in september whereas November, December has the lowest cancellations. In 2016 our highest cancellations are in the month of august and second highest in October whereas the lowest cancellations are in the month of Jan and Feb respectively. In 2017 July and august reports high cancllations and we have Jan, Feb having lower cancellation rate respectively. There we can see that we have higher cancellation rates between the months of July to October and comparatively lower cancellation rates thereafter."
      ]
    },
    {
      "cell_type": "markdown",
      "metadata": {
        "id": "Opst1KQ3go_i"
      },
      "source": [
        "11) Cancellation and arrival status per month per year?"
      ]
    },
    {
      "cell_type": "code",
      "metadata": {
        "id": "Ua63chbG9q7n",
        "colab": {
          "base_uri": "https://localhost:8080/",
          "height": 1000
        },
        "outputId": "542687ed-f2a5-4ca7-b674-d06b1cad1b12"
      },
      "source": [
        "#Import Seaborn library\n",
        "import seaborn as sns\n",
        "f, ax = plt.subplots(figsize=(20, 20))\n",
        "#Plot Cancellations and non cancellation year wise nad month wise to get a trend\n",
        "sns.countplot(y=\"year_month\", hue=\"is_canceled\", data=hotel_df)\n",
        "cancel_analysis = hotel_df.groupby('year_month')['is_canceled'].value_counts().reset_index\n",
        "cancel_analysis"
      ],
      "execution_count": null,
      "outputs": [
        {
          "output_type": "execute_result",
          "data": {
            "text/plain": [
              "<bound method Series.reset_index of year_month        is_canceled\n",
              "2015 G July       0              1149\n",
              "                  1               512\n",
              "2015 H August     0              1870\n",
              "                  1               567\n",
              "2015 I September  0              2259\n",
              "                  1               560\n",
              "2015 J October    0              2239\n",
              "                  1               437\n",
              "2015 K November   0              1402\n",
              "                  1               243\n",
              "2015 L December   0              1590\n",
              "                  1               372\n",
              "2016 A January    0              1515\n",
              "                  1               301\n",
              "2016 B February   0              2246\n",
              "                  1               527\n",
              "2016 C March      0              2911\n",
              "                  1               885\n",
              "2016 D April      0              2734\n",
              "                  1              1012\n",
              "2016 E May        0              2827\n",
              "                  1               941\n",
              "2016 F June       0              2595\n",
              "                  1               910\n",
              "2016 G July       0              2747\n",
              "                  1              1084\n",
              "2016 H August     0              2973\n",
              "                  1              1441\n",
              "2016 I September  0              2764\n",
              "                  1              1076\n",
              "2016 J October    0              3007\n",
              "                  1              1200\n",
              "2016 K November   0              2499\n",
              "                  1               809\n",
              "2016 L December   0              2119\n",
              "                  1              1001\n",
              "2017 A January    0              2086\n",
              "                  1               736\n",
              "2017 B February   0              2383\n",
              "                  1               887\n",
              "2017 C March      0              2719\n",
              "                  1               944\n",
              "2017 D April      0              2733\n",
              "                  1              1392\n",
              "2017 E May        0              3074\n",
              "                  1              1501\n",
              "2017 F June       0              2805\n",
              "                  1              1443\n",
              "2017 G July       0              2936\n",
              "                  1              1596\n",
              "2017 H August     0              2771\n",
              "                  1              1610\n",
              "Name: is_canceled, dtype: int64>"
            ]
          },
          "metadata": {
            "tags": []
          },
          "execution_count": 44
        },
        {
          "output_type": "display_data",
          "data": {
            "image/png": "[encoded data removed]",
            "text/plain": [
              "<Figure size 1440x1440 with 1 Axes>"
            ]
          },
          "metadata": {
            "tags": [],
            "needs_background": "light"
          }
        }
      ]
    },
    {
      "cell_type": "markdown",
      "metadata": {
        "id": "RfGBoSwWgyQ_"
      },
      "source": [
        "12) Comparison of waiting days per month per year for cancelled hotels and arrivals. **Arrivals doubt**\n",
        "\n"
      ]
    },
    {
      "cell_type": "code",
      "metadata": {
        "id": "jOk7ONYts_qA",
        "colab": {
          "base_uri": "https://localhost:8080/",
          "height": 1000
        },
        "outputId": "ce2532ef-891c-462d-f69d-a78e5d452f85"
      },
      "source": [
        "#waiting days of every year per month for arrivals\n",
        "hotels_pivot = pd.pivot_table(\n",
        "\thotels_not_cancelled,\n",
        "\tvalues=\"days_in_waiting_list\",\n",
        "\tindex=\"arrival_date_month\",\n",
        "\tcolumns=\"arrival_date_year\",\n",
        "\taggfunc=np.sum\n",
        ")\n",
        "\n",
        "ax = hotels_pivot.plot(kind=\"barh\")\n",
        "fig = ax.get_figure()\n",
        "# Change the plot dimensions (width, height)\n",
        "fig.set_size_inches(10, 10)\n",
        "# Change the axes labels\n",
        "ax.set_xlabel(\"Years\")\n",
        "ax.set_ylabel(\"Cancellations\")\n",
        "\n",
        "# Use this to show the plot in a new window\n",
        "plt.show()\n",
        "print('\\n\\n\\n')\n",
        "hotels_pivot"
      ],
      "execution_count": null,
      "outputs": [
        {
          "output_type": "display_data",
          "data": {
            "image/png": "[encoded data removed]",
            "text/plain": [
              "<Figure size 720x720 with 1 Axes>"
            ]
          },
          "metadata": {
            "tags": [],
            "needs_background": "light"
          }
        },
        {
          "output_type": "stream",
          "text": [
            "\n",
            "\n",
            "\n",
            "\n"
          ],
          "name": "stdout"
        },
        {
          "output_type": "execute_result",
          "data": {
            "text/html": [
              "<div>\n",
              "<style scoped>\n",
              "    .dataframe tbody tr th:only-of-type {\n",
              "        vertical-align: middle;\n",
              "    }\n",
              "\n",
              "    .dataframe tbody tr th {\n",
              "        vertical-align: top;\n",
              "    }\n",
              "\n",
              "    .dataframe thead th {\n",
              "        text-align: right;\n",
              "    }\n",
              "</style>\n",
              "<table border=\"1\" class=\"dataframe\">\n",
              "  <thead>\n",
              "    <tr style=\"text-align: right;\">\n",
              "      <th>arrival_date_year</th>\n",
              "      <th>2015</th>\n",
              "      <th>2016</th>\n",
              "      <th>2017</th>\n",
              "    </tr>\n",
              "    <tr>\n",
              "      <th>arrival_date_month</th>\n",
              "      <th></th>\n",
              "      <th></th>\n",
              "      <th></th>\n",
              "    </tr>\n",
              "  </thead>\n",
              "  <tbody>\n",
              "    <tr>\n",
              "      <th>A January</th>\n",
              "      <td>NaN</td>\n",
              "      <td>3265.0</td>\n",
              "      <td>229.0</td>\n",
              "    </tr>\n",
              "    <tr>\n",
              "      <th>B February</th>\n",
              "      <td>NaN</td>\n",
              "      <td>0.0</td>\n",
              "      <td>738.0</td>\n",
              "    </tr>\n",
              "    <tr>\n",
              "      <th>C March</th>\n",
              "      <td>NaN</td>\n",
              "      <td>58.0</td>\n",
              "      <td>1737.0</td>\n",
              "    </tr>\n",
              "    <tr>\n",
              "      <th>D April</th>\n",
              "      <td>NaN</td>\n",
              "      <td>4442.0</td>\n",
              "      <td>1257.0</td>\n",
              "    </tr>\n",
              "    <tr>\n",
              "      <th>E May</th>\n",
              "      <td>NaN</td>\n",
              "      <td>6156.0</td>\n",
              "      <td>639.0</td>\n",
              "    </tr>\n",
              "    <tr>\n",
              "      <th>F June</th>\n",
              "      <td>NaN</td>\n",
              "      <td>1718.0</td>\n",
              "      <td>59.0</td>\n",
              "    </tr>\n",
              "    <tr>\n",
              "      <th>G July</th>\n",
              "      <td>0.0</td>\n",
              "      <td>534.0</td>\n",
              "      <td>34.0</td>\n",
              "    </tr>\n",
              "    <tr>\n",
              "      <th>H August</th>\n",
              "      <td>0.0</td>\n",
              "      <td>2009.0</td>\n",
              "      <td>0.0</td>\n",
              "    </tr>\n",
              "    <tr>\n",
              "      <th>I September</th>\n",
              "      <td>1489.0</td>\n",
              "      <td>5780.0</td>\n",
              "      <td>NaN</td>\n",
              "    </tr>\n",
              "    <tr>\n",
              "      <th>J October</th>\n",
              "      <td>3472.0</td>\n",
              "      <td>5196.0</td>\n",
              "      <td>NaN</td>\n",
              "    </tr>\n",
              "    <tr>\n",
              "      <th>K November</th>\n",
              "      <td>2585.0</td>\n",
              "      <td>149.0</td>\n",
              "      <td>NaN</td>\n",
              "    </tr>\n",
              "    <tr>\n",
              "      <th>L December</th>\n",
              "      <td>3614.0</td>\n",
              "      <td>596.0</td>\n",
              "      <td>NaN</td>\n",
              "    </tr>\n",
              "  </tbody>\n",
              "</table>\n",
              "</div>"
            ],
            "text/plain": [
              "arrival_date_year     2015    2016    2017\n",
              "arrival_date_month                        \n",
              "A January              NaN  3265.0   229.0\n",
              "B February             NaN     0.0   738.0\n",
              "C March                NaN    58.0  1737.0\n",
              "D April                NaN  4442.0  1257.0\n",
              "E May                  NaN  6156.0   639.0\n",
              "F June                 NaN  1718.0    59.0\n",
              "G July                 0.0   534.0    34.0\n",
              "H August               0.0  2009.0     0.0\n",
              "I September         1489.0  5780.0     NaN\n",
              "J October           3472.0  5196.0     NaN\n",
              "K November          2585.0   149.0     NaN\n",
              "L December          3614.0   596.0     NaN"
            ]
          },
          "metadata": {
            "tags": []
          },
          "execution_count": 45
        }
      ]
    },
    {
      "cell_type": "markdown",
      "metadata": {
        "id": "Blb5MdPPuzpQ"
      },
      "source": [
        "**Conclusion :** From our analysis in 2015 we have highest number of waiting days in the month of december and then in november. In 2016 we have highest number of waiting dats in may after that september and october are also having a decent number of high waiting which should be focused upon. It suddenly dropped in november to 217 and then rose to 711 in dec and then to 4012 in jan which was a very high increase rate. Then in Feb it suddenly falls to the lowest peak again. In 2016 it has been fluctuating alot. In 2017, month of april and march had a very high waiting list, whereas Jan and July recorded the lowest waiting list. Reasons will have to be figured out.\n",
        "\n"
      ]
    },
    {
      "cell_type": "code",
      "metadata": {
        "id": "ZPzYxcdn0WUC"
      },
      "source": [
        "# #Hotel cancellations and non cancellations month wise\n",
        "# ax = hotel_df.groupby(['year_month'])['is_canceled'].value_counts().plot.barh(\n",
        "#     width=0.5,                                                                  # SETTING LINED EDGES TO CLEAR DETECRIONOF BARS\n",
        "#     linewidth=1,                                                                # SETTING LINED EDGES TO CLEAR DETECRIONOF BARS\n",
        "#     edgecolor='black',\n",
        "#     figsize = (30,15),\n",
        "#     fontsize = 10,\n",
        "# )"
      ],
      "execution_count": null,
      "outputs": []
    },
    {
      "cell_type": "code",
      "metadata": {
        "id": "1FfHe22G5HXo"
      },
      "source": [
        "# # cancel_anal = hotel_df.pivot_table([\"rain(mm)\",\"temp(dC)\"], [\"loc\",\"month\"])  \n",
        "# # hotel_df = sns.load_dataset(\"Hotel Bookings.csv\")\n",
        "# import seaborn as sns\n",
        "# f, ax = plt.subplots(figsize=(20, 20))\n",
        "# sns.countplot(y=\"year_month\", hue=\"is_canceled\", data=hotel_df)\n",
        "# cancel_analysis = hotel_df.groupby('year_month')['is_canceled'].value_counts().reset_index\n",
        "# cancel_analysis"
      ],
      "execution_count": null,
      "outputs": []
    },
    {
      "cell_type": "code",
      "metadata": {
        "id": "aFcxPYIp0W-x",
        "colab": {
          "base_uri": "https://localhost:8080/",
          "height": 1000
        },
        "outputId": "f0a96361-5ece-4f30-ca52-4d8d80437435"
      },
      "source": [
        "#waiting days of every year per month for cancellations\n",
        "hotels_pivot = pd.pivot_table(\n",
        "\thotels_cancelled,\n",
        "\tvalues=\"days_in_waiting_list\",\n",
        "\tindex=\"arrival_date_month\",\n",
        "\tcolumns=\"arrival_date_year\",\n",
        "\taggfunc=np.sum\n",
        ")\n",
        "\n",
        "ax = hotels_pivot.plot(kind=\"barh\")\n",
        "fig = ax.get_figure()\n",
        "# Change the plot dimensions (width, height)\n",
        "fig.set_size_inches(10, 10)\n",
        "# Change the axes labels\n",
        "ax.set_xlabel(\"Years\")\n",
        "ax.set_ylabel(\"Cancellations\")\n",
        "\n",
        "# Use this to show the plot in a new window\n",
        "plt.show()\n",
        "print('\\n\\n\\n')\n",
        "hotels_pivot"
      ],
      "execution_count": null,
      "outputs": [
        {
          "output_type": "display_data",
          "data": {
            "image/png": "[encoded data removed]",
            "text/plain": [
              "<Figure size 720x720 with 1 Axes>"
            ]
          },
          "metadata": {
            "tags": [],
            "needs_background": "light"
          }
        },
        {
          "output_type": "stream",
          "text": [
            "\n",
            "\n",
            "\n",
            "\n"
          ],
          "name": "stdout"
        },
        {
          "output_type": "execute_result",
          "data": {
            "text/html": [
              "<div>\n",
              "<style scoped>\n",
              "    .dataframe tbody tr th:only-of-type {\n",
              "        vertical-align: middle;\n",
              "    }\n",
              "\n",
              "    .dataframe tbody tr th {\n",
              "        vertical-align: top;\n",
              "    }\n",
              "\n",
              "    .dataframe thead th {\n",
              "        text-align: right;\n",
              "    }\n",
              "</style>\n",
              "<table border=\"1\" class=\"dataframe\">\n",
              "  <thead>\n",
              "    <tr style=\"text-align: right;\">\n",
              "      <th>arrival_date_year</th>\n",
              "      <th>2015</th>\n",
              "      <th>2016</th>\n",
              "      <th>2017</th>\n",
              "    </tr>\n",
              "    <tr>\n",
              "      <th>arrival_date_month</th>\n",
              "      <th></th>\n",
              "      <th></th>\n",
              "      <th></th>\n",
              "    </tr>\n",
              "  </thead>\n",
              "  <tbody>\n",
              "    <tr>\n",
              "      <th>A January</th>\n",
              "      <td>NaN</td>\n",
              "      <td>747.0</td>\n",
              "      <td>172.0</td>\n",
              "    </tr>\n",
              "    <tr>\n",
              "      <th>B February</th>\n",
              "      <td>NaN</td>\n",
              "      <td>200.0</td>\n",
              "      <td>264.0</td>\n",
              "    </tr>\n",
              "    <tr>\n",
              "      <th>C March</th>\n",
              "      <td>NaN</td>\n",
              "      <td>701.0</td>\n",
              "      <td>438.0</td>\n",
              "    </tr>\n",
              "    <tr>\n",
              "      <th>D April</th>\n",
              "      <td>NaN</td>\n",
              "      <td>1915.0</td>\n",
              "      <td>1470.0</td>\n",
              "    </tr>\n",
              "    <tr>\n",
              "      <th>E May</th>\n",
              "      <td>NaN</td>\n",
              "      <td>2713.0</td>\n",
              "      <td>1028.0</td>\n",
              "    </tr>\n",
              "    <tr>\n",
              "      <th>F June</th>\n",
              "      <td>NaN</td>\n",
              "      <td>862.0</td>\n",
              "      <td>1219.0</td>\n",
              "    </tr>\n",
              "    <tr>\n",
              "      <th>G July</th>\n",
              "      <td>0.0</td>\n",
              "      <td>138.0</td>\n",
              "      <td>285.0</td>\n",
              "    </tr>\n",
              "    <tr>\n",
              "      <th>H August</th>\n",
              "      <td>0.0</td>\n",
              "      <td>188.0</td>\n",
              "      <td>0.0</td>\n",
              "    </tr>\n",
              "    <tr>\n",
              "      <th>I September</th>\n",
              "      <td>98.0</td>\n",
              "      <td>2707.0</td>\n",
              "      <td>NaN</td>\n",
              "    </tr>\n",
              "    <tr>\n",
              "      <th>J October</th>\n",
              "      <td>0.0</td>\n",
              "      <td>3111.0</td>\n",
              "      <td>NaN</td>\n",
              "    </tr>\n",
              "    <tr>\n",
              "      <th>K November</th>\n",
              "      <td>432.0</td>\n",
              "      <td>68.0</td>\n",
              "      <td>NaN</td>\n",
              "    </tr>\n",
              "    <tr>\n",
              "      <th>L December</th>\n",
              "      <td>882.0</td>\n",
              "      <td>115.0</td>\n",
              "      <td>NaN</td>\n",
              "    </tr>\n",
              "  </tbody>\n",
              "</table>\n",
              "</div>"
            ],
            "text/plain": [
              "arrival_date_year    2015    2016    2017\n",
              "arrival_date_month                       \n",
              "A January             NaN   747.0   172.0\n",
              "B February            NaN   200.0   264.0\n",
              "C March               NaN   701.0   438.0\n",
              "D April               NaN  1915.0  1470.0\n",
              "E May                 NaN  2713.0  1028.0\n",
              "F June                NaN   862.0  1219.0\n",
              "G July                0.0   138.0   285.0\n",
              "H August              0.0   188.0     0.0\n",
              "I September          98.0  2707.0     NaN\n",
              "J October             0.0  3111.0     NaN\n",
              "K November          432.0    68.0     NaN\n",
              "L December          882.0   115.0     NaN"
            ]
          },
          "metadata": {
            "tags": []
          },
          "execution_count": 48
        }
      ]
    },
    {
      "cell_type": "code",
      "metadata": {
        "id": "9_QX6pkg0XWh"
      },
      "source": [
        "# cancel_analysis = hotel_df.groupby(['year_month'])['is_canceled'].value_counts()\n",
        "# cancel_analysis.plot(kind = \"line\", figsize = (30,30))"
      ],
      "execution_count": null,
      "outputs": []
    },
    {
      "cell_type": "code",
      "metadata": {
        "id": "-AeG8g2-1Zp0",
        "colab": {
          "base_uri": "https://localhost:8080/",
          "height": 1000
        },
        "outputId": "254f0187-3c5a-4d94-a854-51495a4626fe"
      },
      "source": [
        "#waiting days of every year per month for cancellations\n",
        "hotels_pivot = pd.pivot_table(\n",
        "\thotels_cancelled,\n",
        "\tvalues=\"is_canceled\",\n",
        "\tindex=\"arrival_date_month\",\n",
        "\tcolumns=\"arrival_date_year\",\n",
        "\taggfunc= \"count\"\n",
        ")\n",
        "\n",
        "ax = hotels_pivot.plot(kind=\"barh\")\n",
        "fig = ax.get_figure()\n",
        "# Change the plot dimensions (width, height)\n",
        "fig.set_size_inches(10, 10)\n",
        "# Change the axes labels\n",
        "ax.set_xlabel(\"Years\")\n",
        "ax.set_ylabel(\"Cancellations\")\n",
        "\n",
        "# Use this to show the plot in a new window\n",
        "plt.show()\n",
        "print('\\n\\n\\n')\n",
        "hotels_pivot"
      ],
      "execution_count": null,
      "outputs": [
        {
          "output_type": "display_data",
          "data": {
            "image/png": "[encoded data removed]",
            "text/plain": [
              "<Figure size 720x720 with 1 Axes>"
            ]
          },
          "metadata": {
            "tags": [],
            "needs_background": "light"
          }
        },
        {
          "output_type": "stream",
          "text": [
            "\n",
            "\n",
            "\n",
            "\n"
          ],
          "name": "stdout"
        },
        {
          "output_type": "execute_result",
          "data": {
            "text/html": [
              "<div>\n",
              "<style scoped>\n",
              "    .dataframe tbody tr th:only-of-type {\n",
              "        vertical-align: middle;\n",
              "    }\n",
              "\n",
              "    .dataframe tbody tr th {\n",
              "        vertical-align: top;\n",
              "    }\n",
              "\n",
              "    .dataframe thead th {\n",
              "        text-align: right;\n",
              "    }\n",
              "</style>\n",
              "<table border=\"1\" class=\"dataframe\">\n",
              "  <thead>\n",
              "    <tr style=\"text-align: right;\">\n",
              "      <th>arrival_date_year</th>\n",
              "      <th>2015</th>\n",
              "      <th>2016</th>\n",
              "      <th>2017</th>\n",
              "    </tr>\n",
              "    <tr>\n",
              "      <th>arrival_date_month</th>\n",
              "      <th></th>\n",
              "      <th></th>\n",
              "      <th></th>\n",
              "    </tr>\n",
              "  </thead>\n",
              "  <tbody>\n",
              "    <tr>\n",
              "      <th>A January</th>\n",
              "      <td>NaN</td>\n",
              "      <td>301.0</td>\n",
              "      <td>736.0</td>\n",
              "    </tr>\n",
              "    <tr>\n",
              "      <th>B February</th>\n",
              "      <td>NaN</td>\n",
              "      <td>527.0</td>\n",
              "      <td>887.0</td>\n",
              "    </tr>\n",
              "    <tr>\n",
              "      <th>C March</th>\n",
              "      <td>NaN</td>\n",
              "      <td>885.0</td>\n",
              "      <td>944.0</td>\n",
              "    </tr>\n",
              "    <tr>\n",
              "      <th>D April</th>\n",
              "      <td>NaN</td>\n",
              "      <td>1012.0</td>\n",
              "      <td>1392.0</td>\n",
              "    </tr>\n",
              "    <tr>\n",
              "      <th>E May</th>\n",
              "      <td>NaN</td>\n",
              "      <td>941.0</td>\n",
              "      <td>1501.0</td>\n",
              "    </tr>\n",
              "    <tr>\n",
              "      <th>F June</th>\n",
              "      <td>NaN</td>\n",
              "      <td>910.0</td>\n",
              "      <td>1443.0</td>\n",
              "    </tr>\n",
              "    <tr>\n",
              "      <th>G July</th>\n",
              "      <td>512.0</td>\n",
              "      <td>1084.0</td>\n",
              "      <td>1596.0</td>\n",
              "    </tr>\n",
              "    <tr>\n",
              "      <th>H August</th>\n",
              "      <td>567.0</td>\n",
              "      <td>1441.0</td>\n",
              "      <td>1610.0</td>\n",
              "    </tr>\n",
              "    <tr>\n",
              "      <th>I September</th>\n",
              "      <td>560.0</td>\n",
              "      <td>1076.0</td>\n",
              "      <td>NaN</td>\n",
              "    </tr>\n",
              "    <tr>\n",
              "      <th>J October</th>\n",
              "      <td>437.0</td>\n",
              "      <td>1200.0</td>\n",
              "      <td>NaN</td>\n",
              "    </tr>\n",
              "    <tr>\n",
              "      <th>K November</th>\n",
              "      <td>243.0</td>\n",
              "      <td>809.0</td>\n",
              "      <td>NaN</td>\n",
              "    </tr>\n",
              "    <tr>\n",
              "      <th>L December</th>\n",
              "      <td>372.0</td>\n",
              "      <td>1001.0</td>\n",
              "      <td>NaN</td>\n",
              "    </tr>\n",
              "  </tbody>\n",
              "</table>\n",
              "</div>"
            ],
            "text/plain": [
              "arrival_date_year    2015    2016    2017\n",
              "arrival_date_month                       \n",
              "A January             NaN   301.0   736.0\n",
              "B February            NaN   527.0   887.0\n",
              "C March               NaN   885.0   944.0\n",
              "D April               NaN  1012.0  1392.0\n",
              "E May                 NaN   941.0  1501.0\n",
              "F June                NaN   910.0  1443.0\n",
              "G July              512.0  1084.0  1596.0\n",
              "H August            567.0  1441.0  1610.0\n",
              "I September         560.0  1076.0     NaN\n",
              "J October           437.0  1200.0     NaN\n",
              "K November          243.0   809.0     NaN\n",
              "L December          372.0  1001.0     NaN"
            ]
          },
          "metadata": {
            "tags": []
          },
          "execution_count": 50
        }
      ]
    },
    {
      "cell_type": "markdown",
      "metadata": {
        "id": "qAbN0I-a4uxz"
      },
      "source": [
        "###Conclusion: Cancelled hotels might have many factors but waiting is also one of them."
      ]
    },
    {
      "cell_type": "code",
      "metadata": {
        "id": "LEbzOZzX3U1-"
      },
      "source": [
        ""
      ],
      "execution_count": null,
      "outputs": []
    }
  ]
}