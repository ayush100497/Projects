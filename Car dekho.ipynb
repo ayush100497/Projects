{
  "nbformat": 4,
  "nbformat_minor": 0,
  "metadata": {
    "colab": {
      "name": "Copy of Self Project - Linear Regression (Car Dekho).ipynb",
      "provenance": [],
      "collapsed_sections": [],
      "include_colab_link": true
    },
    "kernelspec": {
      "name": "python3",
      "display_name": "Python 3"
    }
  },
  "cells": [
    {
      "cell_type": "markdown",
      "metadata": {
        "id": "view-in-github",
        "colab_type": "text"
      },
      "source": [
        "<a href=\"https://colab.research.google.com/github/ayush100497/ayush100497/blob/main/Copy_of_Self_Project_Linear_Regression_(Car_Dekho).ipynb\" target=\"_parent\"><img src=\"https://colab.research.google.com/assets/colab-badge.svg\" alt=\"Open In Colab\"/></a>"
      ]
    },
    {
      "cell_type": "markdown",
      "metadata": {
        "id": "Oq9OIkpjU3hr"
      },
      "source": [
        "\n",
        "## <b> CarDekho.com is India's leading car search venture that helps users buy cars that are right for them. Its website and app carry rich automotive content such as expert reviews, detailed specs and prices, comparisons as well as videos and pictures of all car brands and models available in India. The company has tie-ups with many auto manufacturers, more than 4000 car dealers and numerous financial institutions to facilitate the purchase of vehicles.\n",
        "\n",
        "## <b> CarDekho.com has launched many innovative features to ensure that users get an immersive experience of the car model before visiting a dealer showroom. These include a Feel The Car tool that gives 360-degree interior/exterior views with sounds of the car and explanations of features with videos; search and comparison by make, model, price, features; and live offers and promotions in all cities. The platform also has used car classifieds wherein users can upload their cars for sale, and find used cars for buying from individuals and used car dealers.\n",
        "\n",
        "## <b> Besides the above consumer product features, CarDekho.com provides a rich array of tech-enabled tools to OE manufacturers and car dealers. These include apps for dealer sales executives to manage leads, cloud services for tracking sales performance, call tracker solution, digital marketing support, virtual online showroom and outsourced lead management operational process for taking consumers from enquiry to sale.\n",
        "\n",
        "## <b> Our vision is to construct a complete ecosystem for consumers and car manufacturers, dealers and related businesses such that consumers have easy and complete access to not only buying and selling cars, but also manage their entire ownership experience, be it accessories, tyres, batteries, insurance or roadside assistance. </b>"
      ]
    },
    {
      "cell_type": "code",
      "metadata": {
        "id": "hNhquZf0J2aK"
      },
      "source": [
        ""
      ],
      "execution_count": null,
      "outputs": []
    },
    {
      "cell_type": "markdown",
      "metadata": {
        "id": "1gcS5qNzT95u"
      },
      "source": [
        "## <b>In this project, the dataset contains information about used cars listed on www.cardekho.com. This data can be used for a lot of purposes such as price prediction to exemplify the use of linear regression in Machine Learning.</b>\n",
        "\n",
        "## <b>The columns in the given dataset are as follows:</b>\n",
        "\n",
        "- ### name\n",
        "- ### year\n",
        "- ### selling_price\n",
        "- ### km_driven\n",
        "- ### fuel\n",
        "- ### seller_type\n",
        "- ### transmission\n",
        "- ### Owner"
      ]
    },
    {
      "cell_type": "markdown",
      "metadata": {
        "id": "kvk_FhylUuxj"
      },
      "source": [
        "## <b>Load up this dataset in the kernel and perform initial exploratory data analysis (EDA). You should also try creating new features based on the existing ones. The dependent variable is the <code>selling_price</code>. \n",
        "\n",
        "## <b> Your task is to build a linear regression model on this dataset (always split into train and test). Evaluate the fitted model on test data using different regression metrics. Also use your linear regression model from <code>statsmodels.api</code> to run a similar regression and obtain parameter inferences for each of the model variables. Next, you need to try if regularizing your model helps you perform well on the test dataset. For this, use <code> Ridge</code> and <code>Lasso</code> regressions on the dataset and check for different values of the tuning parameter ($\\lambda$ or $\\alpha$ , do not confuse this $\\alpha$ with the learning rate.) For each of the above regressions, get the feature importances using the regression coefficients.\n",
        "\n",
        "## <b><u> Few things to keep in mind :</u>\n",
        "* ### You should take care of categorical variables (variables which take discrete categories or classes) and do one-hot encoding to be able to pass them into the model.\n",
        "* ### Try to include as many plots and charts you can. This adds for a great visual interpretation of your tasks/activities.\n",
        "* ### Write detailed explanation of your approaches in the notebook and once you have some results, try to provide explanations for these observed results. Remember our objective is not only to build a machine learning model but to be able to explain why, what and how of the entire modeling process."
      ]
    },
    {
      "cell_type": "code",
      "metadata": {
        "id": "p0gkUooyR6Ix"
      },
      "source": [
        "# Importing the libraries\n",
        "import numpy as np\n",
        "import pandas as pd\n",
        "from numpy import math\n",
        "\n",
        "from sklearn.preprocessing import MinMaxScaler\n",
        "from sklearn.model_selection import train_test_split\n",
        "from sklearn.linear_model import LinearRegression\n",
        "from sklearn.metrics import r2_score\n",
        "from sklearn.metrics import mean_squared_error\n",
        "import seaborn as sns\n",
        "import matplotlib.pyplot as plt\n",
        "import warnings\n",
        "warnings.filterwarnings('ignore')"
      ],
      "execution_count": null,
      "outputs": []
    },
    {
      "cell_type": "code",
      "metadata": {
        "id": "nRnvnaZ8VOtw",
        "colab": {
          "base_uri": "https://localhost:8080/"
        },
        "outputId": "479d2816-5692-4ce0-bfdb-cf9f39342cb9"
      },
      "source": [
        "from google.colab import drive\n",
        "drive.mount('/content/drive')"
      ],
      "execution_count": null,
      "outputs": [
        {
          "output_type": "stream",
          "text": [
            "Drive already mounted at /content/drive; to attempt to forcibly remount, call drive.mount(\"/content/drive\", force_remount=True).\n"
          ],
          "name": "stdout"
        }
      ]
    },
    {
      "cell_type": "code",
      "metadata": {
        "id": "bAR4dHQWWwSM"
      },
      "source": [
        "# Importing the dataset\n",
        "dataset = pd.read_csv('/content/drive/MyDrive/Self project linear reg/CAR DETAILS FROM CAR DEKHO.csv')\n",
        "# # Importing the dataset\n",
        "car_details_df = pd.read_csv('/content/drive/MyDrive/Self project linear reg/Car details v3.csv')\n",
        "# # Importing the dataset\n",
        "car_data_df = pd.read_csv('/content/drive/MyDrive/Self project linear reg/car data.csv')"
      ],
      "execution_count": null,
      "outputs": []
    },
    {
      "cell_type": "code",
      "metadata": {
        "id": "nZuNe4yrW5EF",
        "colab": {
          "base_uri": "https://localhost:8080/"
        },
        "outputId": "8d393ac5-3d41-4b05-83c7-8ef2793c089c"
      },
      "source": [
        "# First look\n",
        "dataset.head()\n",
        "#Finding the unique values and variants acc to fuel\n",
        "dataset[dataset['name'].str.contains(\"LXI\")]['fuel'].unique()\n",
        "#check null values of each column after string split of col Name\n",
        "print('\\nNull Values By columns\\n',dataset['name'].str.split(expand = True).isna().sum())\n",
        "dataset[['Company_make','variant','Model','F1','F2','F3','F4','F5','F6','F7']] = dataset['name'].str.split(expand = True)\n",
        "#As wagon R are two separate names we will replace that particular names.\n",
        "dataset['variant'].replace({\"Wagon\":\"Wagon R\"}, inplace = True)\n",
        "dataset['Model'].replace({'R':''},inplace = True)\n",
        "#after split we gather the required cols and delete pending cols\n",
        "dataset = dataset.drop(['Model','F1','F2','F3','F4','F5','F6','F7'], axis =1)\n"
      ],
      "execution_count": null,
      "outputs": [
        {
          "output_type": "stream",
          "text": [
            "\n",
            "Null Values By columns\n",
            " 0       0\n",
            "1       0\n",
            "2       1\n",
            "3     770\n",
            "4    2235\n",
            "5    3336\n",
            "6    3977\n",
            "7    4251\n",
            "8    4302\n",
            "9    4339\n",
            "dtype: int64\n"
          ],
          "name": "stdout"
        }
      ]
    },
    {
      "cell_type": "code",
      "metadata": {
        "id": "KtPFkHyJW53J",
        "colab": {
          "base_uri": "https://localhost:8080/"
        },
        "outputId": "9d5df9b1-0bd9-4ca6-9e00-c8e2baa7d77e"
      },
      "source": [
        "dataset.info()"
      ],
      "execution_count": null,
      "outputs": [
        {
          "output_type": "stream",
          "text": [
            "<class 'pandas.core.frame.DataFrame'>\n",
            "RangeIndex: 4340 entries, 0 to 4339\n",
            "Data columns (total 10 columns):\n",
            " #   Column         Non-Null Count  Dtype \n",
            "---  ------         --------------  ----- \n",
            " 0   name           4340 non-null   object\n",
            " 1   year           4340 non-null   int64 \n",
            " 2   selling_price  4340 non-null   int64 \n",
            " 3   km_driven      4340 non-null   int64 \n",
            " 4   fuel           4340 non-null   object\n",
            " 5   seller_type    4340 non-null   object\n",
            " 6   transmission   4340 non-null   object\n",
            " 7   owner          4340 non-null   object\n",
            " 8   Company_make   4340 non-null   object\n",
            " 9   variant        4340 non-null   object\n",
            "dtypes: int64(3), object(7)\n",
            "memory usage: 339.2+ KB\n"
          ],
          "name": "stdout"
        }
      ]
    },
    {
      "cell_type": "code",
      "metadata": {
        "id": "a9cfJf4KR-mb",
        "colab": {
          "base_uri": "https://localhost:8080/"
        },
        "outputId": "eed38d35-468b-4f66-ca86-23321806f788"
      },
      "source": [
        "#Check unique values of each col\n",
        "dataset.nunique()"
      ],
      "execution_count": null,
      "outputs": [
        {
          "output_type": "execute_result",
          "data": {
            "text/plain": [
              "name             1491\n",
              "year               27\n",
              "selling_price     445\n",
              "km_driven         770\n",
              "fuel                5\n",
              "seller_type         3\n",
              "transmission        2\n",
              "owner               5\n",
              "Company_make       29\n",
              "variant           185\n",
              "dtype: int64"
            ]
          },
          "metadata": {
            "tags": []
          },
          "execution_count": 8
        }
      ]
    },
    {
      "cell_type": "code",
      "metadata": {
        "id": "PdAaZDJx6mdC",
        "colab": {
          "base_uri": "https://localhost:8080/"
        },
        "outputId": "6eb3e704-7847-455e-a1b1-a506848a7d5f"
      },
      "source": [
        "# duplicates removed\n",
        "print('Duplicates:',len(dataset[dataset.duplicated()]))\n",
        "dataset_nodup = dataset.drop_duplicates()"
      ],
      "execution_count": null,
      "outputs": [
        {
          "output_type": "stream",
          "text": [
            "Duplicates: 763\n"
          ],
          "name": "stdout"
        }
      ]
    },
    {
      "cell_type": "code",
      "metadata": {
        "id": "Zahlh_VfRvF-",
        "colab": {
          "base_uri": "https://localhost:8080/",
          "height": 419
        },
        "outputId": "0f87dcd6-3b84-4753-9cd5-4741a6280908"
      },
      "source": [
        "dataset\n"
      ],
      "execution_count": null,
      "outputs": [
        {
          "output_type": "execute_result",
          "data": {
            "text/html": [
              "<div>\n",
              "<style scoped>\n",
              "    .dataframe tbody tr th:only-of-type {\n",
              "        vertical-align: middle;\n",
              "    }\n",
              "\n",
              "    .dataframe tbody tr th {\n",
              "        vertical-align: top;\n",
              "    }\n",
              "\n",
              "    .dataframe thead th {\n",
              "        text-align: right;\n",
              "    }\n",
              "</style>\n",
              "<table border=\"1\" class=\"dataframe\">\n",
              "  <thead>\n",
              "    <tr style=\"text-align: right;\">\n",
              "      <th></th>\n",
              "      <th>name</th>\n",
              "      <th>year</th>\n",
              "      <th>selling_price</th>\n",
              "      <th>km_driven</th>\n",
              "      <th>fuel</th>\n",
              "      <th>seller_type</th>\n",
              "      <th>transmission</th>\n",
              "      <th>owner</th>\n",
              "      <th>Company_make</th>\n",
              "      <th>variant</th>\n",
              "    </tr>\n",
              "  </thead>\n",
              "  <tbody>\n",
              "    <tr>\n",
              "      <th>0</th>\n",
              "      <td>Maruti 800 AC</td>\n",
              "      <td>2007</td>\n",
              "      <td>60000</td>\n",
              "      <td>70000</td>\n",
              "      <td>Petrol</td>\n",
              "      <td>Individual</td>\n",
              "      <td>Manual</td>\n",
              "      <td>First Owner</td>\n",
              "      <td>Maruti</td>\n",
              "      <td>800</td>\n",
              "    </tr>\n",
              "    <tr>\n",
              "      <th>1</th>\n",
              "      <td>Maruti Wagon R LXI Minor</td>\n",
              "      <td>2007</td>\n",
              "      <td>135000</td>\n",
              "      <td>50000</td>\n",
              "      <td>Petrol</td>\n",
              "      <td>Individual</td>\n",
              "      <td>Manual</td>\n",
              "      <td>First Owner</td>\n",
              "      <td>Maruti</td>\n",
              "      <td>Wagon R</td>\n",
              "    </tr>\n",
              "    <tr>\n",
              "      <th>2</th>\n",
              "      <td>Hyundai Verna 1.6 SX</td>\n",
              "      <td>2012</td>\n",
              "      <td>600000</td>\n",
              "      <td>100000</td>\n",
              "      <td>Diesel</td>\n",
              "      <td>Individual</td>\n",
              "      <td>Manual</td>\n",
              "      <td>First Owner</td>\n",
              "      <td>Hyundai</td>\n",
              "      <td>Verna</td>\n",
              "    </tr>\n",
              "    <tr>\n",
              "      <th>3</th>\n",
              "      <td>Datsun RediGO T Option</td>\n",
              "      <td>2017</td>\n",
              "      <td>250000</td>\n",
              "      <td>46000</td>\n",
              "      <td>Petrol</td>\n",
              "      <td>Individual</td>\n",
              "      <td>Manual</td>\n",
              "      <td>First Owner</td>\n",
              "      <td>Datsun</td>\n",
              "      <td>RediGO</td>\n",
              "    </tr>\n",
              "    <tr>\n",
              "      <th>4</th>\n",
              "      <td>Honda Amaze VX i-DTEC</td>\n",
              "      <td>2014</td>\n",
              "      <td>450000</td>\n",
              "      <td>141000</td>\n",
              "      <td>Diesel</td>\n",
              "      <td>Individual</td>\n",
              "      <td>Manual</td>\n",
              "      <td>Second Owner</td>\n",
              "      <td>Honda</td>\n",
              "      <td>Amaze</td>\n",
              "    </tr>\n",
              "    <tr>\n",
              "      <th>...</th>\n",
              "      <td>...</td>\n",
              "      <td>...</td>\n",
              "      <td>...</td>\n",
              "      <td>...</td>\n",
              "      <td>...</td>\n",
              "      <td>...</td>\n",
              "      <td>...</td>\n",
              "      <td>...</td>\n",
              "      <td>...</td>\n",
              "      <td>...</td>\n",
              "    </tr>\n",
              "    <tr>\n",
              "      <th>4335</th>\n",
              "      <td>Hyundai i20 Magna 1.4 CRDi (Diesel)</td>\n",
              "      <td>2014</td>\n",
              "      <td>409999</td>\n",
              "      <td>80000</td>\n",
              "      <td>Diesel</td>\n",
              "      <td>Individual</td>\n",
              "      <td>Manual</td>\n",
              "      <td>Second Owner</td>\n",
              "      <td>Hyundai</td>\n",
              "      <td>i20</td>\n",
              "    </tr>\n",
              "    <tr>\n",
              "      <th>4336</th>\n",
              "      <td>Hyundai i20 Magna 1.4 CRDi</td>\n",
              "      <td>2014</td>\n",
              "      <td>409999</td>\n",
              "      <td>80000</td>\n",
              "      <td>Diesel</td>\n",
              "      <td>Individual</td>\n",
              "      <td>Manual</td>\n",
              "      <td>Second Owner</td>\n",
              "      <td>Hyundai</td>\n",
              "      <td>i20</td>\n",
              "    </tr>\n",
              "    <tr>\n",
              "      <th>4337</th>\n",
              "      <td>Maruti 800 AC BSIII</td>\n",
              "      <td>2009</td>\n",
              "      <td>110000</td>\n",
              "      <td>83000</td>\n",
              "      <td>Petrol</td>\n",
              "      <td>Individual</td>\n",
              "      <td>Manual</td>\n",
              "      <td>Second Owner</td>\n",
              "      <td>Maruti</td>\n",
              "      <td>800</td>\n",
              "    </tr>\n",
              "    <tr>\n",
              "      <th>4338</th>\n",
              "      <td>Hyundai Creta 1.6 CRDi SX Option</td>\n",
              "      <td>2016</td>\n",
              "      <td>865000</td>\n",
              "      <td>90000</td>\n",
              "      <td>Diesel</td>\n",
              "      <td>Individual</td>\n",
              "      <td>Manual</td>\n",
              "      <td>First Owner</td>\n",
              "      <td>Hyundai</td>\n",
              "      <td>Creta</td>\n",
              "    </tr>\n",
              "    <tr>\n",
              "      <th>4339</th>\n",
              "      <td>Renault KWID RXT</td>\n",
              "      <td>2016</td>\n",
              "      <td>225000</td>\n",
              "      <td>40000</td>\n",
              "      <td>Petrol</td>\n",
              "      <td>Individual</td>\n",
              "      <td>Manual</td>\n",
              "      <td>First Owner</td>\n",
              "      <td>Renault</td>\n",
              "      <td>KWID</td>\n",
              "    </tr>\n",
              "  </tbody>\n",
              "</table>\n",
              "<p>4340 rows × 10 columns</p>\n",
              "</div>"
            ],
            "text/plain": [
              "                                     name  year  ...  Company_make  variant\n",
              "0                           Maruti 800 AC  2007  ...        Maruti      800\n",
              "1                Maruti Wagon R LXI Minor  2007  ...        Maruti  Wagon R\n",
              "2                    Hyundai Verna 1.6 SX  2012  ...       Hyundai    Verna\n",
              "3                  Datsun RediGO T Option  2017  ...        Datsun   RediGO\n",
              "4                   Honda Amaze VX i-DTEC  2014  ...         Honda    Amaze\n",
              "...                                   ...   ...  ...           ...      ...\n",
              "4335  Hyundai i20 Magna 1.4 CRDi (Diesel)  2014  ...       Hyundai      i20\n",
              "4336           Hyundai i20 Magna 1.4 CRDi  2014  ...       Hyundai      i20\n",
              "4337                  Maruti 800 AC BSIII  2009  ...        Maruti      800\n",
              "4338     Hyundai Creta 1.6 CRDi SX Option  2016  ...       Hyundai    Creta\n",
              "4339                     Renault KWID RXT  2016  ...       Renault     KWID\n",
              "\n",
              "[4340 rows x 10 columns]"
            ]
          },
          "metadata": {
            "tags": []
          },
          "execution_count": 10
        }
      ]
    },
    {
      "cell_type": "code",
      "metadata": {
        "id": "fCZY0bFqVTUM",
        "colab": {
          "base_uri": "https://localhost:8080/",
          "height": 471
        },
        "outputId": "d9a2e768-00f6-40c9-c117-4c9840f51d83"
      },
      "source": [
        "# Dependent variable selling price\n",
        "plt.figure(figsize=(7,7))\n",
        "sns.distplot(dataset['selling_price'],color=\"y\")"
      ],
      "execution_count": null,
      "outputs": [
        {
          "output_type": "execute_result",
          "data": {
            "text/plain": [
              "<matplotlib.axes._subplots.AxesSubplot at 0x7f3c59569850>"
            ]
          },
          "metadata": {
            "tags": []
          },
          "execution_count": 11
        },
        {
          "output_type": "display_data",
          "data": {
            "image/png": "[encoded data removed]",
            "text/plain": [
              "<Figure size 504x504 with 1 Axes>"
            ]
          },
          "metadata": {
            "tags": [],
            "needs_background": "light"
          }
        }
      ]
    },
    {
      "cell_type": "code",
      "metadata": {
        "colab": {
          "base_uri": "https://localhost:8080/",
          "height": 460
        },
        "id": "_7JqQBNr4UB0",
        "outputId": "ad05c0f6-399f-45e1-b263-e3ead9af2304"
      },
      "source": [
        "# Dependent variable plot using log to get normal distribution\n",
        "plt.figure(figsize=(7,7))\n",
        "sns.distplot(np.log10(dataset['selling_price']),color=\"y\")"
      ],
      "execution_count": null,
      "outputs": [
        {
          "output_type": "execute_result",
          "data": {
            "text/plain": [
              "<matplotlib.axes._subplots.AxesSubplot at 0x7f3c595fd350>"
            ]
          },
          "metadata": {
            "tags": []
          },
          "execution_count": 12
        },
        {
          "output_type": "display_data",
          "data": {
            "image/png": "[encoded data removed]",
            "text/plain": [
              "<Figure size 504x504 with 1 Axes>"
            ]
          },
          "metadata": {
            "tags": [],
            "needs_background": "light"
          }
        }
      ]
    },
    {
      "cell_type": "code",
      "metadata": {
        "id": "JSHj8UxC4hxP",
        "colab": {
          "base_uri": "https://localhost:8080/",
          "height": 419
        },
        "outputId": "36eb9078-5cfd-4648-cfb6-3ffb4cf3789d"
      },
      "source": [
        "numeric_features = dataset.describe().columns\n",
        "dataset[numeric_features]"
      ],
      "execution_count": null,
      "outputs": [
        {
          "output_type": "execute_result",
          "data": {
            "text/html": [
              "<div>\n",
              "<style scoped>\n",
              "    .dataframe tbody tr th:only-of-type {\n",
              "        vertical-align: middle;\n",
              "    }\n",
              "\n",
              "    .dataframe tbody tr th {\n",
              "        vertical-align: top;\n",
              "    }\n",
              "\n",
              "    .dataframe thead th {\n",
              "        text-align: right;\n",
              "    }\n",
              "</style>\n",
              "<table border=\"1\" class=\"dataframe\">\n",
              "  <thead>\n",
              "    <tr style=\"text-align: right;\">\n",
              "      <th></th>\n",
              "      <th>year</th>\n",
              "      <th>selling_price</th>\n",
              "      <th>km_driven</th>\n",
              "    </tr>\n",
              "  </thead>\n",
              "  <tbody>\n",
              "    <tr>\n",
              "      <th>0</th>\n",
              "      <td>2007</td>\n",
              "      <td>60000</td>\n",
              "      <td>70000</td>\n",
              "    </tr>\n",
              "    <tr>\n",
              "      <th>1</th>\n",
              "      <td>2007</td>\n",
              "      <td>135000</td>\n",
              "      <td>50000</td>\n",
              "    </tr>\n",
              "    <tr>\n",
              "      <th>2</th>\n",
              "      <td>2012</td>\n",
              "      <td>600000</td>\n",
              "      <td>100000</td>\n",
              "    </tr>\n",
              "    <tr>\n",
              "      <th>3</th>\n",
              "      <td>2017</td>\n",
              "      <td>250000</td>\n",
              "      <td>46000</td>\n",
              "    </tr>\n",
              "    <tr>\n",
              "      <th>4</th>\n",
              "      <td>2014</td>\n",
              "      <td>450000</td>\n",
              "      <td>141000</td>\n",
              "    </tr>\n",
              "    <tr>\n",
              "      <th>...</th>\n",
              "      <td>...</td>\n",
              "      <td>...</td>\n",
              "      <td>...</td>\n",
              "    </tr>\n",
              "    <tr>\n",
              "      <th>4335</th>\n",
              "      <td>2014</td>\n",
              "      <td>409999</td>\n",
              "      <td>80000</td>\n",
              "    </tr>\n",
              "    <tr>\n",
              "      <th>4336</th>\n",
              "      <td>2014</td>\n",
              "      <td>409999</td>\n",
              "      <td>80000</td>\n",
              "    </tr>\n",
              "    <tr>\n",
              "      <th>4337</th>\n",
              "      <td>2009</td>\n",
              "      <td>110000</td>\n",
              "      <td>83000</td>\n",
              "    </tr>\n",
              "    <tr>\n",
              "      <th>4338</th>\n",
              "      <td>2016</td>\n",
              "      <td>865000</td>\n",
              "      <td>90000</td>\n",
              "    </tr>\n",
              "    <tr>\n",
              "      <th>4339</th>\n",
              "      <td>2016</td>\n",
              "      <td>225000</td>\n",
              "      <td>40000</td>\n",
              "    </tr>\n",
              "  </tbody>\n",
              "</table>\n",
              "<p>4340 rows × 3 columns</p>\n",
              "</div>"
            ],
            "text/plain": [
              "      year  selling_price  km_driven\n",
              "0     2007          60000      70000\n",
              "1     2007         135000      50000\n",
              "2     2012         600000     100000\n",
              "3     2017         250000      46000\n",
              "4     2014         450000     141000\n",
              "...    ...            ...        ...\n",
              "4335  2014         409999      80000\n",
              "4336  2014         409999      80000\n",
              "4337  2009         110000      83000\n",
              "4338  2016         865000      90000\n",
              "4339  2016         225000      40000\n",
              "\n",
              "[4340 rows x 3 columns]"
            ]
          },
          "metadata": {
            "tags": []
          },
          "execution_count": 13
        }
      ]
    },
    {
      "cell_type": "code",
      "metadata": {
        "colab": {
          "base_uri": "https://localhost:8080/",
          "height": 69
        },
        "id": "tD7OH62w5hIh",
        "outputId": "e2705095-5bab-44a7-ea1d-acab354bfa19"
      },
      "source": [
        "#@title Default title text\n",
        "# plot a bar plot for each numerical feature count except year\n",
        "\n",
        "for col in numeric_features[::]:\n",
        "    fig = plt.figure(figsize=(9, 6))\n",
        "    ax = fig.gca()\n",
        "    feature = dataset[col]\n",
        "    feature.hist(bins=50, ax = ax)\n",
        "    ax.axvline(feature.mean(), color='magenta', linestyle='dashed', linewidth=2)\n",
        "    ax.axvline(feature.median(), color='cyan', linestyle='dashed', linewidth=2)    \n",
        "    ax.set_title(col)\n",
        "plt.show()\n"
      ],
      "execution_count": null,
      "outputs": [
        {
          "output_type": "execute_result",
          "data": {
            "application/vnd.google.colaboratory.intrinsic+json": {
              "type": "string"
            },
            "text/plain": [
              "\"\\nfor col in numeric_features[::]:\\n    fig = plt.figure(figsize=(9, 6))\\n    ax = fig.gca()\\n    feature = dataset[col]\\n    feature.hist(bins=50, ax = ax)\\n    ax.axvline(feature.mean(), color='magenta', linestyle='dashed', linewidth=2)\\n    ax.axvline(feature.median(), color='cyan', linestyle='dashed', linewidth=2)    \\n    ax.set_title(col)\\nplt.show()\""
            ]
          },
          "metadata": {
            "tags": []
          },
          "execution_count": 14
        }
      ]
    },
    {
      "cell_type": "code",
      "metadata": {
        "colab": {
          "base_uri": "https://localhost:8080/",
          "height": 69
        },
        "id": "TVCRtkXx7Jbi",
        "outputId": "5cc92f2c-b797-4759-908c-a22336b9affb"
      },
      "source": [
        "#@title Default title text\n",
        "# plot a log bar plot for each numerical feature count except year\n",
        "\n",
        "for col in numeric_features[::]:\n",
        "    fig = plt.figure(figsize=(9, 6))\n",
        "    ax = fig.gca()\n",
        "    feature = np.log10(dataset[col])\n",
        "    feature.hist(bins=50, ax = ax)\n",
        "    ax.axvline(feature.mean(), color='magenta', linestyle='dashed', linewidth=2)\n",
        "    ax.axvline(feature.median(), color='cyan', linestyle='dashed', linewidth=2)    \n",
        "    ax.set_title(col)\n",
        "plt.show()"
      ],
      "execution_count": null,
      "outputs": [
        {
          "output_type": "execute_result",
          "data": {
            "application/vnd.google.colaboratory.intrinsic+json": {
              "type": "string"
            },
            "text/plain": [
              "\"\\nfor col in numeric_features[::]:\\n    fig = plt.figure(figsize=(9, 6))\\n    ax = fig.gca()\\n    feature = np.log10(dataset[col])\\n    feature.hist(bins=50, ax = ax)\\n    ax.axvline(feature.mean(), color='magenta', linestyle='dashed', linewidth=2)\\n    ax.axvline(feature.median(), color='cyan', linestyle='dashed', linewidth=2)    \\n    ax.set_title(col)\\nplt.show()\""
            ]
          },
          "metadata": {
            "tags": []
          },
          "execution_count": 15
        }
      ]
    },
    {
      "cell_type": "code",
      "metadata": {
        "colab": {
          "base_uri": "https://localhost:8080/",
          "height": 86
        },
        "id": "xvBNKh4a51Oj",
        "outputId": "12429f58-964e-48d2-b3ca-0ad35cb01419"
      },
      "source": [
        "#Performaing a correlation analysis of price with the numeric features\n",
        "\n",
        "for col in numeric_features[::]:\n",
        "    fig = plt.figure(figsize=(9, 6))\n",
        "    ax = fig.gca()\n",
        "    feature = dataset[col]\n",
        "    label = dataset['selling_price']\n",
        "    correlation = feature.corr(label)\n",
        "    plt.scatter(x=feature, y=label)\n",
        "    plt.xlabel(col)\n",
        "    plt.ylabel('selling_price')\n",
        "    ax.set_title('selling_price vs ' + col + '- correlation: ' + str(correlation))\n",
        "    z = np.polyfit(dataset[col], dataset['selling_price'], 1)\n",
        "    y_hat = np.poly1d(z)(dataset[col])\n",
        "\n",
        "    plt.plot(dataset[col], y_hat, \"r--\", lw=1)\n",
        "\n",
        "plt.show()\n",
        "\n"
      ],
      "execution_count": null,
      "outputs": [
        {
          "output_type": "execute_result",
          "data": {
            "application/vnd.google.colaboratory.intrinsic+json": {
              "type": "string"
            },
            "text/plain": [
              "'\\nfor col in numeric_features[::]:\\n    fig = plt.figure(figsize=(9, 6))\\n    ax = fig.gca()\\n    feature = dataset[col]\\n    label = dataset[\\'selling_price\\']\\n    correlation = feature.corr(label)\\n    plt.scatter(x=feature, y=label)\\n    plt.xlabel(col)\\n    plt.ylabel(\\'selling_price\\')\\n    ax.set_title(\\'selling_price vs \\' + col + \\'- correlation: \\' + str(correlation))\\n    z = np.polyfit(dataset[col], dataset[\\'selling_price\\'], 1)\\n    y_hat = np.poly1d(z)(dataset[col])\\n\\n    plt.plot(dataset[col], y_hat, \"r--\", lw=1)\\n\\nplt.show()'"
            ]
          },
          "metadata": {
            "tags": []
          },
          "execution_count": 16
        }
      ]
    },
    {
      "cell_type": "code",
      "metadata": {
        "colab": {
          "base_uri": "https://localhost:8080/",
          "height": 505
        },
        "id": "qC7q2qLV9AYZ",
        "outputId": "0b2a5428-e500-4063-d009-c448b61ba01a"
      },
      "source": [
        " ## Correlation\n",
        "plt.figure(figsize=(15,8))\n",
        "correlation = dataset.corr()\n",
        "sns.heatmap(abs(correlation), annot=True, cmap='coolwarm')\n",
        "\n"
      ],
      "execution_count": null,
      "outputs": [
        {
          "output_type": "execute_result",
          "data": {
            "text/plain": [
              "<matplotlib.axes._subplots.AxesSubplot at 0x7f3c596647d0>"
            ]
          },
          "metadata": {
            "tags": []
          },
          "execution_count": 17
        },
        {
          "output_type": "display_data",
          "data": {
            "image/png": "[encoded data removed]",
            "text/plain": [
              "<Figure size 1080x576 with 2 Axes>"
            ]
          },
          "metadata": {
            "tags": [],
            "needs_background": "light"
          }
        }
      ]
    },
    {
      "cell_type": "code",
      "metadata": {
        "colab": {
          "base_uri": "https://localhost:8080/"
        },
        "id": "AzwbmbpK-HDc",
        "outputId": "3004ea18-e2e2-4f28-e797-a4de26be6db6"
      },
      "source": [
        "#Total unique car variants and models\n",
        "print('\\nTotal unique cars',dataset['name'].nunique(),'\\n')\n",
        "print(dataset['name'].unique())\n",
        "#number of companies\n",
        "print('\\n\\nNumber of car manufacturing companies',dataset['Company_make'].nunique(),'\\n')\n",
        "print(dataset['Company_make'].unique())\n",
        "#print the variants of cars\n",
        "print('\\n\\n\\nTotal variants of car',dataset['variant'].nunique(),'\\n')\n",
        "print(dataset['variant'].unique())"
      ],
      "execution_count": null,
      "outputs": [
        {
          "output_type": "stream",
          "text": [
            "\n",
            "Total unique cars 1491 \n",
            "\n",
            "['Maruti 800 AC' 'Maruti Wagon R LXI Minor' 'Hyundai Verna 1.6 SX' ...\n",
            " 'Mahindra Verito 1.5 D6 BSIII'\n",
            " 'Toyota Innova 2.5 VX (Diesel) 8 Seater BS IV'\n",
            " 'Hyundai i20 Magna 1.4 CRDi']\n",
            "\n",
            "\n",
            "Number of car manufacturing companies 29 \n",
            "\n",
            "['Maruti' 'Hyundai' 'Datsun' 'Honda' 'Tata' 'Chevrolet' 'Toyota' 'Jaguar'\n",
            " 'Mercedes-Benz' 'Audi' 'Skoda' 'Jeep' 'BMW' 'Mahindra' 'Ford' 'Nissan'\n",
            " 'Renault' 'Fiat' 'Volkswagen' 'Volvo' 'Mitsubishi' 'Land' 'Daewoo' 'MG'\n",
            " 'Force' 'Isuzu' 'OpelCorsa' 'Ambassador' 'Kia']\n",
            "\n",
            "\n",
            "\n",
            "Total variants of car 185 \n",
            "\n",
            "['800' 'Wagon R' 'Verna' 'RediGO' 'Amaze' 'Alto' 'Xcent' 'Indigo' 'Creta'\n",
            " 'Celerio' 'Sail' 'Corolla' 'Ciaz' 'Venue' 'Enjoy' 'XF' 'New' 'Vitara'\n",
            " 'Q5' 'City' 'Tigor' 'A6' 'Superb' 'Innova' 'Compass' 'E-Class' 'i10' '3'\n",
            " 'Q7' 'Elantra' 'Scorpio' 'Santro' 'Grand' 'Swift' 'Eeco' 'i20' 'Omni'\n",
            " 'Jeep' 'Indica' 'EON' 'Etios' 'Tavera' 'EcoSport' 'Civic' 'Rapid' 'Getz'\n",
            " 'Terrano' 'Elite' 'Brio' 'S-Class' 'XUV500' 'Duster' 'Bolero' 'Avventura'\n",
            " 'A8' 'Jetta' 'A4' 'X1' 'V40' 'SX4' '7' 'Sonata' 'Micra' 'Xylo' 'KWID'\n",
            " 'Ertiga' 'Beat' 'Zen' 'Baleno' 'Nano' 'Cruze' 'Figo' 'Spark' 'Bolt'\n",
            " 'Quanto' 'XJ' 'Nexon' 'Vento' 'Esteem' '5' 'Linea' 'Scala' 'XUV300'\n",
            " 'S-Cross' 'Ameo' 'Renault' 'Optra' 'Mobilio' 'Zest' 'Fabia' 'GO' 'Fiesta'\n",
            " 'Sumo' 'Jazz' 'Tiago' 'Marazzo' 'A-Star' 'Yeti' 'Aspire' 'Outlander'\n",
            " 'Endeavour' 'Polo' 'Ritz' 'Estilo' 'Manza' 'Safari' 'Fortuner' 'Ecosport'\n",
            " 'Supro' 'KUV' 'Accord' 'TUV' 'BR-V' 'Ikon' 'Punto' 'WR-V' 'Laura'\n",
            " 'Tucson' 'GL-Class' 'Pulse' 'C-Class' 'X5' 'Gypsy' 'Verito' 'Hexa'\n",
            " 'Venture' 'Captiva' 'Aveo' 'Thar' 'Octavia' 'Accent' 'Rover' 'Lodgy'\n",
            " 'Grande' 'Palio' 'M-Class' 'Ignis' 'Sunny' 'Q3' 'A5' 'Camry' 'Pajero'\n",
            " 'Xenon' 'Captur' 'Passat' 'Freestyle' 'Alturas' 'Aria' 'CR-V' 'Matiz'\n",
            " 'redi-GO' 'Hector' 'Santa' 'One' 'NuvoSport' 'S-Presso' 'Yaris' 'Fusion'\n",
            " 'Fluence' 'Evalia' 'Koleos' 'Harrier' 'Altroz' 'D-Max' 'Kicks' '1.6Gls'\n",
            " 'BRV' 'B' '500' 'Triber' 'Montero' 'X-Trail' 'XC60' 'Classic' 'Seltos'\n",
            " '1.4' 'Ingenio' 'CrossPolo' 'Spacio' 'Winger' 'RS7' 'CLASSIC' 'GLS' 'XC'\n",
            " 'Qualis']\n"
          ],
          "name": "stdout"
        }
      ]
    },
    {
      "cell_type": "code",
      "metadata": {
        "id": "MwO2SQnI_m1O"
      },
      "source": [
        "#assig unique cars values\n",
        "dataset['car'] = dataset['Company_make']+ \" \" +dataset['variant']\n",
        "unique_cars = dataset['car'].value_counts()\n",
        "unique_cars = unique_cars.reset_index()\n",
        "unique_cars['assigned_car_values'] = pd.DataFrame(unique_cars['index'].index.values)\n",
        "unique_cars.columns = ['car', 'Count','assigned_car_values']\n",
        "dataset['car']\n",
        "dataset = dataset.merge(unique_cars,on = 'car', how ='left')"
      ],
      "execution_count": null,
      "outputs": []
    },
    {
      "cell_type": "code",
      "metadata": {
        "id": "ijI95cmH2DkJ"
      },
      "source": [
        "#assigning variant values\n",
        "unique_variant = dataset['variant'].value_counts()\n",
        "unique_variant = unique_variant.reset_index()\n",
        "unique_variant['assigned_variant_values'] = pd.DataFrame(unique_variant['index'].index.values)\n",
        "unique_variant\n",
        "unique_variant.columns = ['variant', 'Count','assigned_variant_values']\n",
        "unique_variant\n",
        "dataset = dataset.merge(unique_variant,on = 'variant', how = 'left')"
      ],
      "execution_count": null,
      "outputs": []
    },
    {
      "cell_type": "code",
      "metadata": {
        "id": "DO2hDNHCbuom"
      },
      "source": [
        "#assign companies values\n",
        "unique_company_make = dataset['Company_make'].value_counts()\n",
        "unique_company_make = unique_company_make.reset_index()\n",
        "unique_company_make['assigned_company_make_values'] = pd.DataFrame(unique_company_make['index'].index.values)\n",
        "unique_company_make\n",
        "unique_company_make.columns = ['Company_make', 'Count','assigned_company_make_values']\n",
        "unique_company_make\n",
        "dataset = dataset.merge(unique_company_make,on = 'Company_make', how ='left')"
      ],
      "execution_count": null,
      "outputs": []
    },
    {
      "cell_type": "code",
      "metadata": {
        "colab": {
          "base_uri": "https://localhost:8080/",
          "height": 428
        },
        "id": "0WpVA_IVfXFm",
        "outputId": "b1cfcc3b-fc20-4abd-dd3c-ef284335a6da"
      },
      "source": [
        "dataset.head()"
      ],
      "execution_count": null,
      "outputs": [
        {
          "output_type": "execute_result",
          "data": {
            "text/html": [
              "<div>\n",
              "<style scoped>\n",
              "    .dataframe tbody tr th:only-of-type {\n",
              "        vertical-align: middle;\n",
              "    }\n",
              "\n",
              "    .dataframe tbody tr th {\n",
              "        vertical-align: top;\n",
              "    }\n",
              "\n",
              "    .dataframe thead th {\n",
              "        text-align: right;\n",
              "    }\n",
              "</style>\n",
              "<table border=\"1\" class=\"dataframe\">\n",
              "  <thead>\n",
              "    <tr style=\"text-align: right;\">\n",
              "      <th></th>\n",
              "      <th>name</th>\n",
              "      <th>year</th>\n",
              "      <th>selling_price</th>\n",
              "      <th>km_driven</th>\n",
              "      <th>fuel</th>\n",
              "      <th>seller_type</th>\n",
              "      <th>transmission</th>\n",
              "      <th>owner</th>\n",
              "      <th>Company_make</th>\n",
              "      <th>variant</th>\n",
              "      <th>car</th>\n",
              "      <th>Count_x</th>\n",
              "      <th>assigned_car_values</th>\n",
              "      <th>Count_y</th>\n",
              "      <th>assigned_variant_values</th>\n",
              "      <th>Count</th>\n",
              "      <th>assigned_company_make_values</th>\n",
              "    </tr>\n",
              "  </thead>\n",
              "  <tbody>\n",
              "    <tr>\n",
              "      <th>0</th>\n",
              "      <td>Maruti 800 AC</td>\n",
              "      <td>2007</td>\n",
              "      <td>60000</td>\n",
              "      <td>70000</td>\n",
              "      <td>Petrol</td>\n",
              "      <td>Individual</td>\n",
              "      <td>Manual</td>\n",
              "      <td>First Owner</td>\n",
              "      <td>Maruti</td>\n",
              "      <td>800</td>\n",
              "      <td>Maruti 800</td>\n",
              "      <td>59</td>\n",
              "      <td>20</td>\n",
              "      <td>59</td>\n",
              "      <td>20</td>\n",
              "      <td>1280</td>\n",
              "      <td>0</td>\n",
              "    </tr>\n",
              "    <tr>\n",
              "      <th>1</th>\n",
              "      <td>Maruti Wagon R LXI Minor</td>\n",
              "      <td>2007</td>\n",
              "      <td>135000</td>\n",
              "      <td>50000</td>\n",
              "      <td>Petrol</td>\n",
              "      <td>Individual</td>\n",
              "      <td>Manual</td>\n",
              "      <td>First Owner</td>\n",
              "      <td>Maruti</td>\n",
              "      <td>Wagon R</td>\n",
              "      <td>Maruti Wagon R</td>\n",
              "      <td>164</td>\n",
              "      <td>2</td>\n",
              "      <td>164</td>\n",
              "      <td>2</td>\n",
              "      <td>1280</td>\n",
              "      <td>0</td>\n",
              "    </tr>\n",
              "    <tr>\n",
              "      <th>2</th>\n",
              "      <td>Hyundai Verna 1.6 SX</td>\n",
              "      <td>2012</td>\n",
              "      <td>600000</td>\n",
              "      <td>100000</td>\n",
              "      <td>Diesel</td>\n",
              "      <td>Individual</td>\n",
              "      <td>Manual</td>\n",
              "      <td>First Owner</td>\n",
              "      <td>Hyundai</td>\n",
              "      <td>Verna</td>\n",
              "      <td>Hyundai Verna</td>\n",
              "      <td>129</td>\n",
              "      <td>4</td>\n",
              "      <td>129</td>\n",
              "      <td>4</td>\n",
              "      <td>821</td>\n",
              "      <td>1</td>\n",
              "    </tr>\n",
              "    <tr>\n",
              "      <th>3</th>\n",
              "      <td>Datsun RediGO T Option</td>\n",
              "      <td>2017</td>\n",
              "      <td>250000</td>\n",
              "      <td>46000</td>\n",
              "      <td>Petrol</td>\n",
              "      <td>Individual</td>\n",
              "      <td>Manual</td>\n",
              "      <td>First Owner</td>\n",
              "      <td>Datsun</td>\n",
              "      <td>RediGO</td>\n",
              "      <td>Datsun RediGO</td>\n",
              "      <td>15</td>\n",
              "      <td>70</td>\n",
              "      <td>15</td>\n",
              "      <td>70</td>\n",
              "      <td>37</td>\n",
              "      <td>14</td>\n",
              "    </tr>\n",
              "    <tr>\n",
              "      <th>4</th>\n",
              "      <td>Honda Amaze VX i-DTEC</td>\n",
              "      <td>2014</td>\n",
              "      <td>450000</td>\n",
              "      <td>141000</td>\n",
              "      <td>Diesel</td>\n",
              "      <td>Individual</td>\n",
              "      <td>Manual</td>\n",
              "      <td>Second Owner</td>\n",
              "      <td>Honda</td>\n",
              "      <td>Amaze</td>\n",
              "      <td>Honda Amaze</td>\n",
              "      <td>58</td>\n",
              "      <td>22</td>\n",
              "      <td>58</td>\n",
              "      <td>22</td>\n",
              "      <td>252</td>\n",
              "      <td>4</td>\n",
              "    </tr>\n",
              "  </tbody>\n",
              "</table>\n",
              "</div>"
            ],
            "text/plain": [
              "                       name  year  ...  Count  assigned_company_make_values\n",
              "0             Maruti 800 AC  2007  ...   1280                             0\n",
              "1  Maruti Wagon R LXI Minor  2007  ...   1280                             0\n",
              "2      Hyundai Verna 1.6 SX  2012  ...    821                             1\n",
              "3    Datsun RediGO T Option  2017  ...     37                            14\n",
              "4     Honda Amaze VX i-DTEC  2014  ...    252                             4\n",
              "\n",
              "[5 rows x 17 columns]"
            ]
          },
          "metadata": {
            "tags": []
          },
          "execution_count": 22
        }
      ]
    },
    {
      "cell_type": "code",
      "metadata": {
        "colab": {
          "base_uri": "https://localhost:8080/",
          "height": 348
        },
        "id": "r2HkMLfma5UG",
        "outputId": "e414b912-0645-4183-a8e2-8498e614e766"
      },
      "source": [
        "dataset.corr()"
      ],
      "execution_count": null,
      "outputs": [
        {
          "output_type": "execute_result",
          "data": {
            "text/html": [
              "<div>\n",
              "<style scoped>\n",
              "    .dataframe tbody tr th:only-of-type {\n",
              "        vertical-align: middle;\n",
              "    }\n",
              "\n",
              "    .dataframe tbody tr th {\n",
              "        vertical-align: top;\n",
              "    }\n",
              "\n",
              "    .dataframe thead th {\n",
              "        text-align: right;\n",
              "    }\n",
              "</style>\n",
              "<table border=\"1\" class=\"dataframe\">\n",
              "  <thead>\n",
              "    <tr style=\"text-align: right;\">\n",
              "      <th></th>\n",
              "      <th>year</th>\n",
              "      <th>selling_price</th>\n",
              "      <th>km_driven</th>\n",
              "      <th>Count_x</th>\n",
              "      <th>assigned_car_values</th>\n",
              "      <th>Count_y</th>\n",
              "      <th>assigned_variant_values</th>\n",
              "      <th>Count</th>\n",
              "      <th>assigned_company_make_values</th>\n",
              "    </tr>\n",
              "  </thead>\n",
              "  <tbody>\n",
              "    <tr>\n",
              "      <th>year</th>\n",
              "      <td>1.000000</td>\n",
              "      <td>0.413922</td>\n",
              "      <td>-0.419688</td>\n",
              "      <td>-0.030974</td>\n",
              "      <td>0.051538</td>\n",
              "      <td>-0.031417</td>\n",
              "      <td>0.057284</td>\n",
              "      <td>-0.087634</td>\n",
              "      <td>0.070124</td>\n",
              "    </tr>\n",
              "    <tr>\n",
              "      <th>selling_price</th>\n",
              "      <td>0.413922</td>\n",
              "      <td>1.000000</td>\n",
              "      <td>-0.192289</td>\n",
              "      <td>-0.199410</td>\n",
              "      <td>0.335210</td>\n",
              "      <td>-0.198966</td>\n",
              "      <td>0.327365</td>\n",
              "      <td>-0.267996</td>\n",
              "      <td>0.387475</td>\n",
              "    </tr>\n",
              "    <tr>\n",
              "      <th>km_driven</th>\n",
              "      <td>-0.419688</td>\n",
              "      <td>-0.192289</td>\n",
              "      <td>1.000000</td>\n",
              "      <td>0.014619</td>\n",
              "      <td>-0.034941</td>\n",
              "      <td>0.014756</td>\n",
              "      <td>-0.036437</td>\n",
              "      <td>-0.080541</td>\n",
              "      <td>0.023103</td>\n",
              "    </tr>\n",
              "    <tr>\n",
              "      <th>Count_x</th>\n",
              "      <td>-0.030974</td>\n",
              "      <td>-0.199410</td>\n",
              "      <td>0.014619</td>\n",
              "      <td>1.000000</td>\n",
              "      <td>-0.648224</td>\n",
              "      <td>0.999541</td>\n",
              "      <td>-0.650103</td>\n",
              "      <td>0.615802</td>\n",
              "      <td>-0.485819</td>\n",
              "    </tr>\n",
              "    <tr>\n",
              "      <th>assigned_car_values</th>\n",
              "      <td>0.051538</td>\n",
              "      <td>0.335210</td>\n",
              "      <td>-0.034941</td>\n",
              "      <td>-0.648224</td>\n",
              "      <td>1.000000</td>\n",
              "      <td>-0.645484</td>\n",
              "      <td>0.989154</td>\n",
              "      <td>-0.461247</td>\n",
              "      <td>0.570949</td>\n",
              "    </tr>\n",
              "    <tr>\n",
              "      <th>Count_y</th>\n",
              "      <td>-0.031417</td>\n",
              "      <td>-0.198966</td>\n",
              "      <td>0.014756</td>\n",
              "      <td>0.999541</td>\n",
              "      <td>-0.645484</td>\n",
              "      <td>1.000000</td>\n",
              "      <td>-0.651274</td>\n",
              "      <td>0.615620</td>\n",
              "      <td>-0.484144</td>\n",
              "    </tr>\n",
              "    <tr>\n",
              "      <th>assigned_variant_values</th>\n",
              "      <td>0.057284</td>\n",
              "      <td>0.327365</td>\n",
              "      <td>-0.036437</td>\n",
              "      <td>-0.650103</td>\n",
              "      <td>0.989154</td>\n",
              "      <td>-0.651274</td>\n",
              "      <td>1.000000</td>\n",
              "      <td>-0.461285</td>\n",
              "      <td>0.559822</td>\n",
              "    </tr>\n",
              "    <tr>\n",
              "      <th>Count</th>\n",
              "      <td>-0.087634</td>\n",
              "      <td>-0.267996</td>\n",
              "      <td>-0.080541</td>\n",
              "      <td>0.615802</td>\n",
              "      <td>-0.461247</td>\n",
              "      <td>0.615620</td>\n",
              "      <td>-0.461285</td>\n",
              "      <td>1.000000</td>\n",
              "      <td>-0.794779</td>\n",
              "    </tr>\n",
              "    <tr>\n",
              "      <th>assigned_company_make_values</th>\n",
              "      <td>0.070124</td>\n",
              "      <td>0.387475</td>\n",
              "      <td>0.023103</td>\n",
              "      <td>-0.485819</td>\n",
              "      <td>0.570949</td>\n",
              "      <td>-0.484144</td>\n",
              "      <td>0.559822</td>\n",
              "      <td>-0.794779</td>\n",
              "      <td>1.000000</td>\n",
              "    </tr>\n",
              "  </tbody>\n",
              "</table>\n",
              "</div>"
            ],
            "text/plain": [
              "                                  year  ...  assigned_company_make_values\n",
              "year                          1.000000  ...                      0.070124\n",
              "selling_price                 0.413922  ...                      0.387475\n",
              "km_driven                    -0.419688  ...                      0.023103\n",
              "Count_x                      -0.030974  ...                     -0.485819\n",
              "assigned_car_values           0.051538  ...                      0.570949\n",
              "Count_y                      -0.031417  ...                     -0.484144\n",
              "assigned_variant_values       0.057284  ...                      0.559822\n",
              "Count                        -0.087634  ...                     -0.794779\n",
              "assigned_company_make_values  0.070124  ...                      1.000000\n",
              "\n",
              "[9 rows x 9 columns]"
            ]
          },
          "metadata": {
            "tags": []
          },
          "execution_count": 23
        }
      ]
    },
    {
      "cell_type": "code",
      "metadata": {
        "colab": {
          "base_uri": "https://localhost:8080/"
        },
        "id": "RlhUqx62f-xx",
        "outputId": "b380c97e-fa7c-424b-da3e-6bbef81f0bfe"
      },
      "source": [
        "#get all the categorical features\n",
        "categorical_features = dataset.describe(include=['object','category']).columns\n",
        "categorical_features"
      ],
      "execution_count": null,
      "outputs": [
        {
          "output_type": "execute_result",
          "data": {
            "text/plain": [
              "Index(['name', 'fuel', 'seller_type', 'transmission', 'owner', 'Company_make',\n",
              "       'variant', 'car'],\n",
              "      dtype='object')"
            ]
          },
          "metadata": {
            "tags": []
          },
          "execution_count": 24
        }
      ]
    },
    {
      "cell_type": "code",
      "metadata": {
        "colab": {
          "base_uri": "https://localhost:8080/",
          "height": 52
        },
        "id": "DnTyEZ2CB4OI",
        "outputId": "aefd286d-a7b7-46e6-c4ba-085bf01775f9"
      },
      "source": [
        "#plot categorical features\n",
        "for col in categorical_features:\n",
        "    counts = dataset[col].value_counts().sort_index()\n",
        "    fig = plt.figure(figsize=(9, 6))\n",
        "    ax = fig.gca()\n",
        "    counts.plot.bar(ax = ax, color='steelblue')\n",
        "    ax.set_title(col + ' counts')\n",
        "    ax.set_xlabel(col) \n",
        "    ax.set_ylabel(\"Frequency\")\n",
        "plt.show()"
      ],
      "execution_count": null,
      "outputs": [
        {
          "output_type": "execute_result",
          "data": {
            "application/vnd.google.colaboratory.intrinsic+json": {
              "type": "string"
            },
            "text/plain": [
              "'for col in categorical_features:\\n    counts = dataset[col].value_counts().sort_index()\\n    fig = plt.figure(figsize=(9, 6))\\n    ax = fig.gca()\\n    counts.plot.bar(ax = ax, color=\\'steelblue\\')\\n    ax.set_title(col + \\' counts\\')\\n    ax.set_xlabel(col) \\n    ax.set_ylabel(\"Frequency\")\\nplt.show()'"
            ]
          },
          "metadata": {
            "tags": []
          },
          "execution_count": 25
        }
      ]
    },
    {
      "cell_type": "code",
      "metadata": {
        "colab": {
          "base_uri": "https://localhost:8080/",
          "height": 86
        },
        "id": "cKpCy31rtXE4",
        "outputId": "847dd2e9-c0ce-4cd6-b853-375ac2c423d1"
      },
      "source": [
        "unique = dataset['Company_make'].unique()\n",
        "\n",
        "#get count of each variant of cars companies\n",
        "for col in unique:\n",
        "    counts = dataset[dataset['Company_make']== col]['variant'].value_counts()\n",
        "    fig = plt.figure(figsize=(9, 6))\n",
        "    ax = fig.gca()\n",
        "    counts.plot.bar(ax = ax, color='steelblue')\n",
        "    ax.set_title(col + ' counts')\n",
        "    ax.set_xlabel(col) \n",
        "    ax.set_ylabel(\"Frequency\")\n",
        "    for index,data in enumerate(counts):\n",
        "      plt.text(x=index , y =data, s=f\"{data}\" , fontdict=dict(fontsize=10))\n",
        "plt.tight_layout()\n",
        "plt.show()\n",
        "plt.show()'''\n",
        "\n"
      ],
      "execution_count": null,
      "outputs": [
        {
          "output_type": "execute_result",
          "data": {
            "application/vnd.google.colaboratory.intrinsic+json": {
              "type": "string"
            },
            "text/plain": [
              "'\\n#get count of each variant of cars companies\\nfor col in unique:\\n    counts = dataset[dataset[\\'Company_make\\']== col][\\'variant\\'].value_counts()\\n    fig = plt.figure(figsize=(9, 6))\\n    ax = fig.gca()\\n    counts.plot.bar(ax = ax, color=\\'steelblue\\')\\n    ax.set_title(col + \\' counts\\')\\n    ax.set_xlabel(col) \\n    ax.set_ylabel(\"Frequency\")\\n    for index,data in enumerate(counts):\\n      plt.text(x=index , y =data, s=f\"{data}\" , fontdict=dict(fontsize=10))\\nplt.tight_layout()\\nplt.show()\\nplt.show()'"
            ]
          },
          "metadata": {
            "tags": []
          },
          "execution_count": 26
        }
      ]
    },
    {
      "cell_type": "code",
      "metadata": {
        "colab": {
          "base_uri": "https://localhost:8080/",
          "height": 906
        },
        "id": "HKsHbpQTCfio",
        "outputId": "1f6e2662-9721-4135-82f2-449d9df54d95"
      },
      "source": [
        "plt.figure(figsize=(20, 6))\n",
        "\n",
        "df_price_mean = pd.DataFrame(dataset.groupby(['Company_make'])['selling_price'].mean().sort_values(ascending = False))\n",
        "df_price_mean.plot.bar()\n",
        "plt.title('Car Company Name vs Average Price')\n",
        "print(round(df_price_mean))\n",
        "plt.show()"
      ],
      "execution_count": null,
      "outputs": [
        {
          "output_type": "stream",
          "text": [
            "               selling_price\n",
            "Company_make                \n",
            "Land               3609800.0\n",
            "BMW                2945385.0\n",
            "Mercedes-Benz      2776657.0\n",
            "Volvo              2556250.0\n",
            "Jaguar             2069166.0\n",
            "Audi               1931633.0\n",
            "MG                 1842500.0\n",
            "Jeep               1530000.0\n",
            "Isuzu              1500000.0\n",
            "Kia                1300000.0\n",
            "Toyota              924359.0\n",
            "Mitsubishi          840000.0\n",
            "Mahindra            587710.0\n",
            "Ford                571273.0\n",
            "Honda               538147.0\n",
            "Skoda               490015.0\n",
            "Volkswagen          471037.0\n",
            "Nissan              449937.0\n",
            "Hyundai             419940.0\n",
            "Renault             419377.0\n",
            "Force               346000.0\n",
            "Maruti              342416.0\n",
            "Datsun              297027.0\n",
            "Tata                284083.0\n",
            "Fiat                283432.0\n",
            "Chevrolet           236727.0\n",
            "Ambassador          180000.0\n",
            "OpelCorsa            88500.0\n",
            "Daewoo               60000.0\n"
          ],
          "name": "stdout"
        },
        {
          "output_type": "display_data",
          "data": {
            "text/plain": [
              "<Figure size 1440x432 with 0 Axes>"
            ]
          },
          "metadata": {
            "tags": []
          }
        },
        {
          "output_type": "display_data",
          "data": {
            "image/png": "[encoded data removed]",
            "text/plain": [
              "<Figure size 432x288 with 1 Axes>"
            ]
          },
          "metadata": {
            "tags": [],
            "needs_background": "light"
          }
        }
      ]
    },
    {
      "cell_type": "code",
      "metadata": {
        "id": "N48oRxQk4vb9"
      },
      "source": [
        "df_price_mean.rename(columns={'selling_price':'price_mean'},inplace=True)"
      ],
      "execution_count": null,
      "outputs": []
    },
    {
      "cell_type": "code",
      "metadata": {
        "id": "zCsyq4aJ46vK"
      },
      "source": [
        "dataset = dataset.merge(df_price_mean,on = 'Company_make',how = 'left')"
      ],
      "execution_count": null,
      "outputs": []
    },
    {
      "cell_type": "code",
      "metadata": {
        "colab": {
          "base_uri": "https://localhost:8080/"
        },
        "id": "EJIulQL0f7nb",
        "outputId": "4327a1ec-69f4-4d38-fb3e-d09ca7f00181"
      },
      "source": [
        "dataset['price_mean'].unique().mean()"
      ],
      "execution_count": null,
      "outputs": [
        {
          "output_type": "execute_result",
          "data": {
            "text/plain": [
              "1030736.9893513472"
            ]
          },
          "metadata": {
            "tags": []
          },
          "execution_count": 30
        }
      ]
    },
    {
      "cell_type": "code",
      "metadata": {
        "id": "dUon26Yy5kWA"
      },
      "source": [
        "#Our approximate mean was 1000000, so we can plot what values are above mean, below mean or just outliers(very high)\n",
        "dataset['company_category'] = dataset['price_mean'].apply(lambda x : 0 if x < 1000000 else (1 if 1000000 <= x < 2500000 else 2))"
      ],
      "execution_count": null,
      "outputs": []
    },
    {
      "cell_type": "code",
      "metadata": {
        "colab": {
          "base_uri": "https://localhost:8080/"
        },
        "id": "JVPOIQqr5o0s",
        "outputId": "75d8d423-7c0b-4c89-d1dc-f6d02ac9773d"
      },
      "source": [
        "dataset[\"company_category\"].value_counts()"
      ],
      "execution_count": null,
      "outputs": [
        {
          "output_type": "execute_result",
          "data": {
            "text/plain": [
              "0    4184\n",
              "2      83\n",
              "1      73\n",
              "Name: company_category, dtype: int64"
            ]
          },
          "metadata": {
            "tags": []
          },
          "execution_count": 32
        }
      ]
    },
    {
      "cell_type": "code",
      "metadata": {
        "colab": {
          "base_uri": "https://localhost:8080/"
        },
        "id": "FvvTLHt551UH",
        "outputId": "9a11ca64-0729-49e0-a48f-9f6e7bf6c298"
      },
      "source": [
        "#check the sorrelation of selling price\n",
        "correlation.selling_price"
      ],
      "execution_count": null,
      "outputs": [
        {
          "output_type": "execute_result",
          "data": {
            "text/plain": [
              "year             0.413922\n",
              "selling_price    1.000000\n",
              "km_driven       -0.192289\n",
              "Name: selling_price, dtype: float64"
            ]
          },
          "metadata": {
            "tags": []
          },
          "execution_count": 33
        }
      ]
    },
    {
      "cell_type": "code",
      "metadata": {
        "id": "NfjlDWMpibwE"
      },
      "source": [
        "#Multicollinearity\n",
        "from statsmodels.stats.outliers_influence import variance_inflation_factor\n",
        "def calc_vif(X):\n",
        "\n",
        "    # Calculating VIF\n",
        "    vif = pd.DataFrame()\n",
        "    vif[\"variables\"] = X.columns\n",
        "    vif[\"VIF\"] = [variance_inflation_factor(X.values, i) for i in range(X.shape[1])]\n",
        "\n",
        "    return(vif)"
      ],
      "execution_count": null,
      "outputs": []
    },
    {
      "cell_type": "code",
      "metadata": {
        "colab": {
          "base_uri": "https://localhost:8080/",
          "height": 328
        },
        "id": "nZZp27Xtu7wO",
        "outputId": "7b92f4a0-ec67-4116-bec8-3ffcade39423"
      },
      "source": [
        "calc_vif(dataset[[i for i in dataset.describe().columns if i not in ['car_ID','price','Count_x','Count_y']]])"
      ],
      "execution_count": null,
      "outputs": [
        {
          "output_type": "execute_result",
          "data": {
            "text/html": [
              "<div>\n",
              "<style scoped>\n",
              "    .dataframe tbody tr th:only-of-type {\n",
              "        vertical-align: middle;\n",
              "    }\n",
              "\n",
              "    .dataframe tbody tr th {\n",
              "        vertical-align: top;\n",
              "    }\n",
              "\n",
              "    .dataframe thead th {\n",
              "        text-align: right;\n",
              "    }\n",
              "</style>\n",
              "<table border=\"1\" class=\"dataframe\">\n",
              "  <thead>\n",
              "    <tr style=\"text-align: right;\">\n",
              "      <th></th>\n",
              "      <th>variables</th>\n",
              "      <th>VIF</th>\n",
              "    </tr>\n",
              "  </thead>\n",
              "  <tbody>\n",
              "    <tr>\n",
              "      <th>0</th>\n",
              "      <td>year</td>\n",
              "      <td>39.549933</td>\n",
              "    </tr>\n",
              "    <tr>\n",
              "      <th>1</th>\n",
              "      <td>selling_price</td>\n",
              "      <td>3.982761</td>\n",
              "    </tr>\n",
              "    <tr>\n",
              "      <th>2</th>\n",
              "      <td>km_driven</td>\n",
              "      <td>3.352927</td>\n",
              "    </tr>\n",
              "    <tr>\n",
              "      <th>3</th>\n",
              "      <td>assigned_car_values</td>\n",
              "      <td>86.563881</td>\n",
              "    </tr>\n",
              "    <tr>\n",
              "      <th>4</th>\n",
              "      <td>assigned_variant_values</td>\n",
              "      <td>85.182245</td>\n",
              "    </tr>\n",
              "    <tr>\n",
              "      <th>5</th>\n",
              "      <td>Count</td>\n",
              "      <td>10.786455</td>\n",
              "    </tr>\n",
              "    <tr>\n",
              "      <th>6</th>\n",
              "      <td>assigned_company_make_values</td>\n",
              "      <td>7.190821</td>\n",
              "    </tr>\n",
              "    <tr>\n",
              "      <th>7</th>\n",
              "      <td>price_mean</td>\n",
              "      <td>26.965253</td>\n",
              "    </tr>\n",
              "    <tr>\n",
              "      <th>8</th>\n",
              "      <td>company_category</td>\n",
              "      <td>10.248465</td>\n",
              "    </tr>\n",
              "  </tbody>\n",
              "</table>\n",
              "</div>"
            ],
            "text/plain": [
              "                      variables        VIF\n",
              "0                          year  39.549933\n",
              "1                 selling_price   3.982761\n",
              "2                     km_driven   3.352927\n",
              "3           assigned_car_values  86.563881\n",
              "4       assigned_variant_values  85.182245\n",
              "5                         Count  10.786455\n",
              "6  assigned_company_make_values   7.190821\n",
              "7                    price_mean  26.965253\n",
              "8              company_category  10.248465"
            ]
          },
          "metadata": {
            "tags": []
          },
          "execution_count": 35
        }
      ]
    },
    {
      "cell_type": "code",
      "metadata": {
        "colab": {
          "base_uri": "https://localhost:8080/",
          "height": 266
        },
        "id": "eAWjqm5Zimze",
        "outputId": "bd663d9e-e7fc-4a8f-d6a3-3933b5dfd74f"
      },
      "source": [
        "calc_vif(dataset[[i for i in dataset.describe().columns if i not in ['car_ID','price','assigned_car_values','price_mean','Count_x','Count_y']]])"
      ],
      "execution_count": null,
      "outputs": [
        {
          "output_type": "execute_result",
          "data": {
            "text/html": [
              "<div>\n",
              "<style scoped>\n",
              "    .dataframe tbody tr th:only-of-type {\n",
              "        vertical-align: middle;\n",
              "    }\n",
              "\n",
              "    .dataframe tbody tr th {\n",
              "        vertical-align: top;\n",
              "    }\n",
              "\n",
              "    .dataframe thead th {\n",
              "        text-align: right;\n",
              "    }\n",
              "</style>\n",
              "<table border=\"1\" class=\"dataframe\">\n",
              "  <thead>\n",
              "    <tr style=\"text-align: right;\">\n",
              "      <th></th>\n",
              "      <th>variables</th>\n",
              "      <th>VIF</th>\n",
              "    </tr>\n",
              "  </thead>\n",
              "  <tbody>\n",
              "    <tr>\n",
              "      <th>0</th>\n",
              "      <td>year</td>\n",
              "      <td>21.910655</td>\n",
              "    </tr>\n",
              "    <tr>\n",
              "      <th>1</th>\n",
              "      <td>selling_price</td>\n",
              "      <td>3.446138</td>\n",
              "    </tr>\n",
              "    <tr>\n",
              "      <th>2</th>\n",
              "      <td>km_driven</td>\n",
              "      <td>3.219920</td>\n",
              "    </tr>\n",
              "    <tr>\n",
              "      <th>3</th>\n",
              "      <td>assigned_variant_values</td>\n",
              "      <td>2.685475</td>\n",
              "    </tr>\n",
              "    <tr>\n",
              "      <th>4</th>\n",
              "      <td>Count</td>\n",
              "      <td>9.123366</td>\n",
              "    </tr>\n",
              "    <tr>\n",
              "      <th>5</th>\n",
              "      <td>assigned_company_make_values</td>\n",
              "      <td>6.965081</td>\n",
              "    </tr>\n",
              "    <tr>\n",
              "      <th>6</th>\n",
              "      <td>company_category</td>\n",
              "      <td>2.418594</td>\n",
              "    </tr>\n",
              "  </tbody>\n",
              "</table>\n",
              "</div>"
            ],
            "text/plain": [
              "                      variables        VIF\n",
              "0                          year  21.910655\n",
              "1                 selling_price   3.446138\n",
              "2                     km_driven   3.219920\n",
              "3       assigned_variant_values   2.685475\n",
              "4                         Count   9.123366\n",
              "5  assigned_company_make_values   6.965081\n",
              "6              company_category   2.418594"
            ]
          },
          "metadata": {
            "tags": []
          },
          "execution_count": 36
        }
      ]
    },
    {
      "cell_type": "code",
      "metadata": {
        "colab": {
          "base_uri": "https://localhost:8080/",
          "height": 235
        },
        "id": "iF9E6DVMi_0-",
        "outputId": "b2a6368c-bf2a-43ef-83c9-9f7f14f1c853"
      },
      "source": [
        "calc_vif(dataset[[i for i in dataset.describe().columns if i not in ['car_ID','price','assigned_car_values','price_mean','Count_x','Count_y','Count']]])"
      ],
      "execution_count": null,
      "outputs": [
        {
          "output_type": "execute_result",
          "data": {
            "text/html": [
              "<div>\n",
              "<style scoped>\n",
              "    .dataframe tbody tr th:only-of-type {\n",
              "        vertical-align: middle;\n",
              "    }\n",
              "\n",
              "    .dataframe tbody tr th {\n",
              "        vertical-align: top;\n",
              "    }\n",
              "\n",
              "    .dataframe thead th {\n",
              "        text-align: right;\n",
              "    }\n",
              "</style>\n",
              "<table border=\"1\" class=\"dataframe\">\n",
              "  <thead>\n",
              "    <tr style=\"text-align: right;\">\n",
              "      <th></th>\n",
              "      <th>variables</th>\n",
              "      <th>VIF</th>\n",
              "    </tr>\n",
              "  </thead>\n",
              "  <tbody>\n",
              "    <tr>\n",
              "      <th>0</th>\n",
              "      <td>year</td>\n",
              "      <td>5.492277</td>\n",
              "    </tr>\n",
              "    <tr>\n",
              "      <th>1</th>\n",
              "      <td>selling_price</td>\n",
              "      <td>3.352019</td>\n",
              "    </tr>\n",
              "    <tr>\n",
              "      <th>2</th>\n",
              "      <td>km_driven</td>\n",
              "      <td>3.176481</td>\n",
              "    </tr>\n",
              "    <tr>\n",
              "      <th>3</th>\n",
              "      <td>assigned_variant_values</td>\n",
              "      <td>2.679122</td>\n",
              "    </tr>\n",
              "    <tr>\n",
              "      <th>4</th>\n",
              "      <td>assigned_company_make_values</td>\n",
              "      <td>2.943163</td>\n",
              "    </tr>\n",
              "    <tr>\n",
              "      <th>5</th>\n",
              "      <td>company_category</td>\n",
              "      <td>2.129427</td>\n",
              "    </tr>\n",
              "  </tbody>\n",
              "</table>\n",
              "</div>"
            ],
            "text/plain": [
              "                      variables       VIF\n",
              "0                          year  5.492277\n",
              "1                 selling_price  3.352019\n",
              "2                     km_driven  3.176481\n",
              "3       assigned_variant_values  2.679122\n",
              "4  assigned_company_make_values  2.943163\n",
              "5              company_category  2.129427"
            ]
          },
          "metadata": {
            "tags": []
          },
          "execution_count": 37
        }
      ]
    },
    {
      "cell_type": "code",
      "metadata": {
        "id": "RCclNXKojl4w"
      },
      "source": [
        "numerical_features = ['year','selling_price','km_driven','assigned_variant_values','assigned_company_make_values','company_category']"
      ],
      "execution_count": null,
      "outputs": []
    },
    {
      "cell_type": "code",
      "metadata": {
        "id": "cLoDWaP76gsy",
        "colab": {
          "base_uri": "https://localhost:8080/",
          "height": 428
        },
        "outputId": "ec25799f-1fbf-47bc-fa3a-d7d870df6106"
      },
      "source": [
        "dataset_pr = dataset.copy()\n",
        "dataset_pr.head()"
      ],
      "execution_count": null,
      "outputs": [
        {
          "output_type": "execute_result",
          "data": {
            "text/html": [
              "<div>\n",
              "<style scoped>\n",
              "    .dataframe tbody tr th:only-of-type {\n",
              "        vertical-align: middle;\n",
              "    }\n",
              "\n",
              "    .dataframe tbody tr th {\n",
              "        vertical-align: top;\n",
              "    }\n",
              "\n",
              "    .dataframe thead th {\n",
              "        text-align: right;\n",
              "    }\n",
              "</style>\n",
              "<table border=\"1\" class=\"dataframe\">\n",
              "  <thead>\n",
              "    <tr style=\"text-align: right;\">\n",
              "      <th></th>\n",
              "      <th>name</th>\n",
              "      <th>year</th>\n",
              "      <th>selling_price</th>\n",
              "      <th>km_driven</th>\n",
              "      <th>fuel</th>\n",
              "      <th>seller_type</th>\n",
              "      <th>transmission</th>\n",
              "      <th>owner</th>\n",
              "      <th>Company_make</th>\n",
              "      <th>variant</th>\n",
              "      <th>car</th>\n",
              "      <th>Count_x</th>\n",
              "      <th>assigned_car_values</th>\n",
              "      <th>Count_y</th>\n",
              "      <th>assigned_variant_values</th>\n",
              "      <th>Count</th>\n",
              "      <th>assigned_company_make_values</th>\n",
              "      <th>price_mean</th>\n",
              "      <th>company_category</th>\n",
              "    </tr>\n",
              "  </thead>\n",
              "  <tbody>\n",
              "    <tr>\n",
              "      <th>0</th>\n",
              "      <td>Maruti 800 AC</td>\n",
              "      <td>2007</td>\n",
              "      <td>60000</td>\n",
              "      <td>70000</td>\n",
              "      <td>Petrol</td>\n",
              "      <td>Individual</td>\n",
              "      <td>Manual</td>\n",
              "      <td>First Owner</td>\n",
              "      <td>Maruti</td>\n",
              "      <td>800</td>\n",
              "      <td>Maruti 800</td>\n",
              "      <td>59</td>\n",
              "      <td>20</td>\n",
              "      <td>59</td>\n",
              "      <td>20</td>\n",
              "      <td>1280</td>\n",
              "      <td>0</td>\n",
              "      <td>342416.295312</td>\n",
              "      <td>0</td>\n",
              "    </tr>\n",
              "    <tr>\n",
              "      <th>1</th>\n",
              "      <td>Maruti Wagon R LXI Minor</td>\n",
              "      <td>2007</td>\n",
              "      <td>135000</td>\n",
              "      <td>50000</td>\n",
              "      <td>Petrol</td>\n",
              "      <td>Individual</td>\n",
              "      <td>Manual</td>\n",
              "      <td>First Owner</td>\n",
              "      <td>Maruti</td>\n",
              "      <td>Wagon R</td>\n",
              "      <td>Maruti Wagon R</td>\n",
              "      <td>164</td>\n",
              "      <td>2</td>\n",
              "      <td>164</td>\n",
              "      <td>2</td>\n",
              "      <td>1280</td>\n",
              "      <td>0</td>\n",
              "      <td>342416.295312</td>\n",
              "      <td>0</td>\n",
              "    </tr>\n",
              "    <tr>\n",
              "      <th>2</th>\n",
              "      <td>Hyundai Verna 1.6 SX</td>\n",
              "      <td>2012</td>\n",
              "      <td>600000</td>\n",
              "      <td>100000</td>\n",
              "      <td>Diesel</td>\n",
              "      <td>Individual</td>\n",
              "      <td>Manual</td>\n",
              "      <td>First Owner</td>\n",
              "      <td>Hyundai</td>\n",
              "      <td>Verna</td>\n",
              "      <td>Hyundai Verna</td>\n",
              "      <td>129</td>\n",
              "      <td>4</td>\n",
              "      <td>129</td>\n",
              "      <td>4</td>\n",
              "      <td>821</td>\n",
              "      <td>1</td>\n",
              "      <td>419940.260658</td>\n",
              "      <td>0</td>\n",
              "    </tr>\n",
              "    <tr>\n",
              "      <th>3</th>\n",
              "      <td>Datsun RediGO T Option</td>\n",
              "      <td>2017</td>\n",
              "      <td>250000</td>\n",
              "      <td>46000</td>\n",
              "      <td>Petrol</td>\n",
              "      <td>Individual</td>\n",
              "      <td>Manual</td>\n",
              "      <td>First Owner</td>\n",
              "      <td>Datsun</td>\n",
              "      <td>RediGO</td>\n",
              "      <td>Datsun RediGO</td>\n",
              "      <td>15</td>\n",
              "      <td>70</td>\n",
              "      <td>15</td>\n",
              "      <td>70</td>\n",
              "      <td>37</td>\n",
              "      <td>14</td>\n",
              "      <td>297026.945946</td>\n",
              "      <td>0</td>\n",
              "    </tr>\n",
              "    <tr>\n",
              "      <th>4</th>\n",
              "      <td>Honda Amaze VX i-DTEC</td>\n",
              "      <td>2014</td>\n",
              "      <td>450000</td>\n",
              "      <td>141000</td>\n",
              "      <td>Diesel</td>\n",
              "      <td>Individual</td>\n",
              "      <td>Manual</td>\n",
              "      <td>Second Owner</td>\n",
              "      <td>Honda</td>\n",
              "      <td>Amaze</td>\n",
              "      <td>Honda Amaze</td>\n",
              "      <td>58</td>\n",
              "      <td>22</td>\n",
              "      <td>58</td>\n",
              "      <td>22</td>\n",
              "      <td>252</td>\n",
              "      <td>4</td>\n",
              "      <td>538146.781746</td>\n",
              "      <td>0</td>\n",
              "    </tr>\n",
              "  </tbody>\n",
              "</table>\n",
              "</div>"
            ],
            "text/plain": [
              "                       name  year  ...     price_mean  company_category\n",
              "0             Maruti 800 AC  2007  ...  342416.295312                 0\n",
              "1  Maruti Wagon R LXI Minor  2007  ...  342416.295312                 0\n",
              "2      Hyundai Verna 1.6 SX  2012  ...  419940.260658                 0\n",
              "3    Datsun RediGO T Option  2017  ...  297026.945946                 0\n",
              "4     Honda Amaze VX i-DTEC  2014  ...  538146.781746                 0\n",
              "\n",
              "[5 rows x 19 columns]"
            ]
          },
          "metadata": {
            "tags": []
          },
          "execution_count": 39
        }
      ]
    },
    {
      "cell_type": "code",
      "metadata": {
        "colab": {
          "base_uri": "https://localhost:8080/"
        },
        "id": "B7SlqvVA31dg",
        "outputId": "7625270c-ad5a-4375-b14a-b13f1e51bca9"
      },
      "source": [
        "#get list of all unique values of dataframe\n",
        "column_list = categorical_features.values.tolist()\n",
        "for column_name in column_list:\n",
        "  print('\\n',column_name,'\\n',dataset[column_name].unique())"
      ],
      "execution_count": null,
      "outputs": [
        {
          "output_type": "stream",
          "text": [
            "\n",
            " name \n",
            " ['Maruti 800 AC' 'Maruti Wagon R LXI Minor' 'Hyundai Verna 1.6 SX' ...\n",
            " 'Mahindra Verito 1.5 D6 BSIII'\n",
            " 'Toyota Innova 2.5 VX (Diesel) 8 Seater BS IV'\n",
            " 'Hyundai i20 Magna 1.4 CRDi']\n",
            "\n",
            " fuel \n",
            " ['Petrol' 'Diesel' 'CNG' 'LPG' 'Electric']\n",
            "\n",
            " seller_type \n",
            " ['Individual' 'Dealer' 'Trustmark Dealer']\n",
            "\n",
            " transmission \n",
            " ['Manual' 'Automatic']\n",
            "\n",
            " owner \n",
            " ['First Owner' 'Second Owner' 'Fourth & Above Owner' 'Third Owner'\n",
            " 'Test Drive Car']\n",
            "\n",
            " Company_make \n",
            " ['Maruti' 'Hyundai' 'Datsun' 'Honda' 'Tata' 'Chevrolet' 'Toyota' 'Jaguar'\n",
            " 'Mercedes-Benz' 'Audi' 'Skoda' 'Jeep' 'BMW' 'Mahindra' 'Ford' 'Nissan'\n",
            " 'Renault' 'Fiat' 'Volkswagen' 'Volvo' 'Mitsubishi' 'Land' 'Daewoo' 'MG'\n",
            " 'Force' 'Isuzu' 'OpelCorsa' 'Ambassador' 'Kia']\n",
            "\n",
            " variant \n",
            " ['800' 'Wagon R' 'Verna' 'RediGO' 'Amaze' 'Alto' 'Xcent' 'Indigo' 'Creta'\n",
            " 'Celerio' 'Sail' 'Corolla' 'Ciaz' 'Venue' 'Enjoy' 'XF' 'New' 'Vitara'\n",
            " 'Q5' 'City' 'Tigor' 'A6' 'Superb' 'Innova' 'Compass' 'E-Class' 'i10' '3'\n",
            " 'Q7' 'Elantra' 'Scorpio' 'Santro' 'Grand' 'Swift' 'Eeco' 'i20' 'Omni'\n",
            " 'Jeep' 'Indica' 'EON' 'Etios' 'Tavera' 'EcoSport' 'Civic' 'Rapid' 'Getz'\n",
            " 'Terrano' 'Elite' 'Brio' 'S-Class' 'XUV500' 'Duster' 'Bolero' 'Avventura'\n",
            " 'A8' 'Jetta' 'A4' 'X1' 'V40' 'SX4' '7' 'Sonata' 'Micra' 'Xylo' 'KWID'\n",
            " 'Ertiga' 'Beat' 'Zen' 'Baleno' 'Nano' 'Cruze' 'Figo' 'Spark' 'Bolt'\n",
            " 'Quanto' 'XJ' 'Nexon' 'Vento' 'Esteem' '5' 'Linea' 'Scala' 'XUV300'\n",
            " 'S-Cross' 'Ameo' 'Renault' 'Optra' 'Mobilio' 'Zest' 'Fabia' 'GO' 'Fiesta'\n",
            " 'Sumo' 'Jazz' 'Tiago' 'Marazzo' 'A-Star' 'Yeti' 'Aspire' 'Outlander'\n",
            " 'Endeavour' 'Polo' 'Ritz' 'Estilo' 'Manza' 'Safari' 'Fortuner' 'Ecosport'\n",
            " 'Supro' 'KUV' 'Accord' 'TUV' 'BR-V' 'Ikon' 'Punto' 'WR-V' 'Laura'\n",
            " 'Tucson' 'GL-Class' 'Pulse' 'C-Class' 'X5' 'Gypsy' 'Verito' 'Hexa'\n",
            " 'Venture' 'Captiva' 'Aveo' 'Thar' 'Octavia' 'Accent' 'Rover' 'Lodgy'\n",
            " 'Grande' 'Palio' 'M-Class' 'Ignis' 'Sunny' 'Q3' 'A5' 'Camry' 'Pajero'\n",
            " 'Xenon' 'Captur' 'Passat' 'Freestyle' 'Alturas' 'Aria' 'CR-V' 'Matiz'\n",
            " 'redi-GO' 'Hector' 'Santa' 'One' 'NuvoSport' 'S-Presso' 'Yaris' 'Fusion'\n",
            " 'Fluence' 'Evalia' 'Koleos' 'Harrier' 'Altroz' 'D-Max' 'Kicks' '1.6Gls'\n",
            " 'BRV' 'B' '500' 'Triber' 'Montero' 'X-Trail' 'XC60' 'Classic' 'Seltos'\n",
            " '1.4' 'Ingenio' 'CrossPolo' 'Spacio' 'Winger' 'RS7' 'CLASSIC' 'GLS' 'XC'\n",
            " 'Qualis']\n",
            "\n",
            " car \n",
            " ['Maruti 800' 'Maruti Wagon R' 'Hyundai Verna' 'Datsun RediGO'\n",
            " 'Honda Amaze' 'Maruti Alto' 'Hyundai Xcent' 'Tata Indigo' 'Hyundai Creta'\n",
            " 'Maruti Celerio' 'Chevrolet Sail' 'Toyota Corolla' 'Maruti Ciaz'\n",
            " 'Hyundai Venue' 'Chevrolet Enjoy' 'Jaguar XF' 'Mercedes-Benz New'\n",
            " 'Maruti Vitara' 'Audi Q5' 'Honda City' 'Tata Tigor' 'Audi A6'\n",
            " 'Skoda Superb' 'Toyota Innova' 'Jeep Compass' 'Mercedes-Benz E-Class'\n",
            " 'Hyundai i10' 'BMW 3' 'Audi Q7' 'Hyundai Elantra' 'Mahindra Scorpio'\n",
            " 'Hyundai Santro' 'Hyundai Grand' 'Maruti Swift' 'Maruti Eeco'\n",
            " 'Hyundai i20' 'Maruti Omni' 'Mahindra Jeep' 'Tata Indica' 'Hyundai EON'\n",
            " 'Toyota Etios' 'Chevrolet Tavera' 'Ford EcoSport' 'Honda Civic'\n",
            " 'Skoda Rapid' 'Hyundai Getz' 'Nissan Terrano' 'Hyundai Elite'\n",
            " 'Honda Brio' 'Mercedes-Benz S-Class' 'Mahindra XUV500' 'Renault Duster'\n",
            " 'Mahindra Bolero' 'Fiat Avventura' 'Audi A8' 'Volkswagen Jetta' 'Audi A4'\n",
            " 'BMW X1' 'Volvo V40' 'Maruti SX4' 'BMW 7' 'Hyundai Sonata' 'Nissan Micra'\n",
            " 'Mahindra Xylo' 'Renault KWID' 'Maruti Ertiga' 'Chevrolet Beat'\n",
            " 'Maruti Zen' 'Maruti Baleno' 'Tata Nano' 'Chevrolet Cruze' 'Ford Figo'\n",
            " 'Chevrolet Spark' 'Tata Bolt' 'Mahindra Quanto' 'Jaguar XJ' 'Tata Nexon'\n",
            " 'Volkswagen Vento' 'Maruti Esteem' 'BMW 5' 'Fiat Linea' 'Renault Scala'\n",
            " 'Mahindra XUV300' 'Maruti S-Cross' 'Volkswagen Ameo' 'Mahindra Renault'\n",
            " 'Chevrolet Optra' 'Honda Mobilio' 'Tata Zest' 'Skoda Fabia' 'Datsun GO'\n",
            " 'Ford Fiesta' 'Tata Sumo' 'Honda Jazz' 'Tata Tiago' 'Mahindra Marazzo'\n",
            " 'Maruti A-Star' 'Skoda Yeti' 'Ford Aspire' 'Mitsubishi Outlander'\n",
            " 'Ford Endeavour' 'Volkswagen Polo' 'Maruti Ritz' 'Maruti Estilo'\n",
            " 'Tata Manza' 'Tata Safari' 'Toyota Fortuner' 'Ford Ecosport'\n",
            " 'Mahindra Supro' 'Mahindra KUV' 'Tata New' 'Honda Accord' 'Mahindra TUV'\n",
            " 'Honda BR-V' 'Ford Ikon' 'Fiat Punto' 'Honda WR-V' 'Skoda Laura'\n",
            " 'Hyundai Tucson' 'Mercedes-Benz GL-Class' 'Renault Pulse'\n",
            " 'Mercedes-Benz C-Class' 'BMW X5' 'Maruti Gypsy' 'Mahindra Verito'\n",
            " 'Tata Hexa' 'Tata Venture' 'Chevrolet Captiva' 'Chevrolet Aveo'\n",
            " 'Mahindra Thar' 'Skoda Octavia' 'Hyundai Accent' 'Land Rover'\n",
            " 'Renault Lodgy' 'Fiat Grande' 'Fiat Palio' 'Mercedes-Benz M-Class'\n",
            " 'Maruti Ignis' 'Nissan Sunny' 'Audi Q3' 'Audi A5' 'Toyota Camry'\n",
            " 'Mitsubishi Pajero' 'Tata Xenon' 'Renault Captur' 'Volkswagen Passat'\n",
            " 'Ford Freestyle' 'Mahindra Alturas' 'Tata Aria' 'Honda CR-V'\n",
            " 'Daewoo Matiz' 'Datsun redi-GO' 'MG Hector' 'Hyundai Santa' 'Force One'\n",
            " 'Mahindra NuvoSport' 'Maruti S-Presso' 'Toyota Yaris' 'Ford Fusion'\n",
            " 'Renault Fluence' 'Nissan Evalia' 'Renault Koleos' 'Tata Harrier'\n",
            " 'Tata Altroz' 'Isuzu D-Max' 'Nissan Kicks' 'OpelCorsa 1.6Gls' 'Honda BRV'\n",
            " 'Mercedes-Benz B' 'Fiat 500' 'Renault Triber' 'Mitsubishi Montero'\n",
            " 'Nissan X-Trail' 'Volvo XC60' 'Ambassador Classic' 'Ford Classic'\n",
            " 'Kia Seltos' 'OpelCorsa 1.4' 'Maruti Grand' 'Mahindra Ingenio'\n",
            " 'Ambassador Grand' 'Volkswagen CrossPolo' 'Tata Spacio' 'Tata Winger'\n",
            " 'Audi RS7' 'Ambassador CLASSIC' 'Mercedes-Benz GLS' 'Volvo XC'\n",
            " 'Toyota Qualis']\n"
          ],
          "name": "stdout"
        }
      ]
    },
    {
      "cell_type": "code",
      "metadata": {
        "id": "GKdm6Yvg2Xci",
        "colab": {
          "base_uri": "https://localhost:8080/",
          "height": 428
        },
        "outputId": "5dc2200e-e5d7-4a28-f079-9352ae9d72f6"
      },
      "source": [
        "#new dataset formed\n",
        "dataset_pr.head()"
      ],
      "execution_count": null,
      "outputs": [
        {
          "output_type": "execute_result",
          "data": {
            "text/html": [
              "<div>\n",
              "<style scoped>\n",
              "    .dataframe tbody tr th:only-of-type {\n",
              "        vertical-align: middle;\n",
              "    }\n",
              "\n",
              "    .dataframe tbody tr th {\n",
              "        vertical-align: top;\n",
              "    }\n",
              "\n",
              "    .dataframe thead th {\n",
              "        text-align: right;\n",
              "    }\n",
              "</style>\n",
              "<table border=\"1\" class=\"dataframe\">\n",
              "  <thead>\n",
              "    <tr style=\"text-align: right;\">\n",
              "      <th></th>\n",
              "      <th>name</th>\n",
              "      <th>year</th>\n",
              "      <th>selling_price</th>\n",
              "      <th>km_driven</th>\n",
              "      <th>fuel</th>\n",
              "      <th>seller_type</th>\n",
              "      <th>transmission</th>\n",
              "      <th>owner</th>\n",
              "      <th>Company_make</th>\n",
              "      <th>variant</th>\n",
              "      <th>car</th>\n",
              "      <th>Count_x</th>\n",
              "      <th>assigned_car_values</th>\n",
              "      <th>Count_y</th>\n",
              "      <th>assigned_variant_values</th>\n",
              "      <th>Count</th>\n",
              "      <th>assigned_company_make_values</th>\n",
              "      <th>price_mean</th>\n",
              "      <th>company_category</th>\n",
              "    </tr>\n",
              "  </thead>\n",
              "  <tbody>\n",
              "    <tr>\n",
              "      <th>0</th>\n",
              "      <td>Maruti 800 AC</td>\n",
              "      <td>2007</td>\n",
              "      <td>60000</td>\n",
              "      <td>70000</td>\n",
              "      <td>Petrol</td>\n",
              "      <td>Individual</td>\n",
              "      <td>Manual</td>\n",
              "      <td>First Owner</td>\n",
              "      <td>Maruti</td>\n",
              "      <td>800</td>\n",
              "      <td>Maruti 800</td>\n",
              "      <td>59</td>\n",
              "      <td>20</td>\n",
              "      <td>59</td>\n",
              "      <td>20</td>\n",
              "      <td>1280</td>\n",
              "      <td>0</td>\n",
              "      <td>342416.295312</td>\n",
              "      <td>0</td>\n",
              "    </tr>\n",
              "    <tr>\n",
              "      <th>1</th>\n",
              "      <td>Maruti Wagon R LXI Minor</td>\n",
              "      <td>2007</td>\n",
              "      <td>135000</td>\n",
              "      <td>50000</td>\n",
              "      <td>Petrol</td>\n",
              "      <td>Individual</td>\n",
              "      <td>Manual</td>\n",
              "      <td>First Owner</td>\n",
              "      <td>Maruti</td>\n",
              "      <td>Wagon R</td>\n",
              "      <td>Maruti Wagon R</td>\n",
              "      <td>164</td>\n",
              "      <td>2</td>\n",
              "      <td>164</td>\n",
              "      <td>2</td>\n",
              "      <td>1280</td>\n",
              "      <td>0</td>\n",
              "      <td>342416.295312</td>\n",
              "      <td>0</td>\n",
              "    </tr>\n",
              "    <tr>\n",
              "      <th>2</th>\n",
              "      <td>Hyundai Verna 1.6 SX</td>\n",
              "      <td>2012</td>\n",
              "      <td>600000</td>\n",
              "      <td>100000</td>\n",
              "      <td>Diesel</td>\n",
              "      <td>Individual</td>\n",
              "      <td>Manual</td>\n",
              "      <td>First Owner</td>\n",
              "      <td>Hyundai</td>\n",
              "      <td>Verna</td>\n",
              "      <td>Hyundai Verna</td>\n",
              "      <td>129</td>\n",
              "      <td>4</td>\n",
              "      <td>129</td>\n",
              "      <td>4</td>\n",
              "      <td>821</td>\n",
              "      <td>1</td>\n",
              "      <td>419940.260658</td>\n",
              "      <td>0</td>\n",
              "    </tr>\n",
              "    <tr>\n",
              "      <th>3</th>\n",
              "      <td>Datsun RediGO T Option</td>\n",
              "      <td>2017</td>\n",
              "      <td>250000</td>\n",
              "      <td>46000</td>\n",
              "      <td>Petrol</td>\n",
              "      <td>Individual</td>\n",
              "      <td>Manual</td>\n",
              "      <td>First Owner</td>\n",
              "      <td>Datsun</td>\n",
              "      <td>RediGO</td>\n",
              "      <td>Datsun RediGO</td>\n",
              "      <td>15</td>\n",
              "      <td>70</td>\n",
              "      <td>15</td>\n",
              "      <td>70</td>\n",
              "      <td>37</td>\n",
              "      <td>14</td>\n",
              "      <td>297026.945946</td>\n",
              "      <td>0</td>\n",
              "    </tr>\n",
              "    <tr>\n",
              "      <th>4</th>\n",
              "      <td>Honda Amaze VX i-DTEC</td>\n",
              "      <td>2014</td>\n",
              "      <td>450000</td>\n",
              "      <td>141000</td>\n",
              "      <td>Diesel</td>\n",
              "      <td>Individual</td>\n",
              "      <td>Manual</td>\n",
              "      <td>Second Owner</td>\n",
              "      <td>Honda</td>\n",
              "      <td>Amaze</td>\n",
              "      <td>Honda Amaze</td>\n",
              "      <td>58</td>\n",
              "      <td>22</td>\n",
              "      <td>58</td>\n",
              "      <td>22</td>\n",
              "      <td>252</td>\n",
              "      <td>4</td>\n",
              "      <td>538146.781746</td>\n",
              "      <td>0</td>\n",
              "    </tr>\n",
              "  </tbody>\n",
              "</table>\n",
              "</div>"
            ],
            "text/plain": [
              "                       name  year  ...     price_mean  company_category\n",
              "0             Maruti 800 AC  2007  ...  342416.295312                 0\n",
              "1  Maruti Wagon R LXI Minor  2007  ...  342416.295312                 0\n",
              "2      Hyundai Verna 1.6 SX  2012  ...  419940.260658                 0\n",
              "3    Datsun RediGO T Option  2017  ...  297026.945946                 0\n",
              "4     Honda Amaze VX i-DTEC  2014  ...  538146.781746                 0\n",
              "\n",
              "[5 rows x 19 columns]"
            ]
          },
          "metadata": {
            "tags": []
          },
          "execution_count": 41
        }
      ]
    },
    {
      "cell_type": "code",
      "metadata": {
        "id": "WnoAUHVr6XF9"
      },
      "source": [
        "dataset_pr = pd.get_dummies(dataset_pr, columns=[\"fuel\",\"seller_type\",\"transmission\",'owner'], prefix=[\"fuel\",\"seller\",\"trans\",'own'])\n",
        "# dataset_pr[dataset_pr['trans_Automatic'] == 1]\n"
      ],
      "execution_count": null,
      "outputs": []
    },
    {
      "cell_type": "code",
      "metadata": {
        "colab": {
          "base_uri": "https://localhost:8080/",
          "height": 462
        },
        "id": "sE9mMFaD6uSH",
        "outputId": "68669262-6037-4bf3-8a8b-f142de111e20"
      },
      "source": [
        "dataset_pr.head()"
      ],
      "execution_count": null,
      "outputs": [
        {
          "output_type": "execute_result",
          "data": {
            "text/html": [
              "<div>\n",
              "<style scoped>\n",
              "    .dataframe tbody tr th:only-of-type {\n",
              "        vertical-align: middle;\n",
              "    }\n",
              "\n",
              "    .dataframe tbody tr th {\n",
              "        vertical-align: top;\n",
              "    }\n",
              "\n",
              "    .dataframe thead th {\n",
              "        text-align: right;\n",
              "    }\n",
              "</style>\n",
              "<table border=\"1\" class=\"dataframe\">\n",
              "  <thead>\n",
              "    <tr style=\"text-align: right;\">\n",
              "      <th></th>\n",
              "      <th>name</th>\n",
              "      <th>year</th>\n",
              "      <th>selling_price</th>\n",
              "      <th>km_driven</th>\n",
              "      <th>Company_make</th>\n",
              "      <th>variant</th>\n",
              "      <th>car</th>\n",
              "      <th>Count_x</th>\n",
              "      <th>assigned_car_values</th>\n",
              "      <th>Count_y</th>\n",
              "      <th>assigned_variant_values</th>\n",
              "      <th>Count</th>\n",
              "      <th>assigned_company_make_values</th>\n",
              "      <th>price_mean</th>\n",
              "      <th>company_category</th>\n",
              "      <th>fuel_CNG</th>\n",
              "      <th>fuel_Diesel</th>\n",
              "      <th>fuel_Electric</th>\n",
              "      <th>fuel_LPG</th>\n",
              "      <th>fuel_Petrol</th>\n",
              "      <th>seller_Dealer</th>\n",
              "      <th>seller_Individual</th>\n",
              "      <th>seller_Trustmark Dealer</th>\n",
              "      <th>trans_Automatic</th>\n",
              "      <th>trans_Manual</th>\n",
              "      <th>own_First Owner</th>\n",
              "      <th>own_Fourth &amp; Above Owner</th>\n",
              "      <th>own_Second Owner</th>\n",
              "      <th>own_Test Drive Car</th>\n",
              "      <th>own_Third Owner</th>\n",
              "    </tr>\n",
              "  </thead>\n",
              "  <tbody>\n",
              "    <tr>\n",
              "      <th>0</th>\n",
              "      <td>Maruti 800 AC</td>\n",
              "      <td>2007</td>\n",
              "      <td>60000</td>\n",
              "      <td>70000</td>\n",
              "      <td>Maruti</td>\n",
              "      <td>800</td>\n",
              "      <td>Maruti 800</td>\n",
              "      <td>59</td>\n",
              "      <td>20</td>\n",
              "      <td>59</td>\n",
              "      <td>20</td>\n",
              "      <td>1280</td>\n",
              "      <td>0</td>\n",
              "      <td>342416.295312</td>\n",
              "      <td>0</td>\n",
              "      <td>0</td>\n",
              "      <td>0</td>\n",
              "      <td>0</td>\n",
              "      <td>0</td>\n",
              "      <td>1</td>\n",
              "      <td>0</td>\n",
              "      <td>1</td>\n",
              "      <td>0</td>\n",
              "      <td>0</td>\n",
              "      <td>1</td>\n",
              "      <td>1</td>\n",
              "      <td>0</td>\n",
              "      <td>0</td>\n",
              "      <td>0</td>\n",
              "      <td>0</td>\n",
              "    </tr>\n",
              "    <tr>\n",
              "      <th>1</th>\n",
              "      <td>Maruti Wagon R LXI Minor</td>\n",
              "      <td>2007</td>\n",
              "      <td>135000</td>\n",
              "      <td>50000</td>\n",
              "      <td>Maruti</td>\n",
              "      <td>Wagon R</td>\n",
              "      <td>Maruti Wagon R</td>\n",
              "      <td>164</td>\n",
              "      <td>2</td>\n",
              "      <td>164</td>\n",
              "      <td>2</td>\n",
              "      <td>1280</td>\n",
              "      <td>0</td>\n",
              "      <td>342416.295312</td>\n",
              "      <td>0</td>\n",
              "      <td>0</td>\n",
              "      <td>0</td>\n",
              "      <td>0</td>\n",
              "      <td>0</td>\n",
              "      <td>1</td>\n",
              "      <td>0</td>\n",
              "      <td>1</td>\n",
              "      <td>0</td>\n",
              "      <td>0</td>\n",
              "      <td>1</td>\n",
              "      <td>1</td>\n",
              "      <td>0</td>\n",
              "      <td>0</td>\n",
              "      <td>0</td>\n",
              "      <td>0</td>\n",
              "    </tr>\n",
              "    <tr>\n",
              "      <th>2</th>\n",
              "      <td>Hyundai Verna 1.6 SX</td>\n",
              "      <td>2012</td>\n",
              "      <td>600000</td>\n",
              "      <td>100000</td>\n",
              "      <td>Hyundai</td>\n",
              "      <td>Verna</td>\n",
              "      <td>Hyundai Verna</td>\n",
              "      <td>129</td>\n",
              "      <td>4</td>\n",
              "      <td>129</td>\n",
              "      <td>4</td>\n",
              "      <td>821</td>\n",
              "      <td>1</td>\n",
              "      <td>419940.260658</td>\n",
              "      <td>0</td>\n",
              "      <td>0</td>\n",
              "      <td>1</td>\n",
              "      <td>0</td>\n",
              "      <td>0</td>\n",
              "      <td>0</td>\n",
              "      <td>0</td>\n",
              "      <td>1</td>\n",
              "      <td>0</td>\n",
              "      <td>0</td>\n",
              "      <td>1</td>\n",
              "      <td>1</td>\n",
              "      <td>0</td>\n",
              "      <td>0</td>\n",
              "      <td>0</td>\n",
              "      <td>0</td>\n",
              "    </tr>\n",
              "    <tr>\n",
              "      <th>3</th>\n",
              "      <td>Datsun RediGO T Option</td>\n",
              "      <td>2017</td>\n",
              "      <td>250000</td>\n",
              "      <td>46000</td>\n",
              "      <td>Datsun</td>\n",
              "      <td>RediGO</td>\n",
              "      <td>Datsun RediGO</td>\n",
              "      <td>15</td>\n",
              "      <td>70</td>\n",
              "      <td>15</td>\n",
              "      <td>70</td>\n",
              "      <td>37</td>\n",
              "      <td>14</td>\n",
              "      <td>297026.945946</td>\n",
              "      <td>0</td>\n",
              "      <td>0</td>\n",
              "      <td>0</td>\n",
              "      <td>0</td>\n",
              "      <td>0</td>\n",
              "      <td>1</td>\n",
              "      <td>0</td>\n",
              "      <td>1</td>\n",
              "      <td>0</td>\n",
              "      <td>0</td>\n",
              "      <td>1</td>\n",
              "      <td>1</td>\n",
              "      <td>0</td>\n",
              "      <td>0</td>\n",
              "      <td>0</td>\n",
              "      <td>0</td>\n",
              "    </tr>\n",
              "    <tr>\n",
              "      <th>4</th>\n",
              "      <td>Honda Amaze VX i-DTEC</td>\n",
              "      <td>2014</td>\n",
              "      <td>450000</td>\n",
              "      <td>141000</td>\n",
              "      <td>Honda</td>\n",
              "      <td>Amaze</td>\n",
              "      <td>Honda Amaze</td>\n",
              "      <td>58</td>\n",
              "      <td>22</td>\n",
              "      <td>58</td>\n",
              "      <td>22</td>\n",
              "      <td>252</td>\n",
              "      <td>4</td>\n",
              "      <td>538146.781746</td>\n",
              "      <td>0</td>\n",
              "      <td>0</td>\n",
              "      <td>1</td>\n",
              "      <td>0</td>\n",
              "      <td>0</td>\n",
              "      <td>0</td>\n",
              "      <td>0</td>\n",
              "      <td>1</td>\n",
              "      <td>0</td>\n",
              "      <td>0</td>\n",
              "      <td>1</td>\n",
              "      <td>0</td>\n",
              "      <td>0</td>\n",
              "      <td>1</td>\n",
              "      <td>0</td>\n",
              "      <td>0</td>\n",
              "    </tr>\n",
              "  </tbody>\n",
              "</table>\n",
              "</div>"
            ],
            "text/plain": [
              "                       name  year  ...  own_Test Drive Car  own_Third Owner\n",
              "0             Maruti 800 AC  2007  ...                   0                0\n",
              "1  Maruti Wagon R LXI Minor  2007  ...                   0                0\n",
              "2      Hyundai Verna 1.6 SX  2012  ...                   0                0\n",
              "3    Datsun RediGO T Option  2017  ...                   0                0\n",
              "4     Honda Amaze VX i-DTEC  2014  ...                   0                0\n",
              "\n",
              "[5 rows x 30 columns]"
            ]
          },
          "metadata": {
            "tags": []
          },
          "execution_count": 43
        }
      ]
    },
    {
      "cell_type": "code",
      "metadata": {
        "colab": {
          "base_uri": "https://localhost:8080/",
          "height": 909
        },
        "id": "mySeQSZQPA3W",
        "outputId": "374ffb78-dc21-4ebe-82eb-e24bf0a0fd01"
      },
      "source": [
        "dataset_pr.corr()"
      ],
      "execution_count": null,
      "outputs": [
        {
          "output_type": "execute_result",
          "data": {
            "text/html": [
              "<div>\n",
              "<style scoped>\n",
              "    .dataframe tbody tr th:only-of-type {\n",
              "        vertical-align: middle;\n",
              "    }\n",
              "\n",
              "    .dataframe tbody tr th {\n",
              "        vertical-align: top;\n",
              "    }\n",
              "\n",
              "    .dataframe thead th {\n",
              "        text-align: right;\n",
              "    }\n",
              "</style>\n",
              "<table border=\"1\" class=\"dataframe\">\n",
              "  <thead>\n",
              "    <tr style=\"text-align: right;\">\n",
              "      <th></th>\n",
              "      <th>year</th>\n",
              "      <th>selling_price</th>\n",
              "      <th>km_driven</th>\n",
              "      <th>Count_x</th>\n",
              "      <th>assigned_car_values</th>\n",
              "      <th>Count_y</th>\n",
              "      <th>assigned_variant_values</th>\n",
              "      <th>Count</th>\n",
              "      <th>assigned_company_make_values</th>\n",
              "      <th>price_mean</th>\n",
              "      <th>company_category</th>\n",
              "      <th>fuel_CNG</th>\n",
              "      <th>fuel_Diesel</th>\n",
              "      <th>fuel_Electric</th>\n",
              "      <th>fuel_LPG</th>\n",
              "      <th>fuel_Petrol</th>\n",
              "      <th>seller_Dealer</th>\n",
              "      <th>seller_Individual</th>\n",
              "      <th>seller_Trustmark Dealer</th>\n",
              "      <th>trans_Automatic</th>\n",
              "      <th>trans_Manual</th>\n",
              "      <th>own_First Owner</th>\n",
              "      <th>own_Fourth &amp; Above Owner</th>\n",
              "      <th>own_Second Owner</th>\n",
              "      <th>own_Test Drive Car</th>\n",
              "      <th>own_Third Owner</th>\n",
              "    </tr>\n",
              "  </thead>\n",
              "  <tbody>\n",
              "    <tr>\n",
              "      <th>year</th>\n",
              "      <td>1.000000</td>\n",
              "      <td>0.413922</td>\n",
              "      <td>-0.419688</td>\n",
              "      <td>-0.030974</td>\n",
              "      <td>0.051538</td>\n",
              "      <td>-0.031417</td>\n",
              "      <td>0.057284</td>\n",
              "      <td>-0.087634</td>\n",
              "      <td>0.070124</td>\n",
              "      <td>0.073352</td>\n",
              "      <td>0.051361</td>\n",
              "      <td>0.008792</td>\n",
              "      <td>0.121424</td>\n",
              "      <td>-0.025540</td>\n",
              "      <td>-0.051266</td>\n",
              "      <td>-0.114908</td>\n",
              "      <td>0.143464</td>\n",
              "      <td>-0.173703</td>\n",
              "      <td>0.100225</td>\n",
              "      <td>0.143800</td>\n",
              "      <td>-0.143800</td>\n",
              "      <td>0.438897</td>\n",
              "      <td>-0.186361</td>\n",
              "      <td>-0.292349</td>\n",
              "      <td>0.095795</td>\n",
              "      <td>-0.244308</td>\n",
              "    </tr>\n",
              "    <tr>\n",
              "      <th>selling_price</th>\n",
              "      <td>0.413922</td>\n",
              "      <td>1.000000</td>\n",
              "      <td>-0.192289</td>\n",
              "      <td>-0.199410</td>\n",
              "      <td>0.335210</td>\n",
              "      <td>-0.198966</td>\n",
              "      <td>0.327365</td>\n",
              "      <td>-0.267996</td>\n",
              "      <td>0.387475</td>\n",
              "      <td>0.714053</td>\n",
              "      <td>0.662210</td>\n",
              "      <td>-0.037839</td>\n",
              "      <td>0.282947</td>\n",
              "      <td>-0.005095</td>\n",
              "      <td>-0.042434</td>\n",
              "      <td>-0.269453</td>\n",
              "      <td>0.205111</td>\n",
              "      <td>-0.236798</td>\n",
              "      <td>0.110176</td>\n",
              "      <td>0.530205</td>\n",
              "      <td>-0.530205</td>\n",
              "      <td>0.223889</td>\n",
              "      <td>-0.078725</td>\n",
              "      <td>-0.161986</td>\n",
              "      <td>0.048799</td>\n",
              "      <td>-0.111326</td>\n",
              "    </tr>\n",
              "    <tr>\n",
              "      <th>km_driven</th>\n",
              "      <td>-0.419688</td>\n",
              "      <td>-0.192289</td>\n",
              "      <td>1.000000</td>\n",
              "      <td>0.014619</td>\n",
              "      <td>-0.034941</td>\n",
              "      <td>0.014756</td>\n",
              "      <td>-0.036437</td>\n",
              "      <td>-0.080541</td>\n",
              "      <td>0.023103</td>\n",
              "      <td>0.001707</td>\n",
              "      <td>-0.055937</td>\n",
              "      <td>0.002107</td>\n",
              "      <td>0.285396</td>\n",
              "      <td>-0.001372</td>\n",
              "      <td>0.036652</td>\n",
              "      <td>-0.291139</td>\n",
              "      <td>-0.156465</td>\n",
              "      <td>0.182663</td>\n",
              "      <td>-0.089858</td>\n",
              "      <td>-0.120226</td>\n",
              "      <td>0.120226</td>\n",
              "      <td>-0.299731</td>\n",
              "      <td>0.097349</td>\n",
              "      <td>0.195203</td>\n",
              "      <td>-0.083445</td>\n",
              "      <td>0.194713</td>\n",
              "    </tr>\n",
              "    <tr>\n",
              "      <th>Count_x</th>\n",
              "      <td>-0.030974</td>\n",
              "      <td>-0.199410</td>\n",
              "      <td>0.014619</td>\n",
              "      <td>1.000000</td>\n",
              "      <td>-0.648224</td>\n",
              "      <td>0.999541</td>\n",
              "      <td>-0.650103</td>\n",
              "      <td>0.615802</td>\n",
              "      <td>-0.485819</td>\n",
              "      <td>-0.234256</td>\n",
              "      <td>-0.170557</td>\n",
              "      <td>0.007460</td>\n",
              "      <td>-0.154830</td>\n",
              "      <td>-0.014900</td>\n",
              "      <td>0.012977</td>\n",
              "      <td>0.152003</td>\n",
              "      <td>-0.083653</td>\n",
              "      <td>0.063871</td>\n",
              "      <td>0.048862</td>\n",
              "      <td>-0.166399</td>\n",
              "      <td>0.166399</td>\n",
              "      <td>-0.034020</td>\n",
              "      <td>-0.002112</td>\n",
              "      <td>0.038605</td>\n",
              "      <td>-0.035157</td>\n",
              "      <td>0.007280</td>\n",
              "    </tr>\n",
              "    <tr>\n",
              "      <th>assigned_car_values</th>\n",
              "      <td>0.051538</td>\n",
              "      <td>0.335210</td>\n",
              "      <td>-0.034941</td>\n",
              "      <td>-0.648224</td>\n",
              "      <td>1.000000</td>\n",
              "      <td>-0.645484</td>\n",
              "      <td>0.989154</td>\n",
              "      <td>-0.461247</td>\n",
              "      <td>0.570949</td>\n",
              "      <td>0.349834</td>\n",
              "      <td>0.362984</td>\n",
              "      <td>-0.020438</td>\n",
              "      <td>0.182636</td>\n",
              "      <td>0.038517</td>\n",
              "      <td>-0.037990</td>\n",
              "      <td>-0.174418</td>\n",
              "      <td>0.048685</td>\n",
              "      <td>-0.039284</td>\n",
              "      <td>-0.022379</td>\n",
              "      <td>0.249302</td>\n",
              "      <td>-0.249302</td>\n",
              "      <td>0.041364</td>\n",
              "      <td>0.008847</td>\n",
              "      <td>-0.048821</td>\n",
              "      <td>0.022369</td>\n",
              "      <td>-0.003980</td>\n",
              "    </tr>\n",
              "    <tr>\n",
              "      <th>Count_y</th>\n",
              "      <td>-0.031417</td>\n",
              "      <td>-0.198966</td>\n",
              "      <td>0.014756</td>\n",
              "      <td>0.999541</td>\n",
              "      <td>-0.645484</td>\n",
              "      <td>1.000000</td>\n",
              "      <td>-0.651274</td>\n",
              "      <td>0.615620</td>\n",
              "      <td>-0.484144</td>\n",
              "      <td>-0.232738</td>\n",
              "      <td>-0.168166</td>\n",
              "      <td>0.007268</td>\n",
              "      <td>-0.155036</td>\n",
              "      <td>-0.014942</td>\n",
              "      <td>0.012837</td>\n",
              "      <td>0.152267</td>\n",
              "      <td>-0.083618</td>\n",
              "      <td>0.063934</td>\n",
              "      <td>0.048582</td>\n",
              "      <td>-0.165500</td>\n",
              "      <td>0.165500</td>\n",
              "      <td>-0.034794</td>\n",
              "      <td>-0.002242</td>\n",
              "      <td>0.039120</td>\n",
              "      <td>-0.035312</td>\n",
              "      <td>0.007952</td>\n",
              "    </tr>\n",
              "    <tr>\n",
              "      <th>assigned_variant_values</th>\n",
              "      <td>0.057284</td>\n",
              "      <td>0.327365</td>\n",
              "      <td>-0.036437</td>\n",
              "      <td>-0.650103</td>\n",
              "      <td>0.989154</td>\n",
              "      <td>-0.651274</td>\n",
              "      <td>1.000000</td>\n",
              "      <td>-0.461285</td>\n",
              "      <td>0.559822</td>\n",
              "      <td>0.334242</td>\n",
              "      <td>0.343112</td>\n",
              "      <td>-0.020047</td>\n",
              "      <td>0.183679</td>\n",
              "      <td>0.039606</td>\n",
              "      <td>-0.037622</td>\n",
              "      <td>-0.175623</td>\n",
              "      <td>0.050343</td>\n",
              "      <td>-0.041063</td>\n",
              "      <td>-0.021878</td>\n",
              "      <td>0.246152</td>\n",
              "      <td>-0.246152</td>\n",
              "      <td>0.046728</td>\n",
              "      <td>0.007687</td>\n",
              "      <td>-0.052556</td>\n",
              "      <td>0.023334</td>\n",
              "      <td>-0.007231</td>\n",
              "    </tr>\n",
              "    <tr>\n",
              "      <th>Count</th>\n",
              "      <td>-0.087634</td>\n",
              "      <td>-0.267996</td>\n",
              "      <td>-0.080541</td>\n",
              "      <td>0.615802</td>\n",
              "      <td>-0.461247</td>\n",
              "      <td>0.615620</td>\n",
              "      <td>-0.461285</td>\n",
              "      <td>1.000000</td>\n",
              "      <td>-0.794779</td>\n",
              "      <td>-0.375317</td>\n",
              "      <td>-0.238822</td>\n",
              "      <td>0.099990</td>\n",
              "      <td>-0.343453</td>\n",
              "      <td>-0.014373</td>\n",
              "      <td>0.065565</td>\n",
              "      <td>0.315323</td>\n",
              "      <td>-0.135606</td>\n",
              "      <td>0.098602</td>\n",
              "      <td>0.093363</td>\n",
              "      <td>-0.194542</td>\n",
              "      <td>0.194542</td>\n",
              "      <td>-0.024352</td>\n",
              "      <td>0.049164</td>\n",
              "      <td>0.018935</td>\n",
              "      <td>-0.056633</td>\n",
              "      <td>0.000894</td>\n",
              "    </tr>\n",
              "    <tr>\n",
              "      <th>assigned_company_make_values</th>\n",
              "      <td>0.070124</td>\n",
              "      <td>0.387475</td>\n",
              "      <td>0.023103</td>\n",
              "      <td>-0.485819</td>\n",
              "      <td>0.570949</td>\n",
              "      <td>-0.484144</td>\n",
              "      <td>0.559822</td>\n",
              "      <td>-0.794779</td>\n",
              "      <td>1.000000</td>\n",
              "      <td>0.542641</td>\n",
              "      <td>0.506901</td>\n",
              "      <td>-0.068721</td>\n",
              "      <td>0.241445</td>\n",
              "      <td>0.009959</td>\n",
              "      <td>-0.048369</td>\n",
              "      <td>-0.221635</td>\n",
              "      <td>0.155812</td>\n",
              "      <td>-0.126816</td>\n",
              "      <td>-0.068497</td>\n",
              "      <td>0.321343</td>\n",
              "      <td>-0.321343</td>\n",
              "      <td>0.026150</td>\n",
              "      <td>-0.030861</td>\n",
              "      <td>-0.012077</td>\n",
              "      <td>0.030222</td>\n",
              "      <td>-0.019199</td>\n",
              "    </tr>\n",
              "    <tr>\n",
              "      <th>price_mean</th>\n",
              "      <td>0.073352</td>\n",
              "      <td>0.714053</td>\n",
              "      <td>0.001707</td>\n",
              "      <td>-0.234256</td>\n",
              "      <td>0.349834</td>\n",
              "      <td>-0.232738</td>\n",
              "      <td>0.334242</td>\n",
              "      <td>-0.375317</td>\n",
              "      <td>0.542641</td>\n",
              "      <td>1.000000</td>\n",
              "      <td>0.927396</td>\n",
              "      <td>-0.035096</td>\n",
              "      <td>0.222524</td>\n",
              "      <td>0.015444</td>\n",
              "      <td>-0.024623</td>\n",
              "      <td>-0.212753</td>\n",
              "      <td>0.193043</td>\n",
              "      <td>-0.180996</td>\n",
              "      <td>-0.016383</td>\n",
              "      <td>0.532350</td>\n",
              "      <td>-0.532350</td>\n",
              "      <td>0.050868</td>\n",
              "      <td>-0.034582</td>\n",
              "      <td>-0.035144</td>\n",
              "      <td>0.007350</td>\n",
              "      <td>-0.018359</td>\n",
              "    </tr>\n",
              "    <tr>\n",
              "      <th>company_category</th>\n",
              "      <td>0.051361</td>\n",
              "      <td>0.662210</td>\n",
              "      <td>-0.055937</td>\n",
              "      <td>-0.170557</td>\n",
              "      <td>0.362984</td>\n",
              "      <td>-0.168166</td>\n",
              "      <td>0.343112</td>\n",
              "      <td>-0.238822</td>\n",
              "      <td>0.506901</td>\n",
              "      <td>0.927396</td>\n",
              "      <td>1.000000</td>\n",
              "      <td>-0.017676</td>\n",
              "      <td>0.140237</td>\n",
              "      <td>-0.002782</td>\n",
              "      <td>-0.013377</td>\n",
              "      <td>-0.134859</td>\n",
              "      <td>0.170191</td>\n",
              "      <td>-0.154692</td>\n",
              "      <td>-0.028433</td>\n",
              "      <td>0.517507</td>\n",
              "      <td>-0.517507</td>\n",
              "      <td>0.051605</td>\n",
              "      <td>-0.025275</td>\n",
              "      <td>-0.031510</td>\n",
              "      <td>-0.011493</td>\n",
              "      <td>-0.026263</td>\n",
              "    </tr>\n",
              "    <tr>\n",
              "      <th>fuel_CNG</th>\n",
              "      <td>0.008792</td>\n",
              "      <td>-0.037839</td>\n",
              "      <td>0.002107</td>\n",
              "      <td>0.007460</td>\n",
              "      <td>-0.020438</td>\n",
              "      <td>0.007268</td>\n",
              "      <td>-0.020047</td>\n",
              "      <td>0.099990</td>\n",
              "      <td>-0.068721</td>\n",
              "      <td>-0.035096</td>\n",
              "      <td>-0.017676</td>\n",
              "      <td>1.000000</td>\n",
              "      <td>-0.095696</td>\n",
              "      <td>-0.001464</td>\n",
              "      <td>-0.007040</td>\n",
              "      <td>-0.094382</td>\n",
              "      <td>-0.000926</td>\n",
              "      <td>0.006112</td>\n",
              "      <td>-0.014963</td>\n",
              "      <td>-0.032723</td>\n",
              "      <td>0.032723</td>\n",
              "      <td>-0.025832</td>\n",
              "      <td>0.040149</td>\n",
              "      <td>0.021062</td>\n",
              "      <td>-0.006048</td>\n",
              "      <td>-0.007575</td>\n",
              "    </tr>\n",
              "    <tr>\n",
              "      <th>fuel_Diesel</th>\n",
              "      <td>0.121424</td>\n",
              "      <td>0.282947</td>\n",
              "      <td>0.285396</td>\n",
              "      <td>-0.154830</td>\n",
              "      <td>0.182636</td>\n",
              "      <td>-0.155036</td>\n",
              "      <td>0.183679</td>\n",
              "      <td>-0.343453</td>\n",
              "      <td>0.241445</td>\n",
              "      <td>0.222524</td>\n",
              "      <td>0.140237</td>\n",
              "      <td>-0.095696</td>\n",
              "      <td>1.000000</td>\n",
              "      <td>-0.015063</td>\n",
              "      <td>-0.072422</td>\n",
              "      <td>-0.970934</td>\n",
              "      <td>0.039364</td>\n",
              "      <td>-0.035314</td>\n",
              "      <td>-0.007911</td>\n",
              "      <td>0.048098</td>\n",
              "      <td>-0.048098</td>\n",
              "      <td>-0.000878</td>\n",
              "      <td>-0.021054</td>\n",
              "      <td>0.003524</td>\n",
              "      <td>-0.010575</td>\n",
              "      <td>0.009373</td>\n",
              "    </tr>\n",
              "    <tr>\n",
              "      <th>fuel_Electric</th>\n",
              "      <td>-0.025540</td>\n",
              "      <td>-0.005095</td>\n",
              "      <td>-0.001372</td>\n",
              "      <td>-0.014900</td>\n",
              "      <td>0.038517</td>\n",
              "      <td>-0.014942</td>\n",
              "      <td>0.039606</td>\n",
              "      <td>-0.014373</td>\n",
              "      <td>0.009959</td>\n",
              "      <td>0.015444</td>\n",
              "      <td>-0.002782</td>\n",
              "      <td>-0.001464</td>\n",
              "      <td>-0.015063</td>\n",
              "      <td>1.000000</td>\n",
              "      <td>-0.001108</td>\n",
              "      <td>-0.014856</td>\n",
              "      <td>0.027853</td>\n",
              "      <td>-0.026118</td>\n",
              "      <td>-0.002355</td>\n",
              "      <td>0.044746</td>\n",
              "      <td>-0.044746</td>\n",
              "      <td>-0.020804</td>\n",
              "      <td>-0.002094</td>\n",
              "      <td>0.025960</td>\n",
              "      <td>-0.000952</td>\n",
              "      <td>-0.004166</td>\n",
              "    </tr>\n",
              "    <tr>\n",
              "      <th>fuel_LPG</th>\n",
              "      <td>-0.051266</td>\n",
              "      <td>-0.042434</td>\n",
              "      <td>0.036652</td>\n",
              "      <td>0.012977</td>\n",
              "      <td>-0.037990</td>\n",
              "      <td>0.012837</td>\n",
              "      <td>-0.037622</td>\n",
              "      <td>0.065565</td>\n",
              "      <td>-0.048369</td>\n",
              "      <td>-0.024623</td>\n",
              "      <td>-0.013377</td>\n",
              "      <td>-0.007040</td>\n",
              "      <td>-0.072422</td>\n",
              "      <td>-0.001108</td>\n",
              "      <td>1.000000</td>\n",
              "      <td>-0.071427</td>\n",
              "      <td>-0.032231</td>\n",
              "      <td>0.035122</td>\n",
              "      <td>-0.011324</td>\n",
              "      <td>-0.024764</td>\n",
              "      <td>0.024764</td>\n",
              "      <td>-0.033379</td>\n",
              "      <td>0.013384</td>\n",
              "      <td>0.030141</td>\n",
              "      <td>-0.004577</td>\n",
              "      <td>0.004836</td>\n",
              "    </tr>\n",
              "    <tr>\n",
              "      <th>fuel_Petrol</th>\n",
              "      <td>-0.114908</td>\n",
              "      <td>-0.269453</td>\n",
              "      <td>-0.291139</td>\n",
              "      <td>0.152003</td>\n",
              "      <td>-0.174418</td>\n",
              "      <td>0.152267</td>\n",
              "      <td>-0.175623</td>\n",
              "      <td>0.315323</td>\n",
              "      <td>-0.221635</td>\n",
              "      <td>-0.212753</td>\n",
              "      <td>-0.134859</td>\n",
              "      <td>-0.094382</td>\n",
              "      <td>-0.970934</td>\n",
              "      <td>-0.014856</td>\n",
              "      <td>-0.071427</td>\n",
              "      <td>1.000000</td>\n",
              "      <td>-0.035360</td>\n",
              "      <td>0.029845</td>\n",
              "      <td>0.012489</td>\n",
              "      <td>-0.039614</td>\n",
              "      <td>0.039614</td>\n",
              "      <td>0.011296</td>\n",
              "      <td>0.011502</td>\n",
              "      <td>-0.012717</td>\n",
              "      <td>0.012427</td>\n",
              "      <td>-0.008502</td>\n",
              "    </tr>\n",
              "    <tr>\n",
              "      <th>seller_Dealer</th>\n",
              "      <td>0.143464</td>\n",
              "      <td>0.205111</td>\n",
              "      <td>-0.156465</td>\n",
              "      <td>-0.083653</td>\n",
              "      <td>0.048685</td>\n",
              "      <td>-0.083618</td>\n",
              "      <td>0.050343</td>\n",
              "      <td>-0.135606</td>\n",
              "      <td>0.155812</td>\n",
              "      <td>0.193043</td>\n",
              "      <td>0.170191</td>\n",
              "      <td>-0.000926</td>\n",
              "      <td>0.039364</td>\n",
              "      <td>0.027853</td>\n",
              "      <td>-0.032231</td>\n",
              "      <td>-0.035360</td>\n",
              "      <td>1.000000</td>\n",
              "      <td>-0.937703</td>\n",
              "      <td>-0.084557</td>\n",
              "      <td>0.206163</td>\n",
              "      <td>-0.206163</td>\n",
              "      <td>0.224992</td>\n",
              "      <td>-0.067062</td>\n",
              "      <td>-0.165228</td>\n",
              "      <td>0.115054</td>\n",
              "      <td>-0.130250</td>\n",
              "    </tr>\n",
              "    <tr>\n",
              "      <th>seller_Individual</th>\n",
              "      <td>-0.173703</td>\n",
              "      <td>-0.236798</td>\n",
              "      <td>0.182663</td>\n",
              "      <td>0.063871</td>\n",
              "      <td>-0.039284</td>\n",
              "      <td>0.063934</td>\n",
              "      <td>-0.041063</td>\n",
              "      <td>0.098602</td>\n",
              "      <td>-0.126816</td>\n",
              "      <td>-0.180996</td>\n",
              "      <td>-0.154692</td>\n",
              "      <td>0.006112</td>\n",
              "      <td>-0.035314</td>\n",
              "      <td>-0.026118</td>\n",
              "      <td>0.035122</td>\n",
              "      <td>0.029845</td>\n",
              "      <td>-0.937703</td>\n",
              "      <td>1.000000</td>\n",
              "      <td>-0.266904</td>\n",
              "      <td>-0.214163</td>\n",
              "      <td>0.214163</td>\n",
              "      <td>-0.252628</td>\n",
              "      <td>0.072322</td>\n",
              "      <td>0.186573</td>\n",
              "      <td>-0.107886</td>\n",
              "      <td>0.140823</td>\n",
              "    </tr>\n",
              "    <tr>\n",
              "      <th>seller_Trustmark Dealer</th>\n",
              "      <td>0.100225</td>\n",
              "      <td>0.110176</td>\n",
              "      <td>-0.089858</td>\n",
              "      <td>0.048862</td>\n",
              "      <td>-0.022379</td>\n",
              "      <td>0.048582</td>\n",
              "      <td>-0.021878</td>\n",
              "      <td>0.093363</td>\n",
              "      <td>-0.068497</td>\n",
              "      <td>-0.016383</td>\n",
              "      <td>-0.028433</td>\n",
              "      <td>-0.014963</td>\n",
              "      <td>-0.007911</td>\n",
              "      <td>-0.002355</td>\n",
              "      <td>-0.011324</td>\n",
              "      <td>0.012489</td>\n",
              "      <td>-0.084557</td>\n",
              "      <td>-0.266904</td>\n",
              "      <td>1.000000</td>\n",
              "      <td>0.042346</td>\n",
              "      <td>-0.042346</td>\n",
              "      <td>0.100430</td>\n",
              "      <td>-0.021395</td>\n",
              "      <td>-0.076764</td>\n",
              "      <td>-0.009729</td>\n",
              "      <td>-0.042578</td>\n",
              "    </tr>\n",
              "    <tr>\n",
              "      <th>trans_Automatic</th>\n",
              "      <td>0.143800</td>\n",
              "      <td>0.530205</td>\n",
              "      <td>-0.120226</td>\n",
              "      <td>-0.166399</td>\n",
              "      <td>0.249302</td>\n",
              "      <td>-0.165500</td>\n",
              "      <td>0.246152</td>\n",
              "      <td>-0.194542</td>\n",
              "      <td>0.321343</td>\n",
              "      <td>0.532350</td>\n",
              "      <td>0.517507</td>\n",
              "      <td>-0.032723</td>\n",
              "      <td>0.048098</td>\n",
              "      <td>0.044746</td>\n",
              "      <td>-0.024764</td>\n",
              "      <td>-0.039614</td>\n",
              "      <td>0.206163</td>\n",
              "      <td>-0.214163</td>\n",
              "      <td>0.042346</td>\n",
              "      <td>1.000000</td>\n",
              "      <td>-1.000000</td>\n",
              "      <td>0.090121</td>\n",
              "      <td>-0.035597</td>\n",
              "      <td>-0.068068</td>\n",
              "      <td>-0.009152</td>\n",
              "      <td>-0.030802</td>\n",
              "    </tr>\n",
              "    <tr>\n",
              "      <th>trans_Manual</th>\n",
              "      <td>-0.143800</td>\n",
              "      <td>-0.530205</td>\n",
              "      <td>0.120226</td>\n",
              "      <td>0.166399</td>\n",
              "      <td>-0.249302</td>\n",
              "      <td>0.165500</td>\n",
              "      <td>-0.246152</td>\n",
              "      <td>0.194542</td>\n",
              "      <td>-0.321343</td>\n",
              "      <td>-0.532350</td>\n",
              "      <td>-0.517507</td>\n",
              "      <td>0.032723</td>\n",
              "      <td>-0.048098</td>\n",
              "      <td>-0.044746</td>\n",
              "      <td>0.024764</td>\n",
              "      <td>0.039614</td>\n",
              "      <td>-0.206163</td>\n",
              "      <td>0.214163</td>\n",
              "      <td>-0.042346</td>\n",
              "      <td>-1.000000</td>\n",
              "      <td>1.000000</td>\n",
              "      <td>-0.090121</td>\n",
              "      <td>0.035597</td>\n",
              "      <td>0.068068</td>\n",
              "      <td>0.009152</td>\n",
              "      <td>0.030802</td>\n",
              "    </tr>\n",
              "    <tr>\n",
              "      <th>own_First Owner</th>\n",
              "      <td>0.438897</td>\n",
              "      <td>0.223889</td>\n",
              "      <td>-0.299731</td>\n",
              "      <td>-0.034020</td>\n",
              "      <td>0.041364</td>\n",
              "      <td>-0.034794</td>\n",
              "      <td>0.046728</td>\n",
              "      <td>-0.024352</td>\n",
              "      <td>0.026150</td>\n",
              "      <td>0.050868</td>\n",
              "      <td>0.051605</td>\n",
              "      <td>-0.025832</td>\n",
              "      <td>-0.000878</td>\n",
              "      <td>-0.020804</td>\n",
              "      <td>-0.033379</td>\n",
              "      <td>0.011296</td>\n",
              "      <td>0.224992</td>\n",
              "      <td>-0.252628</td>\n",
              "      <td>0.100430</td>\n",
              "      <td>0.090121</td>\n",
              "      <td>-0.090121</td>\n",
              "      <td>1.000000</td>\n",
              "      <td>-0.188988</td>\n",
              "      <td>-0.801408</td>\n",
              "      <td>-0.085937</td>\n",
              "      <td>-0.376103</td>\n",
              "    </tr>\n",
              "    <tr>\n",
              "      <th>own_Fourth &amp; Above Owner</th>\n",
              "      <td>-0.186361</td>\n",
              "      <td>-0.078725</td>\n",
              "      <td>0.097349</td>\n",
              "      <td>-0.002112</td>\n",
              "      <td>0.008847</td>\n",
              "      <td>-0.002242</td>\n",
              "      <td>0.007687</td>\n",
              "      <td>0.049164</td>\n",
              "      <td>-0.030861</td>\n",
              "      <td>-0.034582</td>\n",
              "      <td>-0.025275</td>\n",
              "      <td>0.040149</td>\n",
              "      <td>-0.021054</td>\n",
              "      <td>-0.002094</td>\n",
              "      <td>0.013384</td>\n",
              "      <td>0.011502</td>\n",
              "      <td>-0.067062</td>\n",
              "      <td>0.072322</td>\n",
              "      <td>-0.021395</td>\n",
              "      <td>-0.035597</td>\n",
              "      <td>0.035597</td>\n",
              "      <td>-0.188988</td>\n",
              "      <td>1.000000</td>\n",
              "      <td>-0.080648</td>\n",
              "      <td>-0.008648</td>\n",
              "      <td>-0.037849</td>\n",
              "    </tr>\n",
              "    <tr>\n",
              "      <th>own_Second Owner</th>\n",
              "      <td>-0.292349</td>\n",
              "      <td>-0.161986</td>\n",
              "      <td>0.195203</td>\n",
              "      <td>0.038605</td>\n",
              "      <td>-0.048821</td>\n",
              "      <td>0.039120</td>\n",
              "      <td>-0.052556</td>\n",
              "      <td>0.018935</td>\n",
              "      <td>-0.012077</td>\n",
              "      <td>-0.035144</td>\n",
              "      <td>-0.031510</td>\n",
              "      <td>0.021062</td>\n",
              "      <td>0.003524</td>\n",
              "      <td>0.025960</td>\n",
              "      <td>0.030141</td>\n",
              "      <td>-0.012717</td>\n",
              "      <td>-0.165228</td>\n",
              "      <td>0.186573</td>\n",
              "      <td>-0.076764</td>\n",
              "      <td>-0.068068</td>\n",
              "      <td>0.068068</td>\n",
              "      <td>-0.801408</td>\n",
              "      <td>-0.080648</td>\n",
              "      <td>1.000000</td>\n",
              "      <td>-0.036672</td>\n",
              "      <td>-0.160498</td>\n",
              "    </tr>\n",
              "    <tr>\n",
              "      <th>own_Test Drive Car</th>\n",
              "      <td>0.095795</td>\n",
              "      <td>0.048799</td>\n",
              "      <td>-0.083445</td>\n",
              "      <td>-0.035157</td>\n",
              "      <td>0.022369</td>\n",
              "      <td>-0.035312</td>\n",
              "      <td>0.023334</td>\n",
              "      <td>-0.056633</td>\n",
              "      <td>0.030222</td>\n",
              "      <td>0.007350</td>\n",
              "      <td>-0.011493</td>\n",
              "      <td>-0.006048</td>\n",
              "      <td>-0.010575</td>\n",
              "      <td>-0.000952</td>\n",
              "      <td>-0.004577</td>\n",
              "      <td>0.012427</td>\n",
              "      <td>0.115054</td>\n",
              "      <td>-0.107886</td>\n",
              "      <td>-0.009729</td>\n",
              "      <td>-0.009152</td>\n",
              "      <td>0.009152</td>\n",
              "      <td>-0.085937</td>\n",
              "      <td>-0.008648</td>\n",
              "      <td>-0.036672</td>\n",
              "      <td>1.000000</td>\n",
              "      <td>-0.017210</td>\n",
              "    </tr>\n",
              "    <tr>\n",
              "      <th>own_Third Owner</th>\n",
              "      <td>-0.244308</td>\n",
              "      <td>-0.111326</td>\n",
              "      <td>0.194713</td>\n",
              "      <td>0.007280</td>\n",
              "      <td>-0.003980</td>\n",
              "      <td>0.007952</td>\n",
              "      <td>-0.007231</td>\n",
              "      <td>0.000894</td>\n",
              "      <td>-0.019199</td>\n",
              "      <td>-0.018359</td>\n",
              "      <td>-0.026263</td>\n",
              "      <td>-0.007575</td>\n",
              "      <td>0.009373</td>\n",
              "      <td>-0.004166</td>\n",
              "      <td>0.004836</td>\n",
              "      <td>-0.008502</td>\n",
              "      <td>-0.130250</td>\n",
              "      <td>0.140823</td>\n",
              "      <td>-0.042578</td>\n",
              "      <td>-0.030802</td>\n",
              "      <td>0.030802</td>\n",
              "      <td>-0.376103</td>\n",
              "      <td>-0.037849</td>\n",
              "      <td>-0.160498</td>\n",
              "      <td>-0.017210</td>\n",
              "      <td>1.000000</td>\n",
              "    </tr>\n",
              "  </tbody>\n",
              "</table>\n",
              "</div>"
            ],
            "text/plain": [
              "                                  year  ...  own_Third Owner\n",
              "year                          1.000000  ...        -0.244308\n",
              "selling_price                 0.413922  ...        -0.111326\n",
              "km_driven                    -0.419688  ...         0.194713\n",
              "Count_x                      -0.030974  ...         0.007280\n",
              "assigned_car_values           0.051538  ...        -0.003980\n",
              "Count_y                      -0.031417  ...         0.007952\n",
              "assigned_variant_values       0.057284  ...        -0.007231\n",
              "Count                        -0.087634  ...         0.000894\n",
              "assigned_company_make_values  0.070124  ...        -0.019199\n",
              "price_mean                    0.073352  ...        -0.018359\n",
              "company_category              0.051361  ...        -0.026263\n",
              "fuel_CNG                      0.008792  ...        -0.007575\n",
              "fuel_Diesel                   0.121424  ...         0.009373\n",
              "fuel_Electric                -0.025540  ...        -0.004166\n",
              "fuel_LPG                     -0.051266  ...         0.004836\n",
              "fuel_Petrol                  -0.114908  ...        -0.008502\n",
              "seller_Dealer                 0.143464  ...        -0.130250\n",
              "seller_Individual            -0.173703  ...         0.140823\n",
              "seller_Trustmark Dealer       0.100225  ...        -0.042578\n",
              "trans_Automatic               0.143800  ...        -0.030802\n",
              "trans_Manual                 -0.143800  ...         0.030802\n",
              "own_First Owner               0.438897  ...        -0.376103\n",
              "own_Fourth & Above Owner     -0.186361  ...        -0.037849\n",
              "own_Second Owner             -0.292349  ...        -0.160498\n",
              "own_Test Drive Car            0.095795  ...        -0.017210\n",
              "own_Third Owner              -0.244308  ...         1.000000\n",
              "\n",
              "[26 rows x 26 columns]"
            ]
          },
          "metadata": {
            "tags": []
          },
          "execution_count": 44
        }
      ]
    },
    {
      "cell_type": "code",
      "metadata": {
        "colab": {
          "base_uri": "https://localhost:8080/"
        },
        "id": "sdZZ85nbYg_K",
        "outputId": "964c8153-9bac-4a43-ae0d-5e9405acc4c3"
      },
      "source": [
        "dataset_pr['selling_price'].astype(float)\n",
        "dataset_pr.info()"
      ],
      "execution_count": null,
      "outputs": [
        {
          "output_type": "stream",
          "text": [
            "<class 'pandas.core.frame.DataFrame'>\n",
            "Int64Index: 4340 entries, 0 to 4339\n",
            "Data columns (total 30 columns):\n",
            " #   Column                        Non-Null Count  Dtype  \n",
            "---  ------                        --------------  -----  \n",
            " 0   name                          4340 non-null   object \n",
            " 1   year                          4340 non-null   int64  \n",
            " 2   selling_price                 4340 non-null   int64  \n",
            " 3   km_driven                     4340 non-null   int64  \n",
            " 4   Company_make                  4340 non-null   object \n",
            " 5   variant                       4340 non-null   object \n",
            " 6   car                           4340 non-null   object \n",
            " 7   Count_x                       4340 non-null   int64  \n",
            " 8   assigned_car_values           4340 non-null   int64  \n",
            " 9   Count_y                       4340 non-null   int64  \n",
            " 10  assigned_variant_values       4340 non-null   int64  \n",
            " 11  Count                         4340 non-null   int64  \n",
            " 12  assigned_company_make_values  4340 non-null   int64  \n",
            " 13  price_mean                    4340 non-null   float64\n",
            " 14  company_category              4340 non-null   int64  \n",
            " 15  fuel_CNG                      4340 non-null   uint8  \n",
            " 16  fuel_Diesel                   4340 non-null   uint8  \n",
            " 17  fuel_Electric                 4340 non-null   uint8  \n",
            " 18  fuel_LPG                      4340 non-null   uint8  \n",
            " 19  fuel_Petrol                   4340 non-null   uint8  \n",
            " 20  seller_Dealer                 4340 non-null   uint8  \n",
            " 21  seller_Individual             4340 non-null   uint8  \n",
            " 22  seller_Trustmark Dealer       4340 non-null   uint8  \n",
            " 23  trans_Automatic               4340 non-null   uint8  \n",
            " 24  trans_Manual                  4340 non-null   uint8  \n",
            " 25  own_First Owner               4340 non-null   uint8  \n",
            " 26  own_Fourth & Above Owner      4340 non-null   uint8  \n",
            " 27  own_Second Owner              4340 non-null   uint8  \n",
            " 28  own_Test Drive Car            4340 non-null   uint8  \n",
            " 29  own_Third Owner               4340 non-null   uint8  \n",
            "dtypes: float64(1), int64(10), object(4), uint8(15)\n",
            "memory usage: 606.1+ KB\n"
          ],
          "name": "stdout"
        }
      ]
    },
    {
      "cell_type": "code",
      "metadata": {
        "colab": {
          "base_uri": "https://localhost:8080/"
        },
        "id": "b56V59e3-g89",
        "outputId": "b25450f5-716d-4930-93db-af3b4776e217"
      },
      "source": [
        ""
      ],
      "execution_count": null,
      "outputs": [
        {
          "output_type": "execute_result",
          "data": {
            "text/plain": [
              "4.0"
            ]
          },
          "metadata": {
            "tags": []
          },
          "execution_count": 541
        }
      ]
    },
    {
      "cell_type": "code",
      "metadata": {
        "id": "RD6SQ45X9M48",
        "colab": {
          "base_uri": "https://localhost:8080/",
          "height": 490
        },
        "outputId": "d38b3555-4b33-4175-9df6-56f12ced7df7"
      },
      "source": [
        "#using all the required numerical and encoded features relevant for us\n",
        "features = dataset_pr.drop(['name','Company_make','variant'],axis =1).columns\n",
        "# y = dataset_pr['selling_price'].apply(zscore)\n",
        "features = dataset_pr.describe()\n",
        "features = features.columns.drop(['Count_x','Count','Count_y','price_mean','assigned_car_values'])\n",
        "#using zscore on all values\n",
        "dataset_zscore = (dataset_pr[features]-dataset_pr[features].mean())/dataset_pr[features].std()\n",
        "#assign column names to new dataset\n",
        "dataset_zscore.columns = [features + '_z_score']\n",
        "features = (dataset_pr[features])\n",
        "new_df = pd.concat([dataset_zscore, features], axis=1)\n",
        "dat_no_outliers = dataset_zscore[(dataset_zscore < 3) & (dataset_zscore > -3)]\n",
        "\n",
        "#getting indices of outliers\n",
        "rows_with_nan = []\n",
        "for index, row in dat_no_outliers.iterrows():\n",
        "    is_nan_series = row.isnull()\n",
        "    if is_nan_series.any():\n",
        "        rows_with_nan.append(index)\n",
        "print(rows_with_nan)\n",
        "\n",
        "# removing the rows of particular indices\n",
        "\n",
        "# features = features.drop(features.index[rows_with_nan])\n",
        "# features\n",
        "features"
      ],
      "execution_count": null,
      "outputs": [
        {
          "output_type": "stream",
          "text": [
            "[9, 22, 27, 29, 30, 32, 35, 36, 40, 41, 42, 43, 44, 51, 61, 69, 70, 74, 75, 76, 82, 89, 94, 96, 99, 101, 102, 103, 105, 113, 114, 125, 132, 137, 157, 160, 163, 169, 170, 173, 176, 191, 194, 195, 196, 197, 198, 200, 204, 213, 218, 221, 222, 225, 236, 252, 271, 314, 318, 320, 322, 323, 324, 330, 332, 333, 340, 344, 351, 352, 353, 361, 372, 373, 374, 381, 391, 394, 400, 401, 403, 404, 409, 424, 431, 439, 455, 483, 494, 495, 502, 512, 525, 527, 536, 539, 540, 541, 542, 544, 545, 546, 547, 548, 549, 551, 553, 554, 555, 559, 560, 563, 564, 566, 569, 570, 572, 573, 574, 578, 579, 582, 583, 585, 588, 589, 591, 592, 593, 597, 598, 601, 602, 604, 607, 608, 610, 611, 612, 616, 617, 620, 621, 623, 626, 627, 631, 648, 656, 657, 658, 659, 664, 665, 666, 671, 673, 692, 696, 703, 706, 712, 721, 729, 731, 736, 770, 782, 816, 817, 818, 820, 822, 824, 826, 836, 850, 851, 853, 863, 864, 868, 878, 898, 899, 900, 904, 905, 908, 909, 911, 914, 915, 917, 918, 919, 923, 924, 927, 928, 930, 933, 934, 955, 957, 959, 963, 968, 974, 983, 986, 988, 996, 1019, 1021, 1022, 1023, 1024, 1026, 1028, 1031, 1033, 1034, 1035, 1037, 1040, 1041, 1053, 1056, 1057, 1065, 1067, 1077, 1078, 1080, 1081, 1088, 1101, 1102, 1107, 1110, 1116, 1120, 1126, 1135, 1136, 1138, 1139, 1140, 1141, 1156, 1167, 1177, 1181, 1184, 1209, 1215, 1220, 1225, 1231, 1243, 1251, 1253, 1263, 1288, 1290, 1296, 1297, 1298, 1303, 1314, 1325, 1334, 1338, 1342, 1355, 1362, 1368, 1379, 1394, 1397, 1400, 1404, 1406, 1410, 1414, 1417, 1420, 1426, 1433, 1435, 1438, 1441, 1442, 1443, 1445, 1450, 1462, 1466, 1467, 1471, 1478, 1479, 1482, 1484, 1485, 1495, 1502, 1531, 1532, 1537, 1540, 1541, 1549, 1557, 1560, 1568, 1572, 1573, 1578, 1579, 1583, 1584, 1594, 1595, 1596, 1598, 1605, 1608, 1610, 1615, 1616, 1617, 1618, 1619, 1620, 1621, 1622, 1623, 1624, 1625, 1626, 1633, 1635, 1637, 1646, 1659, 1661, 1668, 1669, 1670, 1674, 1683, 1684, 1685, 1686, 1687, 1693, 1694, 1699, 1702, 1705, 1714, 1715, 1716, 1724, 1726, 1733, 1748, 1764, 1773, 1774, 1775, 1776, 1777, 1778, 1779, 1780, 1781, 1783, 1787, 1791, 1795, 1809, 1810, 1811, 1812, 1813, 1814, 1818, 1819, 1825, 1827, 1829, 1830, 1832, 1834, 1835, 1836, 1840, 1841, 1844, 1845, 1847, 1850, 1851, 1852, 1864, 1867, 1887, 1893, 1894, 1898, 1915, 1923, 1927, 1933, 1941, 1942, 1943, 1948, 1956, 1959, 1961, 1963, 1968, 1970, 1972, 1977, 1993, 1998, 1999, 2011, 2012, 2013, 2016, 2028, 2030, 2044, 2048, 2055, 2056, 2059, 2060, 2066, 2092, 2097, 2098, 2117, 2124, 2125, 2127, 2128, 2136, 2138, 2140, 2149, 2156, 2160, 2162, 2163, 2175, 2178, 2179, 2180, 2181, 2183, 2184, 2185, 2186, 2187, 2188, 2193, 2194, 2197, 2201, 2216, 2218, 2227, 2237, 2238, 2239, 2243, 2244, 2247, 2248, 2250, 2253, 2254, 2256, 2257, 2258, 2262, 2263, 2266, 2267, 2269, 2272, 2273, 2278, 2283, 2291, 2293, 2295, 2312, 2315, 2323, 2325, 2337, 2342, 2350, 2353, 2359, 2360, 2362, 2380, 2394, 2401, 2402, 2429, 2431, 2444, 2469, 2471, 2472, 2476, 2493, 2495, 2499, 2503, 2511, 2518, 2535, 2546, 2547, 2549, 2559, 2560, 2572, 2574, 2578, 2580, 2582, 2585, 2593, 2598, 2616, 2635, 2641, 2643, 2644, 2645, 2651, 2652, 2661, 2672, 2685, 2686, 2710, 2712, 2734, 2737, 2738, 2739, 2743, 2744, 2747, 2748, 2750, 2753, 2754, 2757, 2760, 2771, 2777, 2782, 2784, 2785, 2790, 2796, 2802, 2803, 2804, 2812, 2813, 2822, 2823, 2825, 2831, 2841, 2842, 2849, 2855, 2865, 2873, 2878, 2881, 2892, 2900, 2904, 2908, 2910, 2924, 2928, 2955, 2961, 2964, 2972, 2974, 2978, 2991, 2998, 3012, 3013, 3014, 3020, 3026, 3028, 3031, 3032, 3033, 3039, 3041, 3046, 3048, 3049, 3061, 3062, 3064, 3065, 3066, 3071, 3082, 3083, 3090, 3094, 3103, 3105, 3107, 3111, 3112, 3114, 3115, 3118, 3122, 3125, 3126, 3127, 3130, 3133, 3163, 3171, 3177, 3178, 3190, 3204, 3206, 3211, 3215, 3219, 3232, 3237, 3260, 3261, 3296, 3297, 3300, 3306, 3314, 3320, 3323, 3334, 3341, 3349, 3350, 3371, 3387, 3393, 3394, 3396, 3397, 3404, 3407, 3419, 3431, 3447, 3453, 3458, 3461, 3464, 3465, 3468, 3470, 3473, 3477, 3482, 3503, 3504, 3515, 3531, 3532, 3540, 3541, 3542, 3550, 3556, 3568, 3572, 3580, 3595, 3596, 3600, 3602, 3611, 3612, 3615, 3621, 3622, 3623, 3624, 3633, 3646, 3661, 3671, 3675, 3678, 3679, 3697, 3701, 3706, 3710, 3718, 3721, 3723, 3734, 3739, 3752, 3761, 3765, 3773, 3778, 3781, 3783, 3787, 3790, 3815, 3822, 3826, 3830, 3831, 3835, 3840, 3842, 3843, 3848, 3849, 3851, 3854, 3856, 3863, 3871, 3872, 3873, 3874, 3875, 3883, 3889, 3898, 3902, 3912, 3916, 3923, 3929, 3931, 3969, 3977, 3979, 3981, 3982, 3983, 3984, 3991, 3992, 3994, 3997, 4001, 4006, 4016, 4020, 4028, 4029, 4045, 4047, 4048, 4049, 4050, 4063, 4073, 4076, 4083, 4088, 4094, 4096, 4097, 4098, 4099, 4100, 4108, 4132, 4140, 4143, 4145, 4152, 4163, 4167, 4169, 4171, 4184, 4186, 4195, 4197, 4207, 4208, 4224, 4230, 4231, 4233, 4235, 4255, 4275, 4276, 4286, 4288, 4300, 4302, 4304, 4307, 4313, 4325, 4326, 4331]\n"
          ],
          "name": "stdout"
        },
        {
          "output_type": "execute_result",
          "data": {
            "text/html": [
              "<div>\n",
              "<style scoped>\n",
              "    .dataframe tbody tr th:only-of-type {\n",
              "        vertical-align: middle;\n",
              "    }\n",
              "\n",
              "    .dataframe tbody tr th {\n",
              "        vertical-align: top;\n",
              "    }\n",
              "\n",
              "    .dataframe thead th {\n",
              "        text-align: right;\n",
              "    }\n",
              "</style>\n",
              "<table border=\"1\" class=\"dataframe\">\n",
              "  <thead>\n",
              "    <tr style=\"text-align: right;\">\n",
              "      <th></th>\n",
              "      <th>year</th>\n",
              "      <th>selling_price</th>\n",
              "      <th>km_driven</th>\n",
              "      <th>assigned_variant_values</th>\n",
              "      <th>assigned_company_make_values</th>\n",
              "      <th>company_category</th>\n",
              "      <th>fuel_CNG</th>\n",
              "      <th>fuel_Diesel</th>\n",
              "      <th>fuel_Electric</th>\n",
              "      <th>fuel_LPG</th>\n",
              "      <th>fuel_Petrol</th>\n",
              "      <th>seller_Dealer</th>\n",
              "      <th>seller_Individual</th>\n",
              "      <th>seller_Trustmark Dealer</th>\n",
              "      <th>trans_Automatic</th>\n",
              "      <th>trans_Manual</th>\n",
              "      <th>own_First Owner</th>\n",
              "      <th>own_Fourth &amp; Above Owner</th>\n",
              "      <th>own_Second Owner</th>\n",
              "      <th>own_Test Drive Car</th>\n",
              "      <th>own_Third Owner</th>\n",
              "    </tr>\n",
              "  </thead>\n",
              "  <tbody>\n",
              "    <tr>\n",
              "      <th>0</th>\n",
              "      <td>2007</td>\n",
              "      <td>60000</td>\n",
              "      <td>70000</td>\n",
              "      <td>20</td>\n",
              "      <td>0</td>\n",
              "      <td>0</td>\n",
              "      <td>0</td>\n",
              "      <td>0</td>\n",
              "      <td>0</td>\n",
              "      <td>0</td>\n",
              "      <td>1</td>\n",
              "      <td>0</td>\n",
              "      <td>1</td>\n",
              "      <td>0</td>\n",
              "      <td>0</td>\n",
              "      <td>1</td>\n",
              "      <td>1</td>\n",
              "      <td>0</td>\n",
              "      <td>0</td>\n",
              "      <td>0</td>\n",
              "      <td>0</td>\n",
              "    </tr>\n",
              "    <tr>\n",
              "      <th>1</th>\n",
              "      <td>2007</td>\n",
              "      <td>135000</td>\n",
              "      <td>50000</td>\n",
              "      <td>2</td>\n",
              "      <td>0</td>\n",
              "      <td>0</td>\n",
              "      <td>0</td>\n",
              "      <td>0</td>\n",
              "      <td>0</td>\n",
              "      <td>0</td>\n",
              "      <td>1</td>\n",
              "      <td>0</td>\n",
              "      <td>1</td>\n",
              "      <td>0</td>\n",
              "      <td>0</td>\n",
              "      <td>1</td>\n",
              "      <td>1</td>\n",
              "      <td>0</td>\n",
              "      <td>0</td>\n",
              "      <td>0</td>\n",
              "      <td>0</td>\n",
              "    </tr>\n",
              "    <tr>\n",
              "      <th>2</th>\n",
              "      <td>2012</td>\n",
              "      <td>600000</td>\n",
              "      <td>100000</td>\n",
              "      <td>4</td>\n",
              "      <td>1</td>\n",
              "      <td>0</td>\n",
              "      <td>0</td>\n",
              "      <td>1</td>\n",
              "      <td>0</td>\n",
              "      <td>0</td>\n",
              "      <td>0</td>\n",
              "      <td>0</td>\n",
              "      <td>1</td>\n",
              "      <td>0</td>\n",
              "      <td>0</td>\n",
              "      <td>1</td>\n",
              "      <td>1</td>\n",
              "      <td>0</td>\n",
              "      <td>0</td>\n",
              "      <td>0</td>\n",
              "      <td>0</td>\n",
              "    </tr>\n",
              "    <tr>\n",
              "      <th>3</th>\n",
              "      <td>2017</td>\n",
              "      <td>250000</td>\n",
              "      <td>46000</td>\n",
              "      <td>70</td>\n",
              "      <td>14</td>\n",
              "      <td>0</td>\n",
              "      <td>0</td>\n",
              "      <td>0</td>\n",
              "      <td>0</td>\n",
              "      <td>0</td>\n",
              "      <td>1</td>\n",
              "      <td>0</td>\n",
              "      <td>1</td>\n",
              "      <td>0</td>\n",
              "      <td>0</td>\n",
              "      <td>1</td>\n",
              "      <td>1</td>\n",
              "      <td>0</td>\n",
              "      <td>0</td>\n",
              "      <td>0</td>\n",
              "      <td>0</td>\n",
              "    </tr>\n",
              "    <tr>\n",
              "      <th>4</th>\n",
              "      <td>2014</td>\n",
              "      <td>450000</td>\n",
              "      <td>141000</td>\n",
              "      <td>22</td>\n",
              "      <td>4</td>\n",
              "      <td>0</td>\n",
              "      <td>0</td>\n",
              "      <td>1</td>\n",
              "      <td>0</td>\n",
              "      <td>0</td>\n",
              "      <td>0</td>\n",
              "      <td>0</td>\n",
              "      <td>1</td>\n",
              "      <td>0</td>\n",
              "      <td>0</td>\n",
              "      <td>1</td>\n",
              "      <td>0</td>\n",
              "      <td>0</td>\n",
              "      <td>1</td>\n",
              "      <td>0</td>\n",
              "      <td>0</td>\n",
              "    </tr>\n",
              "    <tr>\n",
              "      <th>...</th>\n",
              "      <td>...</td>\n",
              "      <td>...</td>\n",
              "      <td>...</td>\n",
              "      <td>...</td>\n",
              "      <td>...</td>\n",
              "      <td>...</td>\n",
              "      <td>...</td>\n",
              "      <td>...</td>\n",
              "      <td>...</td>\n",
              "      <td>...</td>\n",
              "      <td>...</td>\n",
              "      <td>...</td>\n",
              "      <td>...</td>\n",
              "      <td>...</td>\n",
              "      <td>...</td>\n",
              "      <td>...</td>\n",
              "      <td>...</td>\n",
              "      <td>...</td>\n",
              "      <td>...</td>\n",
              "      <td>...</td>\n",
              "      <td>...</td>\n",
              "    </tr>\n",
              "    <tr>\n",
              "      <th>4335</th>\n",
              "      <td>2014</td>\n",
              "      <td>409999</td>\n",
              "      <td>80000</td>\n",
              "      <td>3</td>\n",
              "      <td>1</td>\n",
              "      <td>0</td>\n",
              "      <td>0</td>\n",
              "      <td>1</td>\n",
              "      <td>0</td>\n",
              "      <td>0</td>\n",
              "      <td>0</td>\n",
              "      <td>0</td>\n",
              "      <td>1</td>\n",
              "      <td>0</td>\n",
              "      <td>0</td>\n",
              "      <td>1</td>\n",
              "      <td>0</td>\n",
              "      <td>0</td>\n",
              "      <td>1</td>\n",
              "      <td>0</td>\n",
              "      <td>0</td>\n",
              "    </tr>\n",
              "    <tr>\n",
              "      <th>4336</th>\n",
              "      <td>2014</td>\n",
              "      <td>409999</td>\n",
              "      <td>80000</td>\n",
              "      <td>3</td>\n",
              "      <td>1</td>\n",
              "      <td>0</td>\n",
              "      <td>0</td>\n",
              "      <td>1</td>\n",
              "      <td>0</td>\n",
              "      <td>0</td>\n",
              "      <td>0</td>\n",
              "      <td>0</td>\n",
              "      <td>1</td>\n",
              "      <td>0</td>\n",
              "      <td>0</td>\n",
              "      <td>1</td>\n",
              "      <td>0</td>\n",
              "      <td>0</td>\n",
              "      <td>1</td>\n",
              "      <td>0</td>\n",
              "      <td>0</td>\n",
              "    </tr>\n",
              "    <tr>\n",
              "      <th>4337</th>\n",
              "      <td>2009</td>\n",
              "      <td>110000</td>\n",
              "      <td>83000</td>\n",
              "      <td>20</td>\n",
              "      <td>0</td>\n",
              "      <td>0</td>\n",
              "      <td>0</td>\n",
              "      <td>0</td>\n",
              "      <td>0</td>\n",
              "      <td>0</td>\n",
              "      <td>1</td>\n",
              "      <td>0</td>\n",
              "      <td>1</td>\n",
              "      <td>0</td>\n",
              "      <td>0</td>\n",
              "      <td>1</td>\n",
              "      <td>0</td>\n",
              "      <td>0</td>\n",
              "      <td>1</td>\n",
              "      <td>0</td>\n",
              "      <td>0</td>\n",
              "    </tr>\n",
              "    <tr>\n",
              "      <th>4338</th>\n",
              "      <td>2016</td>\n",
              "      <td>865000</td>\n",
              "      <td>90000</td>\n",
              "      <td>24</td>\n",
              "      <td>1</td>\n",
              "      <td>0</td>\n",
              "      <td>0</td>\n",
              "      <td>1</td>\n",
              "      <td>0</td>\n",
              "      <td>0</td>\n",
              "      <td>0</td>\n",
              "      <td>0</td>\n",
              "      <td>1</td>\n",
              "      <td>0</td>\n",
              "      <td>0</td>\n",
              "      <td>1</td>\n",
              "      <td>1</td>\n",
              "      <td>0</td>\n",
              "      <td>0</td>\n",
              "      <td>0</td>\n",
              "      <td>0</td>\n",
              "    </tr>\n",
              "    <tr>\n",
              "      <th>4339</th>\n",
              "      <td>2016</td>\n",
              "      <td>225000</td>\n",
              "      <td>40000</td>\n",
              "      <td>18</td>\n",
              "      <td>8</td>\n",
              "      <td>0</td>\n",
              "      <td>0</td>\n",
              "      <td>0</td>\n",
              "      <td>0</td>\n",
              "      <td>0</td>\n",
              "      <td>1</td>\n",
              "      <td>0</td>\n",
              "      <td>1</td>\n",
              "      <td>0</td>\n",
              "      <td>0</td>\n",
              "      <td>1</td>\n",
              "      <td>1</td>\n",
              "      <td>0</td>\n",
              "      <td>0</td>\n",
              "      <td>0</td>\n",
              "      <td>0</td>\n",
              "    </tr>\n",
              "  </tbody>\n",
              "</table>\n",
              "<p>4340 rows × 21 columns</p>\n",
              "</div>"
            ],
            "text/plain": [
              "      year  selling_price  ...  own_Test Drive Car  own_Third Owner\n",
              "0     2007          60000  ...                   0                0\n",
              "1     2007         135000  ...                   0                0\n",
              "2     2012         600000  ...                   0                0\n",
              "3     2017         250000  ...                   0                0\n",
              "4     2014         450000  ...                   0                0\n",
              "...    ...            ...  ...                 ...              ...\n",
              "4335  2014         409999  ...                   0                0\n",
              "4336  2014         409999  ...                   0                0\n",
              "4337  2009         110000  ...                   0                0\n",
              "4338  2016         865000  ...                   0                0\n",
              "4339  2016         225000  ...                   0                0\n",
              "\n",
              "[4340 rows x 21 columns]"
            ]
          },
          "metadata": {
            "tags": []
          },
          "execution_count": 831
        }
      ]
    },
    {
      "cell_type": "code",
      "metadata": {
        "id": "f8Ad59c1ldNk"
      },
      "source": [
        ""
      ],
      "execution_count": null,
      "outputs": []
    },
    {
      "cell_type": "code",
      "metadata": {
        "id": "a8rVaYV0XX_U"
      },
      "source": [
        "# #assign X and Y\n",
        "# X = features.drop(['selling_price'], axis = 1)\n",
        "# Y = features .selling_price\n",
        "# print(len(X),len(Y))\n",
        "# X"
      ],
      "execution_count": null,
      "outputs": []
    },
    {
      "cell_type": "code",
      "metadata": {
        "id": "NCdXS7F8q9Hg",
        "colab": {
          "base_uri": "https://localhost:8080/",
          "height": 1000
        },
        "outputId": "6524c268-5441-49c4-9e24-a186eb60419e"
      },
      "source": [
        "#@title Default title text\n",
        "# plot a bar plot for each numerical feature count except year\n",
        "\n",
        "for col in features[::]:\n",
        "    fig = plt.figure(figsize=(9, 6))\n",
        "    ax = fig.gca()\n",
        "    feature = dataset_pr[col]\n",
        "    feature.hist(bins=50, ax = ax)\n",
        "    ax.axvline(feature.mean(), color='magenta', linestyle='dashed', linewidth=2)\n",
        "    ax.axvline(feature.median(), color='cyan', linestyle='dashed', linewidth=2)    \n",
        "    ax.set_title(col)\n",
        "plt.show()"
      ],
      "execution_count": null,
      "outputs": [
        {
          "output_type": "display_data",
          "data": {
            "image/png": "[encoded data removed]",
            "text/plain": [
              "<Figure size 648x432 with 1 Axes>"
            ]
          },
          "metadata": {
            "tags": [],
            "needs_background": "light"
          }
        },
        {
          "output_type": "display_data",
          "data": {
            "image/png": "[encoded data removed]",
            "text/plain": [
              "<Figure size 648x432 with 1 Axes>"
            ]
          },
          "metadata": {
            "tags": [],
            "needs_background": "light"
          }
        },
        {
          "output_type": "display_data",
          "data": {
            "image/png": "[encoded data removed]",
            "text/plain": [
              "<Figure size 648x432 with 1 Axes>"
            ]
          },
          "metadata": {
            "tags": [],
            "needs_background": "light"
          }
        },
        {
          "output_type": "display_data",
          "data": {
            "image/png": "[encoded data removed]",
            "text/plain": [
              "<Figure size 648x432 with 1 Axes>"
            ]
          },
          "metadata": {
            "tags": [],
            "needs_background": "light"
          }
        },
        {
          "output_type": "display_data",
          "data": {
            "image/png": "[encoded data removed]",
            "text/plain": [
              "<Figure size 648x432 with 1 Axes>"
            ]
          },
          "metadata": {
            "tags": [],
            "needs_background": "light"
          }
        },
        {
          "output_type": "display_data",
          "data": {
            "image/png": "[encoded data removed]",
            "text/plain": [
              "<Figure size 648x432 with 1 Axes>"
            ]
          },
          "metadata": {
            "tags": [],
            "needs_background": "light"
          }
        },
        {
          "output_type": "display_data",
          "data": {
            "image/png": "[encoded data removed]",
            "text/plain": [
              "<Figure size 648x432 with 1 Axes>"
            ]
          },
          "metadata": {
            "tags": [],
            "needs_background": "light"
          }
        },
        {
          "output_type": "display_data",
          "data": {
            "image/png": "[encoded data removed]",
            "text/plain": [
              "<Figure size 648x432 with 1 Axes>"
            ]
          },
          "metadata": {
            "tags": [],
            "needs_background": "light"
          }
        },
        {
          "output_type": "display_data",
          "data": {
            "image/png": "[encoded data removed]",
            "text/plain": [
              "<Figure size 648x432 with 1 Axes>"
            ]
          },
          "metadata": {
            "tags": [],
            "needs_background": "light"
          }
        },
        {
          "output_type": "display_data",
          "data": {
            "image/png": "[encoded data removed]",
            "text/plain": [
              "<Figure size 648x432 with 1 Axes>"
            ]
          },
          "metadata": {
            "tags": [],
            "needs_background": "light"
          }
        },
        {
          "output_type": "display_data",
          "data": {
            "image/png": "[encoded data removed]",
            "text/plain": [
              "<Figure size 648x432 with 1 Axes>"
            ]
          },
          "metadata": {
            "tags": [],
            "needs_background": "light"
          }
        },
        {
          "output_type": "display_data",
          "data": {
            "image/png": "[encoded data removed]",
            "text/plain": [
              "<Figure size 648x432 with 1 Axes>"
            ]
          },
          "metadata": {
            "tags": [],
            "needs_background": "light"
          }
        },
        {
          "output_type": "display_data",
          "data": {
            "image/png": "[encoded data removed]",
            "text/plain": [
              "<Figure size 648x432 with 1 Axes>"
            ]
          },
          "metadata": {
            "tags": [],
            "needs_background": "light"
          }
        },
        {
          "output_type": "display_data",
          "data": {
            "image/png": "[encoded data removed]",
            "text/plain": [
              "<Figure size 648x432 with 1 Axes>"
            ]
          },
          "metadata": {
            "tags": [],
            "needs_background": "light"
          }
        },
        {
          "output_type": "display_data",
          "data": {
            "image/png": "[encoded data removed]",
            "text/plain": [
              "<Figure size 648x432 with 1 Axes>"
            ]
          },
          "metadata": {
            "tags": [],
            "needs_background": "light"
          }
        },
        {
          "output_type": "display_data",
          "data": {
            "image/png": "[encoded data removed]",
            "text/plain": [
              "<Figure size 648x432 with 1 Axes>"
            ]
          },
          "metadata": {
            "tags": [],
            "needs_background": "light"
          }
        },
        {
          "output_type": "display_data",
          "data": {
            "image/png": "[encoded data removed]",
            "text/plain": [
              "<Figure size 648x432 with 1 Axes>"
            ]
          },
          "metadata": {
            "tags": [],
            "needs_background": "light"
          }
        },
        {
          "output_type": "display_data",
          "data": {
            "image/png": "[encoded data removed]",
            "text/plain": [
              "<Figure size 648x432 with 1 Axes>"
            ]
          },
          "metadata": {
            "tags": [],
            "needs_background": "light"
          }
        },
        {
          "output_type": "display_data",
          "data": {
            "image/png": "[encoded data removed]",
            "text/plain": [
              "<Figure size 648x432 with 1 Axes>"
            ]
          },
          "metadata": {
            "tags": [],
            "needs_background": "light"
          }
        },
        {
          "output_type": "display_data",
          "data": {
            "image/png": "[encoded data removed]",
            "text/plain": [
              "<Figure size 648x432 with 1 Axes>"
            ]
          },
          "metadata": {
            "tags": [],
            "needs_background": "light"
          }
        },
        {
          "output_type": "display_data",
          "data": {
            "image/png": "[encoded data removed]",
            "text/plain": [
              "<Figure size 648x432 with 1 Axes>"
            ]
          },
          "metadata": {
            "tags": [],
            "needs_background": "light"
          }
        }
      ]
    },
    {
      "cell_type": "code",
      "metadata": {
        "id": "HtnADzfYq9Zc",
        "colab": {
          "base_uri": "https://localhost:8080/"
        },
        "outputId": "fdcc9dd2-bbd5-4cdc-e6c9-52d1c7d14e59"
      },
      "source": [
        "from scipy.stats import zscore\n",
        "#Train test split\n",
        "# numeric_cols = carprice.select_dtypes(include=[np.number]).columns\n",
        "X = features.drop(['selling_price'], axis = 1).apply(zscore)\n",
        "\n"
      ],
      "execution_count": null,
      "outputs": [
        {
          "output_type": "execute_result",
          "data": {
            "text/plain": [
              "20"
            ]
          },
          "metadata": {
            "tags": []
          },
          "execution_count": 955
        }
      ]
    },
    {
      "cell_type": "code",
      "metadata": {
        "id": "xK0FJDtH85Eq"
      },
      "source": [
        "Y = np.log10(features['selling_price'])\n"
      ],
      "execution_count": null,
      "outputs": []
    },
    {
      "cell_type": "code",
      "metadata": {
        "id": "ubpTZqf0TsJX"
      },
      "source": [
        "# print(\"We remove \",4340-3549,\"Outliers with zscore greater than 3\")"
      ],
      "execution_count": null,
      "outputs": []
    },
    {
      "cell_type": "code",
      "metadata": {
        "id": "-Geb_Hbo8aE6"
      },
      "source": [
        "from sklearn.model_selection import train_test_split\n",
        "X_train, X_test, y_train, y_test = train_test_split(X, Y, test_size=.3, random_state=42)\n",
        "\n",
        "X_train = X_train.values\n",
        "y_train = y_train.values\n",
        "X_test = X_test.values\n",
        "y_test = y_test.values\n",
        "\n"
      ],
      "execution_count": null,
      "outputs": []
    },
    {
      "cell_type": "code",
      "metadata": {
        "id": "NPNbz_orP8DO",
        "colab": {
          "base_uri": "https://localhost:8080/"
        },
        "outputId": "a7e1105a-6de3-4da3-bd30-15dda50125b0"
      },
      "source": [
        "from sklearn.linear_model import LinearRegression\n",
        "linreg = LinearRegression()\n",
        "linreg.fit(X_train, y_train)\n",
        "\n"
      ],
      "execution_count": null,
      "outputs": [
        {
          "output_type": "execute_result",
          "data": {
            "text/plain": [
              "LinearRegression(copy_X=True, fit_intercept=True, n_jobs=None, normalize=False)"
            ]
          },
          "metadata": {
            "tags": []
          },
          "execution_count": 920
        }
      ]
    },
    {
      "cell_type": "code",
      "metadata": {
        "id": "OmqWESFO9LR2"
      },
      "source": [
        "from sklearn.linear_model import LinearRegression\n",
        "\n",
        "reg = LinearRegression().fit(X_train, y_train)"
      ],
      "execution_count": null,
      "outputs": []
    },
    {
      "cell_type": "code",
      "metadata": {
        "id": "Dx59Mt2F979e",
        "colab": {
          "base_uri": "https://localhost:8080/"
        },
        "outputId": "2a137575-f5a7-4475-d98e-20da34ebc584"
      },
      "source": [
        "reg.score(X_train, y_train)"
      ],
      "execution_count": null,
      "outputs": [
        {
          "output_type": "execute_result",
          "data": {
            "text/plain": [
              "0.7296086778819298"
            ]
          },
          "metadata": {
            "tags": []
          },
          "execution_count": 922
        }
      ]
    },
    {
      "cell_type": "code",
      "metadata": {
        "id": "sMiASy1_o0Gj",
        "colab": {
          "base_uri": "https://localhost:8080/"
        },
        "outputId": "5a04b9b8-d88d-4d3e-e152-a50c85fdaaae"
      },
      "source": [
        "reg.coef_"
      ],
      "execution_count": null,
      "outputs": [
        {
          "output_type": "execute_result",
          "data": {
            "text/plain": [
              "array([ 2.11271358e-01, -3.79133915e-03,  1.53148483e-02,  4.25402595e-04,\n",
              "        7.62848571e-02, -6.07640131e+10, -3.17927893e+11, -9.65110522e+09,\n",
              "       -4.61675861e+10, -3.17863067e+11,  1.16573068e+12,  1.20527948e+12,\n",
              "        4.20264423e+11, -6.58939559e+11, -6.58939559e+11,  4.84229171e+12,\n",
              "        1.37625840e+12,  4.43150481e+12,  6.35214981e+11,  2.59547007e+12])"
            ]
          },
          "metadata": {
            "tags": []
          },
          "execution_count": 923
        }
      ]
    },
    {
      "cell_type": "code",
      "metadata": {
        "id": "UKhkUgQHp9JT",
        "colab": {
          "base_uri": "https://localhost:8080/"
        },
        "outputId": "dae4ef98-5933-4a8f-a061-2e720ed20d0a"
      },
      "source": [
        "len(reg.coef_)"
      ],
      "execution_count": null,
      "outputs": [
        {
          "output_type": "execute_result",
          "data": {
            "text/plain": [
              "20"
            ]
          },
          "metadata": {
            "tags": []
          },
          "execution_count": 924
        }
      ]
    },
    {
      "cell_type": "code",
      "metadata": {
        "id": "CVxrhB7-qAME",
        "colab": {
          "base_uri": "https://localhost:8080/"
        },
        "outputId": "4a918d7c-345d-43d5-9725-1a1c0c7b69f0"
      },
      "source": [
        "reg.intercept_"
      ],
      "execution_count": null,
      "outputs": [
        {
          "output_type": "execute_result",
          "data": {
            "text/plain": [
              "5.545021923694266"
            ]
          },
          "metadata": {
            "tags": []
          },
          "execution_count": 925
        }
      ]
    },
    {
      "cell_type": "code",
      "metadata": {
        "id": "rOSm_kcEqEL3"
      },
      "source": [
        "y_pred = reg.predict(X_test)"
      ],
      "execution_count": null,
      "outputs": []
    },
    {
      "cell_type": "code",
      "metadata": {
        "id": "nnl4FOePrVMY"
      },
      "source": [
        "y_pred\n",
        "\n",
        "df = pd.DataFrame({'Actual': y_test, 'Predicted': y_pred})\n",
        "df['accuracy'] = df['Predicted'] - df['Actual']"
      ],
      "execution_count": null,
      "outputs": []
    },
    {
      "cell_type": "code",
      "metadata": {
        "id": "EsUVPJ57rWR3",
        "colab": {
          "base_uri": "https://localhost:8080/"
        },
        "outputId": "c4390fa3-f174-4a2a-d7b3-b232638ff8ca"
      },
      "source": [
        "from sklearn.metrics import mean_squared_error\n",
        "\n",
        "MSE  = mean_squared_error(10**(y_test),10**(y_pred))\n",
        "print(\"MSE :\" , MSE)\n",
        "\n",
        "RMSE = np.sqrt(MSE)\n",
        "print(\"RMSE :\" ,RMSE)"
      ],
      "execution_count": null,
      "outputs": [
        {
          "output_type": "stream",
          "text": [
            "MSE : 116113579796.76949\n",
            "RMSE : 340754.42740596854\n"
          ],
          "name": "stdout"
        }
      ]
    },
    {
      "cell_type": "code",
      "metadata": {
        "colab": {
          "base_uri": "https://localhost:8080/"
        },
        "id": "4sPTnWtSss8b",
        "outputId": "90594891-4c34-4f81-a30e-6321749ec2ec"
      },
      "source": [
        "from sklearn.metrics import r2_score\n",
        "r2 = r2_score(10**(y_test), 10**(y_pred))\n",
        "print(\"R2 :\" ,r2)\n",
        "print(\"Adjusted R2 : \",1-(1-r2)*((X_test.shape[0]-1)/(X_test.shape[0]-X_test.shape[1]-1)))"
      ],
      "execution_count": null,
      "outputs": [
        {
          "output_type": "stream",
          "text": [
            "R2 : 0.6072744265948121\n",
            "Adjusted R2 :  0.6011428797813041\n"
          ],
          "name": "stdout"
        }
      ]
    },
    {
      "cell_type": "code",
      "metadata": {
        "id": "NU5A1hgFsQ9P",
        "colab": {
          "base_uri": "https://localhost:8080/",
          "height": 320
        },
        "outputId": "0d6d4294-cd1b-4be7-ea05-54c2d838318a"
      },
      "source": [
        "plt.figure(figsize=(8,5))\n",
        "plt.plot((y_pred))\n",
        "plt.plot(np.array((y_test)))\n",
        "plt.legend([\"Predicted\",\"Actual\"])\n",
        "plt.show()"
      ],
      "execution_count": null,
      "outputs": [
        {
          "output_type": "display_data",
          "data": {
            "image/png": "[encoded data removed]",
            "text/plain": [
              "<Figure size 576x360 with 1 Axes>"
            ]
          },
          "metadata": {
            "tags": [],
            "needs_background": "light"
          }
        }
      ]
    },
    {
      "cell_type": "code",
      "metadata": {
        "colab": {
          "base_uri": "https://localhost:8080/",
          "height": 436
        },
        "id": "6Y3yt5DMRAkB",
        "outputId": "df7df810-1d04-4f7e-fbef-6755aae9b166"
      },
      "source": [
        "#Trying to check the accuracy percentage after implmenting it\n",
        "df = pd.DataFrame({'Actual': y_test, 'Predicted': y_pred})\n",
        "df['inaccuracy'] = df['Predicted'] - df['Actual']\n",
        "# Reducing the mean differences to help us check the actual accuracy as it helps me to ignore signs \n",
        "df['inacc_std'] = df['inaccuracy']-df['inaccuracy'].std()\n",
        "#Getting the percentge of accuracy\n",
        "df['inacc%'] = df['inacc_std']/df['Predicted']\n",
        "#sort\n",
        "print('On average we are 20% inaccurate in making prediction.')\n",
        "df.sort_values(by=['inacc%'], ascending = True)\n"
      ],
      "execution_count": null,
      "outputs": [
        {
          "output_type": "stream",
          "text": [
            "On average we are 20% inaccurate in making prediction.\n"
          ],
          "name": "stdout"
        },
        {
          "output_type": "execute_result",
          "data": {
            "text/html": [
              "<div>\n",
              "<style scoped>\n",
              "    .dataframe tbody tr th:only-of-type {\n",
              "        vertical-align: middle;\n",
              "    }\n",
              "\n",
              "    .dataframe tbody tr th {\n",
              "        vertical-align: top;\n",
              "    }\n",
              "\n",
              "    .dataframe thead th {\n",
              "        text-align: right;\n",
              "    }\n",
              "</style>\n",
              "<table border=\"1\" class=\"dataframe\">\n",
              "  <thead>\n",
              "    <tr style=\"text-align: right;\">\n",
              "      <th></th>\n",
              "      <th>Actual</th>\n",
              "      <th>Predicted</th>\n",
              "      <th>inaccuracy</th>\n",
              "      <th>inacc_std</th>\n",
              "      <th>inacc%</th>\n",
              "    </tr>\n",
              "  </thead>\n",
              "  <tbody>\n",
              "    <tr>\n",
              "      <th>1141</th>\n",
              "      <td>5.612783</td>\n",
              "      <td>4.805764</td>\n",
              "      <td>-0.807019</td>\n",
              "      <td>-1.004307</td>\n",
              "      <td>-0.208980</td>\n",
              "    </tr>\n",
              "    <tr>\n",
              "      <th>479</th>\n",
              "      <td>5.397940</td>\n",
              "      <td>4.760842</td>\n",
              "      <td>-0.637098</td>\n",
              "      <td>-0.834386</td>\n",
              "      <td>-0.175260</td>\n",
              "    </tr>\n",
              "    <tr>\n",
              "      <th>64</th>\n",
              "      <td>5.740363</td>\n",
              "      <td>5.083108</td>\n",
              "      <td>-0.657255</td>\n",
              "      <td>-0.854543</td>\n",
              "      <td>-0.168114</td>\n",
              "    </tr>\n",
              "    <tr>\n",
              "      <th>679</th>\n",
              "      <td>6.949390</td>\n",
              "      <td>6.122170</td>\n",
              "      <td>-0.827220</td>\n",
              "      <td>-1.024508</td>\n",
              "      <td>-0.167344</td>\n",
              "    </tr>\n",
              "    <tr>\n",
              "      <th>539</th>\n",
              "      <td>6.000000</td>\n",
              "      <td>5.373147</td>\n",
              "      <td>-0.626853</td>\n",
              "      <td>-0.824141</td>\n",
              "      <td>-0.153381</td>\n",
              "    </tr>\n",
              "    <tr>\n",
              "      <th>...</th>\n",
              "      <td>...</td>\n",
              "      <td>...</td>\n",
              "      <td>...</td>\n",
              "      <td>...</td>\n",
              "      <td>...</td>\n",
              "    </tr>\n",
              "    <tr>\n",
              "      <th>128</th>\n",
              "      <td>4.602060</td>\n",
              "      <td>5.302346</td>\n",
              "      <td>0.700286</td>\n",
              "      <td>0.502998</td>\n",
              "      <td>0.094863</td>\n",
              "    </tr>\n",
              "    <tr>\n",
              "      <th>184</th>\n",
              "      <td>4.301030</td>\n",
              "      <td>5.015725</td>\n",
              "      <td>0.714695</td>\n",
              "      <td>0.517407</td>\n",
              "      <td>0.103157</td>\n",
              "    </tr>\n",
              "    <tr>\n",
              "      <th>653</th>\n",
              "      <td>4.653213</td>\n",
              "      <td>5.439553</td>\n",
              "      <td>0.786341</td>\n",
              "      <td>0.589053</td>\n",
              "      <td>0.108291</td>\n",
              "    </tr>\n",
              "    <tr>\n",
              "      <th>1094</th>\n",
              "      <td>4.653213</td>\n",
              "      <td>5.439553</td>\n",
              "      <td>0.786341</td>\n",
              "      <td>0.589053</td>\n",
              "      <td>0.108291</td>\n",
              "    </tr>\n",
              "    <tr>\n",
              "      <th>595</th>\n",
              "      <td>4.544068</td>\n",
              "      <td>5.321389</td>\n",
              "      <td>0.777321</td>\n",
              "      <td>0.580033</td>\n",
              "      <td>0.109000</td>\n",
              "    </tr>\n",
              "  </tbody>\n",
              "</table>\n",
              "<p>1302 rows × 5 columns</p>\n",
              "</div>"
            ],
            "text/plain": [
              "        Actual  Predicted  inaccuracy  inacc_std    inacc%\n",
              "1141  5.612783   4.805764   -0.807019  -1.004307 -0.208980\n",
              "479   5.397940   4.760842   -0.637098  -0.834386 -0.175260\n",
              "64    5.740363   5.083108   -0.657255  -0.854543 -0.168114\n",
              "679   6.949390   6.122170   -0.827220  -1.024508 -0.167344\n",
              "539   6.000000   5.373147   -0.626853  -0.824141 -0.153381\n",
              "...        ...        ...         ...        ...       ...\n",
              "128   4.602060   5.302346    0.700286   0.502998  0.094863\n",
              "184   4.301030   5.015725    0.714695   0.517407  0.103157\n",
              "653   4.653213   5.439553    0.786341   0.589053  0.108291\n",
              "1094  4.653213   5.439553    0.786341   0.589053  0.108291\n",
              "595   4.544068   5.321389    0.777321   0.580033  0.109000\n",
              "\n",
              "[1302 rows x 5 columns]"
            ]
          },
          "metadata": {
            "tags": []
          },
          "execution_count": 997
        }
      ]
    },
    {
      "cell_type": "markdown",
      "metadata": {
        "id": "Kg2UdkVDMc_Y"
      },
      "source": [
        "Here we subtracted std from inaccuracy to scale the values and then got a new col inacc_std. Then got 20% mean of this column which states overall we are 20% wrong in our predictions."
      ]
    },
    {
      "cell_type": "code",
      "metadata": {
        "id": "EtlI_U57sweE",
        "colab": {
          "base_uri": "https://localhost:8080/"
        },
        "outputId": "6dfc7761-9a8c-47e1-da67-ba3bc8325e06"
      },
      "source": [
        "from sklearn.linear_model import Lasso\n",
        "lasso  = Lasso(alpha=0.0001 , max_iter= 3000)\n",
        "\n",
        "lasso.fit(X_train, y_train)"
      ],
      "execution_count": null,
      "outputs": [
        {
          "output_type": "execute_result",
          "data": {
            "text/plain": [
              "Lasso(alpha=0.0001, copy_X=True, fit_intercept=True, max_iter=3000,\n",
              "      normalize=False, positive=False, precompute=False, random_state=None,\n",
              "      selection='cyclic', tol=0.0001, warm_start=False)"
            ]
          },
          "metadata": {
            "tags": []
          },
          "execution_count": 931
        }
      ]
    },
    {
      "cell_type": "code",
      "metadata": {
        "id": "tfe3kQB6tKjO",
        "colab": {
          "base_uri": "https://localhost:8080/"
        },
        "outputId": "d800b78e-5736-408d-c678-07becbda65d8"
      },
      "source": [
        "lasso.score(X_train, y_train)"
      ],
      "execution_count": null,
      "outputs": [
        {
          "output_type": "execute_result",
          "data": {
            "text/plain": [
              "0.7297606546295516"
            ]
          },
          "metadata": {
            "tags": []
          },
          "execution_count": 932
        }
      ]
    },
    {
      "cell_type": "code",
      "metadata": {
        "id": "WWUqXSdDthcy",
        "colab": {
          "base_uri": "https://localhost:8080/"
        },
        "outputId": "f1171b55-2038-4cc0-927b-722b9eb51c26"
      },
      "source": [
        "lasso.coef_"
      ],
      "execution_count": null,
      "outputs": [
        {
          "output_type": "execute_result",
          "data": {
            "text/plain": [
              "array([ 2.11032978e-01, -3.28688301e-03,  1.55694149e-02, -5.12595652e-04,\n",
              "        7.73771344e-02, -4.61042347e-03,  9.77641767e-02,  2.29234285e-03,\n",
              "       -3.76106487e-03, -0.00000000e+00,  0.00000000e+00, -2.30534449e-02,\n",
              "        2.81913753e-02,  6.27803283e-02, -2.76697143e-15,  4.93526919e-03,\n",
              "       -6.14213790e-03, -0.00000000e+00,  6.69175902e-03, -7.60034187e-03])"
            ]
          },
          "metadata": {
            "tags": []
          },
          "execution_count": 933
        }
      ]
    },
    {
      "cell_type": "code",
      "metadata": {
        "id": "-D0Q_EaHt2DH",
        "colab": {
          "base_uri": "https://localhost:8080/"
        },
        "outputId": "62e28157-9877-4f24-b21d-ea1e2522ee6c"
      },
      "source": [
        "### Cross validation\n",
        "from sklearn.model_selection import GridSearchCV\n",
        "lasso = Lasso()\n",
        "parameters = {'alpha': [1e-15,1e-13,1e-10,1e-8,1e-5,1e-4,1e-3,1e-2,1e-1,1,5,10,20,30,40,45,50,55,60,100,0.0014]}\n",
        "lasso_regressor = GridSearchCV(lasso, parameters, scoring='neg_mean_squared_error', cv=5)\n",
        "lasso_regressor.fit(X_train, y_train)\n"
      ],
      "execution_count": null,
      "outputs": [
        {
          "output_type": "execute_result",
          "data": {
            "text/plain": [
              "GridSearchCV(cv=5, error_score=nan,\n",
              "             estimator=Lasso(alpha=1.0, copy_X=True, fit_intercept=True,\n",
              "                             max_iter=1000, normalize=False, positive=False,\n",
              "                             precompute=False, random_state=None,\n",
              "                             selection='cyclic', tol=0.0001, warm_start=False),\n",
              "             iid='deprecated', n_jobs=None,\n",
              "             param_grid={'alpha': [1e-15, 1e-13, 1e-10, 1e-08, 1e-05, 0.0001,\n",
              "                                   0.001, 0.01, 0.1, 1, 5, 10, 20, 30, 40, 45,\n",
              "                                   50, 55, 60, 100, 0.0014]},\n",
              "             pre_dispatch='2*n_jobs', refit=True, return_train_score=False,\n",
              "             scoring='neg_mean_squared_error', verbose=0)"
            ]
          },
          "metadata": {
            "tags": []
          },
          "execution_count": 934
        }
      ]
    },
    {
      "cell_type": "code",
      "metadata": {
        "colab": {
          "base_uri": "https://localhost:8080/"
        },
        "id": "qsopkO0UsbmL",
        "outputId": "583b854b-c139-425b-d3cd-6d493736bd49"
      },
      "source": [
        "lasso_regressor.fit(X_train, y_train)\n"
      ],
      "execution_count": null,
      "outputs": [
        {
          "output_type": "execute_result",
          "data": {
            "text/plain": [
              "GridSearchCV(cv=5, error_score=nan,\n",
              "             estimator=Lasso(alpha=1.0, copy_X=True, fit_intercept=True,\n",
              "                             max_iter=1000, normalize=False, positive=False,\n",
              "                             precompute=False, random_state=None,\n",
              "                             selection='cyclic', tol=0.0001, warm_start=False),\n",
              "             iid='deprecated', n_jobs=None,\n",
              "             param_grid={'alpha': [1e-15, 1e-13, 1e-10, 1e-08, 1e-05, 0.0001,\n",
              "                                   0.001, 0.01, 0.1, 1, 5, 10, 20, 30, 40, 45,\n",
              "                                   50, 55, 60, 100, 0.0014]},\n",
              "             pre_dispatch='2*n_jobs', refit=True, return_train_score=False,\n",
              "             scoring='neg_mean_squared_error', verbose=0)"
            ]
          },
          "metadata": {
            "tags": []
          },
          "execution_count": 935
        }
      ]
    },
    {
      "cell_type": "code",
      "metadata": {
        "id": "VUCLA0vRxqSK",
        "colab": {
          "base_uri": "https://localhost:8080/"
        },
        "outputId": "29f65d36-8b09-44d4-d158-a3b7419c5ebc"
      },
      "source": [
        "print(\"The best fit alpha value is found out to be :\" ,lasso_regressor.best_params_)\n",
        "print(\"\\nUsing \",lasso_regressor.best_params_, \" the negative mean absolute error is: \", lasso_regressor.best_score_)"
      ],
      "execution_count": null,
      "outputs": [
        {
          "output_type": "stream",
          "text": [
            "The best fit alpha value is found out to be : {'alpha': 0.0014}\n",
            "\n",
            "Using  {'alpha': 0.0014}  the negative mean absolute error is:  -0.03612079248292764\n"
          ],
          "name": "stdout"
        }
      ]
    },
    {
      "cell_type": "code",
      "metadata": {
        "id": "loUq9nZex9jc"
      },
      "source": [
        "y_pred_lasso = lasso_regressor.predict(X_test)\n",
        "y_pred_lasso_train = lasso_regressor.predict(X_train)"
      ],
      "execution_count": null,
      "outputs": []
    },
    {
      "cell_type": "code",
      "metadata": {
        "id": "4-TqvfKuypKg",
        "colab": {
          "base_uri": "https://localhost:8080/",
          "height": 320
        },
        "outputId": "4be77b64-d481-4193-ee26-4fa29896437f"
      },
      "source": [
        "plt.figure(figsize=(8,5))\n",
        "plt.plot((y_pred_lasso))\n",
        "plt.plot((np.array(y_test)))\n",
        "plt.legend([\"Predicted\",\"Actual\"])\n",
        "plt.show()"
      ],
      "execution_count": null,
      "outputs": [
        {
          "output_type": "display_data",
          "data": {
            "image/png": "[encoded data removed]",
            "text/plain": [
              "<Figure size 576x360 with 1 Axes>"
            ]
          },
          "metadata": {
            "tags": [],
            "needs_background": "light"
          }
        }
      ]
    },
    {
      "cell_type": "code",
      "metadata": {
        "id": "s87Oa7UtyrOr",
        "colab": {
          "base_uri": "https://localhost:8080/"
        },
        "outputId": "64f4f6b6-0246-4aa6-8e2f-f7289ae0c13b"
      },
      "source": [
        "#MSE of  test\n",
        "MSE  = mean_squared_error(10**(y_test),10**(y_pred_lasso))\n",
        "print(\"MSE :\" , MSE)\n",
        "\n",
        "#RMSE of  test\n",
        "RMSE = np.sqrt(MSE)\n",
        "print(\"\\nRMSE :\" ,RMSE)\n",
        "#R2 and adj R2 of test\n",
        "r2 = r2_score(10**(y_test), 10**(y_pred_lasso))\n",
        "\n",
        "print(\"\\nR2 :\" ,r2)\n",
        "print(\"\\nAdjusted R2 : \",1-(1-r2)*((X_test.shape[0]-1)/(X_test.shape[0]-X_test.shape[1]-1)))\n"
      ],
      "execution_count": null,
      "outputs": [
        {
          "output_type": "stream",
          "text": [
            "MSE : 116220641534.86867\n",
            "\n",
            "RMSE : 340911.4863639368\n",
            "\n",
            "R2 : 0.6069123166455853\n",
            "\n",
            "Adjusted R2 :  0.6007751162809574\n"
          ],
          "name": "stdout"
        }
      ]
    },
    {
      "cell_type": "code",
      "metadata": {
        "id": "un7qDV7vyuJ6",
        "colab": {
          "base_uri": "https://localhost:8080/"
        },
        "outputId": "27f6ec3e-1357-41a9-c896-5e8a45e1a63e"
      },
      "source": [
        "from sklearn.linear_model import Ridge\n",
        "ridge = Ridge()\n",
        "parameters = {'alpha': [1e-15,1e-10,1e-8,1e-5,1e-4,1e-3,1e-2,1,5,10,20,30,40,45,50,55,60,100]}\n",
        "ridge_regressor = GridSearchCV(ridge, parameters, scoring='neg_mean_squared_error', cv=3)\n",
        "ridge_regressor.fit(X_train,y_train)"
      ],
      "execution_count": null,
      "outputs": [
        {
          "output_type": "execute_result",
          "data": {
            "text/plain": [
              "GridSearchCV(cv=3, error_score=nan,\n",
              "             estimator=Ridge(alpha=1.0, copy_X=True, fit_intercept=True,\n",
              "                             max_iter=None, normalize=False, random_state=None,\n",
              "                             solver='auto', tol=0.001),\n",
              "             iid='deprecated', n_jobs=None,\n",
              "             param_grid={'alpha': [1e-15, 1e-10, 1e-08, 1e-05, 0.0001, 0.001,\n",
              "                                   0.01, 1, 5, 10, 20, 30, 40, 45, 50, 55, 60,\n",
              "                                   100]},\n",
              "             pre_dispatch='2*n_jobs', refit=True, return_train_score=False,\n",
              "             scoring='neg_mean_squared_error', verbose=0)"
            ]
          },
          "metadata": {
            "tags": []
          },
          "execution_count": 940
        }
      ]
    },
    {
      "cell_type": "code",
      "metadata": {
        "id": "9RusjJoyzArQ",
        "colab": {
          "base_uri": "https://localhost:8080/"
        },
        "outputId": "2d6e140b-d965-4683-9094-01cb54296478"
      },
      "source": [
        "print(\"The best fit alpha value is found out to be :\" ,ridge_regressor.best_params_)\n",
        "print(\"\\nUsing \",ridge_regressor.best_params_, \" the negative mean squared error is: \", ridge_regressor.best_score_)"
      ],
      "execution_count": null,
      "outputs": [
        {
          "output_type": "stream",
          "text": [
            "The best fit alpha value is found out to be : {'alpha': 10}\n",
            "\n",
            "Using  {'alpha': 10}  the negative mean squared error is:  -0.03624758343124119\n"
          ],
          "name": "stdout"
        }
      ]
    },
    {
      "cell_type": "code",
      "metadata": {
        "id": "GuFUkUFtzOYu"
      },
      "source": [
        "y_pred_ridge = ridge_regressor.predict(X_test)"
      ],
      "execution_count": null,
      "outputs": []
    },
    {
      "cell_type": "code",
      "metadata": {
        "id": "tBiPj1GWzSz1",
        "colab": {
          "base_uri": "https://localhost:8080/"
        },
        "outputId": "119534f1-a5e0-469a-df7d-c5a54ebfb687"
      },
      "source": [
        "MSE  = mean_squared_error(10**(y_test), 10**(y_pred_ridge))\n",
        "print(\"MSE :\" , MSE)\n",
        "\n",
        "RMSE = np.sqrt(MSE)\n",
        "print(\"RMSE :\" ,RMSE)\n",
        "\n",
        "r2 = r2_score(10**(y_test), 10**(y_pred_ridge))\n",
        "print(\"R2 :\" ,r2)\n",
        "print(\"Adjusted R2 : \",1-(1-r2)*((X_test.shape[0]-1)/(X_test.shape[0]-X_test.shape[1]-1)))"
      ],
      "execution_count": null,
      "outputs": [
        {
          "output_type": "stream",
          "text": [
            "MSE : 116304001813.34074\n",
            "RMSE : 341033.7253312944\n",
            "R2 : 0.6066303710435337\n",
            "Adjusted R2 :  0.6004887687179058\n"
          ],
          "name": "stdout"
        }
      ]
    },
    {
      "cell_type": "code",
      "metadata": {
        "id": "x3bc2wVrzVYx"
      },
      "source": [
        "from sklearn.linear_model import ElasticNet\n",
        "#a * L1 + b * L2\n",
        "#alpha = a + b and l1_ratio = a / (a + b)\n",
        "elasticnet = ElasticNet(alpha=0.1, l1_ratio=0.5)"
      ],
      "execution_count": null,
      "outputs": []
    },
    {
      "cell_type": "code",
      "metadata": {
        "id": "AQJwYjKhzdlO",
        "colab": {
          "base_uri": "https://localhost:8080/"
        },
        "outputId": "fd96de25-5a4e-48d7-b6fe-9f8a670554d6"
      },
      "source": [
        "elasticnet.fit(X_train,y_train)"
      ],
      "execution_count": null,
      "outputs": [
        {
          "output_type": "execute_result",
          "data": {
            "text/plain": [
              "ElasticNet(alpha=0.1, copy_X=True, fit_intercept=True, l1_ratio=0.5,\n",
              "           max_iter=1000, normalize=False, positive=False, precompute=False,\n",
              "           random_state=None, selection='cyclic', tol=0.0001, warm_start=False)"
            ]
          },
          "metadata": {
            "tags": []
          },
          "execution_count": 945
        }
      ]
    },
    {
      "cell_type": "code",
      "metadata": {
        "id": "_TZwqvLTzgZ2",
        "colab": {
          "base_uri": "https://localhost:8080/"
        },
        "outputId": "4e080ece-0455-425a-9ecb-f90c7c6443cc"
      },
      "source": [
        "elasticnet.score(X_train, y_train)"
      ],
      "execution_count": null,
      "outputs": [
        {
          "output_type": "execute_result",
          "data": {
            "text/plain": [
              "0.6541989598824772"
            ]
          },
          "metadata": {
            "tags": []
          },
          "execution_count": 946
        }
      ]
    },
    {
      "cell_type": "code",
      "metadata": {
        "id": "c1W6ZmDXzjSJ"
      },
      "source": [
        "y_pred_en = elasticnet.predict(X_test)\n"
      ],
      "execution_count": null,
      "outputs": []
    },
    {
      "cell_type": "code",
      "metadata": {
        "id": "x4T212hszmCw",
        "colab": {
          "base_uri": "https://localhost:8080/"
        },
        "outputId": "8776b319-e3ad-4177-bd5c-b55d4de0b316"
      },
      "source": [
        "MSE  = mean_squared_error(10**(y_test), 10**(y_pred_en))\n",
        "print(\"MSE :\" , MSE)\n",
        "\n",
        "RMSE = np.sqrt(MSE)\n",
        "print(\"RMSE :\" ,RMSE)\n",
        "\n",
        "r2 = r2_score(10**(y_test), 10**(y_pred_en))\n",
        "print(\"R2 :\" ,r2)\n",
        "print(\"Adjusted R2 : \",1-(1-r2)*((X_test.shape[0]-1)/(X_test.shape[0]-X_test.shape[1]-1)))"
      ],
      "execution_count": null,
      "outputs": [
        {
          "output_type": "stream",
          "text": [
            "MSE : 174055005661.8155\n",
            "RMSE : 417199.0000728855\n",
            "R2 : 0.4113018303094166\n",
            "Adjusted R2 :  0.4021106020550749\n"
          ],
          "name": "stdout"
        }
      ]
    },
    {
      "cell_type": "code",
      "metadata": {
        "id": "jETSib5DzpKD",
        "colab": {
          "base_uri": "https://localhost:8080/"
        },
        "outputId": "e67f0d55-6851-4a10-e365-3073e27bed1f"
      },
      "source": [
        "elastic = ElasticNet()\n",
        "parameters = {'alpha': [1e-15,1e-13,1e-10,1e-8,1e-5,1e-4,1e-3,1e-2,1e-1,1,5,10,20,30,40,45,50,55,60,100],'l1_ratio':[0.3,0.4,0.5,0.6,0.7,0.8]}\n",
        "elastic_regressor = GridSearchCV(elastic, parameters, scoring='neg_mean_squared_error',cv=5)\n",
        "elastic_regressor.fit(X_train, y_train)"
      ],
      "execution_count": null,
      "outputs": [
        {
          "output_type": "execute_result",
          "data": {
            "text/plain": [
              "GridSearchCV(cv=5, error_score=nan,\n",
              "             estimator=ElasticNet(alpha=1.0, copy_X=True, fit_intercept=True,\n",
              "                                  l1_ratio=0.5, max_iter=1000, normalize=False,\n",
              "                                  positive=False, precompute=False,\n",
              "                                  random_state=None, selection='cyclic',\n",
              "                                  tol=0.0001, warm_start=False),\n",
              "             iid='deprecated', n_jobs=None,\n",
              "             param_grid={'alpha': [1e-15, 1e-13, 1e-10, 1e-08, 1e-05, 0.0001,\n",
              "                                   0.001, 0.01, 0.1, 1, 5, 10, 20, 30, 40, 45,\n",
              "                                   50, 55, 60, 100],\n",
              "                         'l1_ratio': [0.3, 0.4, 0.5, 0.6, 0.7, 0.8]},\n",
              "             pre_dispatch='2*n_jobs', refit=True, return_train_score=False,\n",
              "             scoring='neg_mean_squared_error', verbose=0)"
            ]
          },
          "metadata": {
            "tags": []
          },
          "execution_count": 949
        }
      ]
    },
    {
      "cell_type": "code",
      "metadata": {
        "id": "FQI5-I-50BB8",
        "colab": {
          "base_uri": "https://localhost:8080/"
        },
        "outputId": "e9943765-3f58-4fd6-ce32-c5aa7aac802d"
      },
      "source": [
        "print(\"The best fit alpha value is found out to be :\" ,elastic_regressor.best_params_)\n",
        "print(\"\\nUsing \",elastic_regressor.best_params_, \" the negative mean squared error is: \", elastic_regressor.best_score_)"
      ],
      "execution_count": null,
      "outputs": [
        {
          "output_type": "stream",
          "text": [
            "The best fit alpha value is found out to be : {'alpha': 0.001, 'l1_ratio': 0.8}\n",
            "\n",
            "Using  {'alpha': 0.001, 'l1_ratio': 0.8}  the negative mean squared error is:  -0.03612511850636776\n"
          ],
          "name": "stdout"
        }
      ]
    },
    {
      "cell_type": "code",
      "metadata": {
        "id": "CgqN0DP10VUm"
      },
      "source": [
        "y_pred_elastic = elastic_regressor.predict(X_test)"
      ],
      "execution_count": null,
      "outputs": []
    },
    {
      "cell_type": "code",
      "metadata": {
        "id": "85QpOxRg0NPa",
        "colab": {
          "base_uri": "https://localhost:8080/"
        },
        "outputId": "7d9e421c-0563-438c-d464-4325ed71e803"
      },
      "source": [
        "MSE  = mean_squared_error(10**(y_test), 10**(y_pred_elastic))\n",
        "print(\"MSE :\" , MSE)\n",
        "\n",
        "RMSE = np.sqrt(MSE)\n",
        "print(\"RMSE :\" ,RMSE)\n",
        "\n",
        "r2 = r2_score(10**(y_test), 10**(y_pred_elastic))\n",
        "print(\"R2 :\" ,r2)\n",
        "print(\"Adjusted R2 : \",1-(1-r2)*((X_test.shape[0]-1)/(X_test.shape[0]-X_test.shape[1]-1)))"
      ],
      "execution_count": null,
      "outputs": [
        {
          "output_type": "stream",
          "text": [
            "MSE : 116261159359.33281\n",
            "RMSE : 340970.9069104471\n",
            "R2 : 0.6067752750878823\n",
            "Adjusted R2 :  0.60063593512048\n"
          ],
          "name": "stdout"
        }
      ]
    },
    {
      "cell_type": "code",
      "metadata": {
        "id": "wrQEIjkT0Td3",
        "colab": {
          "base_uri": "https://localhost:8080/",
          "height": 320
        },
        "outputId": "a3efdfb2-64b1-48a1-96a6-950aef3b964b"
      },
      "source": [
        "plt.figure(figsize=(8,5))\n",
        "plt.plot((y_pred_elastic))\n",
        "plt.plot((np.array(y_test)))\n",
        "plt.legend([\"Predicted\",\"Actual\"])\n",
        "plt.show()"
      ],
      "execution_count": null,
      "outputs": [
        {
          "output_type": "display_data",
          "data": {
            "image/png": "[encoded data removed]",
            "text/plain": [
              "<Figure size 576x360 with 1 Axes>"
            ]
          },
          "metadata": {
            "tags": [],
            "needs_background": "light"
          }
        }
      ]
    },
    {
      "cell_type": "markdown",
      "metadata": {
        "id": "A7l389TKMy4a"
      },
      "source": [
        "![Screenshot 2021-05-29 at 6.27.46 PM.png](data:image/png;base64,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)"
      ]
    },
    {
      "cell_type": "markdown",
      "metadata": {
        "id": "zGRIXCZmNDPk"
      },
      "source": [
        "###Conclusion : I tried multiple analysis with outliers, without outliers, and with company_category(specific value assigned acc to mean) and without company category and also calculated RMSE, MSE, R2, Adj R2 in Linear regression, ridge, lasso, elastic. After dropping company category there was a sudden increase in adj R2 in elastic regression and after dropping outliers, our R2 was 0.6. Which shows that these outliers might play a significant role in prediction. So with outliers and our specific columns taken, we got highest R2 in linear regression by applying Zscore on Prediction variables and nplog10 on target variable. Here we got 0.672 R2 which shows the model will be fairly acceptable not the best. and as we have done cross validation in all steps so there are a few chances of underfitting and over fitting."
      ]
    }
  ]
}
